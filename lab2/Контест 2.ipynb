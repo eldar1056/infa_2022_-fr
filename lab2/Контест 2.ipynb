{
 "cells": [
  {
   "cell_type": "code",
   "execution_count": 1,
   "id": "6431ddd4",
   "metadata": {},
   "outputs": [],
   "source": [
    "n = 5\n",
    "m = 6"
   ]
  },
  {
   "cell_type": "markdown",
   "id": "29d95b97",
   "metadata": {},
   "source": [
    "Задача №111197. Слева направо, сверху вниз"
   ]
  },
  {
   "cell_type": "code",
   "execution_count": 2,
   "id": "19085004",
   "metadata": {},
   "outputs": [
    {
     "data": {
      "text/plain": [
       "[[0, 1, 2, 3, 4, 5],\n",
       " [6, 7, 8, 9, 10, 11],\n",
       " [12, 13, 14, 15, 16, 17],\n",
       " [18, 19, 20, 21, 22, 23],\n",
       " [24, 25, 26, 27, 28, 29]]"
      ]
     },
     "execution_count": 2,
     "metadata": {},
     "output_type": "execute_result"
    }
   ],
   "source": [
    "[[i*m+j for j in range(m)]for i in range(n)]"
   ]
  },
  {
   "cell_type": "markdown",
   "id": "52710e82",
   "metadata": {},
   "source": [
    "Задача №111209. Выше и ниже главной диагонали"
   ]
  },
  {
   "cell_type": "code",
   "execution_count": 3,
   "id": "938e59cc",
   "metadata": {},
   "outputs": [
    {
     "data": {
      "text/plain": [
       "[[0, 1, 1, 1, 1, 1],\n",
       " [2, 0, 1, 1, 1, 1],\n",
       " [2, 2, 0, 1, 1, 1],\n",
       " [2, 2, 2, 0, 1, 1],\n",
       " [2, 2, 2, 2, 0, 1]]"
      ]
     },
     "execution_count": 3,
     "metadata": {},
     "output_type": "execute_result"
    }
   ],
   "source": [
    "[[(i!=j)*((i>j)+1) for j in range(m)]for i in range(n)]"
   ]
  },
  {
   "cell_type": "markdown",
   "id": "07453a45",
   "metadata": {},
   "source": [
    "Задача №111201. Квадраты - 1"
   ]
  },
  {
   "cell_type": "code",
   "execution_count": 4,
   "id": "39c12462",
   "metadata": {},
   "outputs": [
    {
     "data": {
      "text/plain": [
       "[[0, 1, 2, 3, 4],\n",
       " [1, 1, 2, 3, 4],\n",
       " [2, 2, 2, 3, 4],\n",
       " [3, 3, 3, 3, 4],\n",
       " [4, 4, 4, 4, 4]]"
      ]
     },
     "execution_count": 4,
     "metadata": {},
     "output_type": "execute_result"
    }
   ],
   "source": [
    "[[max(i, j) for j in range(n)]for i in range(n)]"
   ]
  },
  {
   "cell_type": "markdown",
   "id": "4082dac1",
   "metadata": {},
   "source": [
    "Задача №111329. Построчное обращение"
   ]
  },
  {
   "cell_type": "code",
   "execution_count": 5,
   "id": "92c175e1",
   "metadata": {},
   "outputs": [
    {
     "name": "stdout",
     "output_type": "stream",
     "text": [
      "Complex is better than complicated.\n",
      "Simple is better than complex.\n",
      "Explicit is better than implicit.\n",
      "Beautiful is better than ugly.\n"
     ]
    }
   ],
   "source": [
    "with open(\"C:\\\\Users\\\\Eldar\\\\OneDrive\\\\Рабочий стол\\\\1.txt\", \"r\") as file:\n",
    "    l = file.readlines()\n",
    "\n",
    "    for i in range(len(l)-1, -1, -1):\n",
    "        print(l[i], end='')\n",
    "    "
   ]
  },
  {
   "cell_type": "markdown",
   "id": "658a589a",
   "metadata": {},
   "source": [
    "Задача №111330. Обращение всего файла"
   ]
  },
  {
   "cell_type": "code",
   "execution_count": 6,
   "id": "5ea4c8f3",
   "metadata": {},
   "outputs": [
    {
     "name": "stdout",
     "output_type": "stream",
     "text": [
      "\n",
      ".detacilpmoc naht retteb si xelpmoC\n",
      ".xelpmoc naht retteb si elpmiS\n",
      ".ticilpmi naht retteb si ticilpxE\n",
      ".ylgu naht retteb si lufituaeB"
     ]
    }
   ],
   "source": [
    "with open(\"C:\\\\Users\\\\Eldar\\\\OneDrive\\\\Рабочий стол\\\\1.txt\", \"r\") as file:\n",
    "    l = file.read()\n",
    "\n",
    "    for i in range(len(l)-1, -1, -1):\n",
    "        print(l[i], end='')"
   ]
  },
  {
   "cell_type": "markdown",
   "id": "1ebdb005",
   "metadata": {},
   "source": [
    "Задача №111337. Максимальный балл по классам"
   ]
  },
  {
   "cell_type": "code",
   "execution_count": 9,
   "id": "f4fbe52f",
   "metadata": {},
   "outputs": [
    {
     "name": "stdout",
     "output_type": "stream",
     "text": [
      "93 91 92 "
     ]
    }
   ],
   "source": [
    "import codecs\n",
    "mscore = [0]*3\n",
    "with codecs.open(\"C:\\\\Users\\\\Eldar\\\\OneDrive\\\\Рабочий стол\\\\1.txt\", \"r\", \"utf-8\") as file:\n",
    "    for line in file:\n",
    "        word = line.split()\n",
    "        index = int(word[2])-9\n",
    "        mscore[index] = max(mscore[index], int(word[3]))\n",
    "        \n",
    "for score in mscore:\n",
    "    print(score, end=' ')\n",
    "    "
   ]
  },
  {
   "cell_type": "markdown",
   "id": "094140c7",
   "metadata": {},
   "source": [
    "Задача №111348. Школы, в которых есть победители олимпиады"
   ]
  },
  {
   "cell_type": "code",
   "execution_count": 21,
   "id": "4483f509",
   "metadata": {},
   "outputs": [
    {
     "name": "stdout",
     "output_type": "stream",
     "text": [
      "13 35 "
     ]
    }
   ],
   "source": [
    "schools = set()\n",
    "mscore = 0\n",
    "\n",
    "with codecs.open(\"C:\\\\Users\\\\Eldar\\\\OneDrive\\\\Рабочий стол\\\\1.txt\", \"r\", \"utf-8\") as file:\n",
    "    for line in file:\n",
    "        word = line.split()\n",
    "        \n",
    "        schoolindex = int(word[2])\n",
    "        score = int(word[3])\n",
    "        \n",
    "        if score == mscore:\n",
    "            schools.add(schoolindex)\n",
    "        elif score > mscore:\n",
    "            mscore = score\n",
    "            schhols = set([schoolindex])\n",
    "\n",
    "for schoolindex in sorted(schools):\n",
    "    print(schoolindex, end=' ')"
   ]
  },
  {
   "cell_type": "markdown",
   "id": "fabaa5ec",
   "metadata": {},
   "source": [
    "Задача №111346. Отсортировать список участников по алфавиту"
   ]
  },
  {
   "cell_type": "code",
   "execution_count": 36,
   "id": "80e2a7e7",
   "metadata": {},
   "outputs": [
    {
     "name": "stdout",
     "output_type": "stream",
     "text": [
      "Андреев Роман 14 75\r\n",
      "Васильев Андрей 3 56\r\n",
      "Иванов Сергей 14 56\r\n",
      "Петров Василий 3 99\r\n",
      "Романов Иван 27 68\r\n",
      "Сергеев Петр 23 74\r\n"
     ]
    }
   ],
   "source": [
    "mscore = [0]*3\n",
    "with codecs.open(\"C:\\\\Users\\\\Eldar\\\\OneDrive\\\\Рабочий стол\\\\1.txt\", \"r\", \"utf-8\") as file:\n",
    "    l = file.readlines()\n",
    "    l.sort(key=lambda x : x[0])\n",
    "    \n",
    "    for line in l:\n",
    "        print(line, end='')"
   ]
  },
  {
   "cell_type": "markdown",
   "id": "ab8b87c0",
   "metadata": {},
   "source": [
    "Задача №111338. Средний балл по классам"
   ]
  },
  {
   "cell_type": "code",
   "execution_count": 64,
   "id": "f6274027",
   "metadata": {},
   "outputs": [
    {
     "name": "stdout",
     "output_type": "stream",
     "text": [
      "91.5 91.0 92.0 "
     ]
    }
   ],
   "source": [
    "avg = [[0, 0] for a in range(3)]\n",
    "\n",
    "with codecs.open(\"C:\\\\Users\\\\Eldar\\\\OneDrive\\\\Рабочий стол\\\\1.txt\", \"r\", \"utf-8\") as file:\n",
    "    for line in file:\n",
    "        word = line.split()\n",
    "        index = int(word[2])-9\n",
    "        avg[index][0] += int(word[3])\n",
    "        avg[index][1] += 1\n",
    "    \n",
    "for i in range(len(avg)):\n",
    "    print(avg[i][0]/avg[i][1], end=' ')\n",
    "    "
   ]
  },
  {
   "cell_type": "code",
   "execution_count": null,
   "id": "733433e6",
   "metadata": {},
   "outputs": [],
   "source": []
  }
 ],
 "metadata": {
  "kernelspec": {
   "display_name": "Python 3 (ipykernel)",
   "language": "python",
   "name": "python3"
  },
  "language_info": {
   "codemirror_mode": {
    "name": "ipython",
    "version": 3
   },
   "file_extension": ".py",
   "mimetype": "text/x-python",
   "name": "python",
   "nbconvert_exporter": "python",
   "pygments_lexer": "ipython3",
   "version": "3.10.6"
  }
 },
 "nbformat": 4,
 "nbformat_minor": 5
}
