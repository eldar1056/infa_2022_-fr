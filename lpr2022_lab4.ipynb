{
 "cells": [
  {
   "cell_type": "markdown",
   "metadata": {},
   "source": [
    "# Библиотека numpy"
   ]
  },
  {
   "cell_type": "markdown",
   "metadata": {},
   "source": [
    "**NumPy** — это библиотека языка Python, добавляющая поддержку больших многомерных массивов и матриц, вместе с большой библиотекой высокоуровневых (и очень быстрых) математических функций для операций с этими массивами."
   ]
  },
  {
   "cell_type": "markdown",
   "metadata": {},
   "source": [
    "Основным объектом NumPy является однородный многомерный массив (в numpy называется numpy.ndarray). Это многомерный массив элементов (обычно чисел), одного типа.\n",
    "\n",
    "Наиболее важные атрибуты объектов ndarray:\n",
    "\n",
    "**ndarray.ndim** - число измерений (чаще их называют \"оси\") массива.\n",
    "\n",
    "**ndarray.shape** - размеры массива, его форма. Это кортеж натуральных чисел, показывающий длину массива по каждой оси. Для матрицы из n строк и m столбов, shape будет (n,m). Число элементов кортежа shape равно ndim.\n",
    "\n",
    "**ndarray.size** - количество элементов массива. Очевидно, равно произведению всех элементов атрибута shape.\n",
    "\n",
    "**ndarray.dtype** - объект, описывающий тип элементов массива. Можно определить dtype, используя стандартные типы данных Python. NumPy здесь предоставляет целый букет возможностей, как встроенных, например: bool_, character, int8, int16, int32, int64, float8, float16, float32, float64, complex64, object_, так и возможность определить собственные типы данных, в том числе и составные.\n",
    "\n",
    "**ndarray.itemsize** - размер каждого элемента массива в байтах."
   ]
  },
  {
   "cell_type": "markdown",
   "metadata": {},
   "source": [
    "# Создание массивов"
   ]
  },
  {
   "cell_type": "markdown",
   "metadata": {},
   "source": [
    "В NumPy существует много способов создать массив. Один из наиболее простых - создать массив из обычных списков или кортежей Python, используя функцию numpy.array() (запомните: array - функция, создающая объект типа ndarray):"
   ]
  },
  {
   "cell_type": "code",
   "execution_count": 1,
   "metadata": {},
   "outputs": [
    {
     "data": {
      "text/plain": [
       "array([1, 2, 3])"
      ]
     },
     "execution_count": 1,
     "metadata": {},
     "output_type": "execute_result"
    }
   ],
   "source": [
    "import numpy as np\n",
    "\n",
    "a = np.array([1, 2, 3])\n",
    "a"
   ]
  },
  {
   "cell_type": "code",
   "execution_count": null,
   "metadata": {},
   "outputs": [],
   "source": [
    "type(a)"
   ]
  },
  {
   "cell_type": "markdown",
   "metadata": {},
   "source": [
    "Функция array() трансформирует вложенные последовательности в многомерные массивы. Тип элементов массива зависит от типа элементов исходной последовательности (но можно и переопределить его в момент создания)."
   ]
  },
  {
   "cell_type": "code",
   "execution_count": null,
   "metadata": {},
   "outputs": [],
   "source": [
    "b = np.array([[1.5, 2, 3], [4, 5, 6]])\n",
    "b"
   ]
  },
  {
   "cell_type": "markdown",
   "metadata": {},
   "source": [
    "Можно также переопределить тип в момент создания:"
   ]
  },
  {
   "cell_type": "code",
   "execution_count": null,
   "metadata": {},
   "outputs": [],
   "source": [
    "b = np.array([[1.5, 2, 3], [4, 5, 6]], dtype=np.complex)\n",
    "b"
   ]
  },
  {
   "cell_type": "markdown",
   "metadata": {},
   "source": [
    "Функция array() не единственная функция для создания массивов. Обычно элементы массива вначале неизвестны, а массив, в котором они будут храниться, уже нужен. Поэтому имеется несколько функций для того, чтобы создавать массивы с каким-то исходным содержимым (по умолчанию тип создаваемого массива — float64).\n",
    "\n",
    "Функция zeros() создает массив из нулей, а функция ones() — массив из единиц. Обе функции принимают кортеж с размерами, и аргумент dtype:"
   ]
  },
  {
   "cell_type": "code",
   "execution_count": null,
   "metadata": {},
   "outputs": [],
   "source": [
    "a = np.zeros((3, 5))\n",
    "a"
   ]
  },
  {
   "cell_type": "code",
   "execution_count": null,
   "metadata": {},
   "outputs": [],
   "source": [
    "a = np.ones((2, 2, 2))\n",
    "a"
   ]
  },
  {
   "cell_type": "markdown",
   "metadata": {},
   "source": [
    "Функция eye() создаёт единичную матрицу (двумерный массив)"
   ]
  },
  {
   "cell_type": "code",
   "execution_count": null,
   "metadata": {},
   "outputs": [],
   "source": [
    "a = np.eye(5)\n",
    "a"
   ]
  },
  {
   "cell_type": "markdown",
   "metadata": {},
   "source": [
    "Функция empty() создает массив без его заполнения. Исходное содержимое случайно и зависит от состояния памяти на момент создания массива (то есть от того мусора, что в ней хранится):"
   ]
  },
  {
   "cell_type": "code",
   "execution_count": null,
   "metadata": {},
   "outputs": [],
   "source": [
    "a = np.empty((3, 3))\n",
    "a"
   ]
  },
  {
   "cell_type": "markdown",
   "metadata": {},
   "source": [
    "Для создания последовательностей чисел, в NumPy имеется функция arange(), аналогичная встроенной в Python range(), только вместо списков она возвращает массивы, и принимает не только целые значения:"
   ]
  },
  {
   "cell_type": "code",
   "execution_count": null,
   "metadata": {},
   "outputs": [],
   "source": [
    "a = np.arange(10, 30, 5)\n",
    "a"
   ]
  },
  {
   "cell_type": "code",
   "execution_count": null,
   "metadata": {},
   "outputs": [],
   "source": [
    "a = np.arange(0, 1, 0.1)\n",
    "a"
   ]
  },
  {
   "cell_type": "markdown",
   "metadata": {},
   "source": [
    "Вообще, при использовании arange() с аргументами типа float, сложно быть уверенным в том, сколько элементов будет получено (из-за ограничения точности чисел с плавающей запятой). Поэтому, в таких случаях обычно лучше использовать функцию linspace(), которая вместо шага в качестве одного из аргументов принимает число, равное количеству нужных элементов:"
   ]
  },
  {
   "cell_type": "code",
   "execution_count": null,
   "metadata": {},
   "outputs": [],
   "source": [
    "a = np.linspace(0, 2, 9)  # 9 чисел от 0 до 2 включительно\n",
    "a"
   ]
  },
  {
   "cell_type": "markdown",
   "metadata": {},
   "source": [
    "# Изменение формы массивов"
   ]
  },
  {
   "cell_type": "markdown",
   "metadata": {},
   "source": [
    "Предположим, у нас имеется массив, состоящий из десяти чисел: "
   ]
  },
  {
   "cell_type": "code",
   "execution_count": null,
   "metadata": {},
   "outputs": [],
   "source": [
    "a = np.arange(10)\n",
    "a"
   ]
  },
  {
   "cell_type": "markdown",
   "metadata": {},
   "source": [
    "Для изменения формы этого массива, достаточно указать свойству shape кортеж с новыми размерами, например, так: "
   ]
  },
  {
   "cell_type": "code",
   "execution_count": null,
   "metadata": {},
   "outputs": [],
   "source": [
    "a.shape = 2, 5\n",
    "a"
   ]
  },
  {
   "cell_type": "markdown",
   "metadata": {},
   "source": [
    "В результате изменится представление массива, на которое ссылается переменная a. Если же требуется создать новое представление массива, сохранив прежнее, то следует воспользоваться методом reshape(): "
   ]
  },
  {
   "cell_type": "markdown",
   "metadata": {},
   "source": [
    "b = a.reshape(10)\n",
    "b"
   ]
  },
  {
   "cell_type": "markdown",
   "metadata": {},
   "source": [
    "Cсылки b и a будут использовать одни и те же данные, то есть, изменение массива через b: "
   ]
  },
  {
   "cell_type": "code",
   "execution_count": null,
   "metadata": {},
   "outputs": [],
   "source": [
    "b[0] = -1 # приведет к изменению соответствующего элемента массива a: "
   ]
  },
  {
   "cell_type": "markdown",
   "metadata": {},
   "source": [
    "У свойства shape и метода reshape() размерность должна охватывать все элементы массива. Например, вот такая команда: "
   ]
  },
  {
   "cell_type": "code",
   "execution_count": null,
   "metadata": {},
   "outputs": [],
   "source": [
    "a.shape = 3, 3"
   ]
  },
  {
   "cell_type": "markdown",
   "metadata": {},
   "source": [
    "приведет к ошибке, т.к. размерность 3x3 = 9 элементов, а в массиве 10 элементов. Здесь всегда должно выполняться равенство:\n",
    "\n",
    "n1 x n2 x … x nN = число элементов массива "
   ]
  },
  {
   "cell_type": "markdown",
   "metadata": {},
   "source": [
    "Но допускается делать так: "
   ]
  },
  {
   "cell_type": "code",
   "execution_count": null,
   "metadata": {},
   "outputs": [],
   "source": [
    "a.shape = -1, 2\n",
    "a"
   ]
  },
  {
   "cell_type": "markdown",
   "metadata": {},
   "source": [
    "Отрицательное значение -1 означает автоматическое вычисление размерности по первой оси. По второй берется значение 2. В этом случае получим размерность 5x2.\n",
    "\n",
    "То же самое можно делать и в методе reshape(): "
   ]
  },
  {
   "cell_type": "code",
   "execution_count": null,
   "metadata": {},
   "outputs": [],
   "source": [
    "b.reshape(-1, 1)\n",
    "print(b)\n",
    "b.reshape(1, -1)\n",
    "print(b)"
   ]
  },
  {
   "cell_type": "markdown",
   "metadata": {},
   "source": [
    "Используя отрицательный индекс, можно делать и такие преобразования: "
   ]
  },
  {
   "cell_type": "code",
   "execution_count": null,
   "metadata": {},
   "outputs": [],
   "source": [
    "b.reshape(2, -1)\n",
    "print(b)\n",
    "b.reshape(-1, 2)\n",
    "print(b)"
   ]
  },
  {
   "cell_type": "markdown",
   "metadata": {},
   "source": [
    "Если нам требуется многомерный массив преобразовать в обычный одномерный, то можно воспользоваться методом ravel(), который возвращает новое представление, не меняя текущего: "
   ]
  },
  {
   "cell_type": "code",
   "execution_count": null,
   "metadata": {},
   "outputs": [],
   "source": [
    "c = b.ravel() # с ссылается на одномерное представление массива\n",
    "c"
   ]
  },
  {
   "cell_type": "markdown",
   "metadata": {},
   "source": [
    "Если же нам нужно текущий массив преобразовать в одномерный, то это можно сделать так: "
   ]
  },
  {
   "cell_type": "code",
   "execution_count": null,
   "metadata": {},
   "outputs": [],
   "source": [
    "b.shape = -1"
   ]
  },
  {
   "cell_type": "markdown",
   "metadata": {},
   "source": [
    "Помимо свойства shape можно использовать метод resize, который выполняет подобную операцию с текущим массивом. Например: "
   ]
  },
  {
   "cell_type": "code",
   "execution_count": null,
   "metadata": {},
   "outputs": [],
   "source": [
    "a.resize(2, 5) # массив 2x5"
   ]
  },
  {
   "cell_type": "markdown",
   "metadata": {},
   "source": [
    "Но, как мы уже говорили, вот такая строчка приведет к ошибке: "
   ]
  },
  {
   "cell_type": "code",
   "execution_count": null,
   "metadata": {},
   "outputs": [],
   "source": [
    "a.resize(3, 3)  # ошибка: 3x3 != 10"
   ]
  },
  {
   "cell_type": "markdown",
   "metadata": {},
   "source": [
    "# Транспонирование матриц и векторов"
   ]
  },
  {
   "cell_type": "markdown",
   "metadata": {},
   "source": [
    "Очень часто в математических операциях требуется выполнять транспонирование матриц и векторов, то есть, заменять строки на столбцы. Например, если имеется матрица (двумерный массив): "
   ]
  },
  {
   "cell_type": "code",
   "execution_count": null,
   "metadata": {},
   "outputs": [],
   "source": [
    "a = np.array([(1, 2, 3), (1, 4, 9), (1, 8, 27)])\n",
    "a"
   ]
  },
  {
   "cell_type": "markdown",
   "metadata": {},
   "source": [
    "то операция транспонирования может быть реализована так: "
   ]
  },
  {
   "cell_type": "code",
   "execution_count": null,
   "metadata": {},
   "outputs": [],
   "source": [
    "b = a.T\n",
    "b"
   ]
  },
  {
   "cell_type": "markdown",
   "metadata": {},
   "source": [
    "Обратите внимание, мы здесь создаем лишь новое представление тех же самых данных массива a. И изменение элементов в массиве b: "
   ]
  },
  {
   "cell_type": "code",
   "execution_count": null,
   "metadata": {},
   "outputs": [],
   "source": [
    "b[0, 1] = 10"
   ]
  },
  {
   "cell_type": "markdown",
   "metadata": {},
   "source": [
    "приведет к соответствующему изменению значения элемента и массива a. Это следует помнить, используя операцию транспонирования.\n",
    "\n",
    "Транспонирование векторов работает несколько иначе. Предположим, имеется одномерный массив: "
   ]
  },
  {
   "cell_type": "code",
   "execution_count": null,
   "metadata": {},
   "outputs": [],
   "source": [
    "x = np.arange(1, 10)\n",
    "x"
   ]
  },
  {
   "cell_type": "markdown",
   "metadata": {},
   "source": [
    "и мы выполняем операцию транспонирования: "
   ]
  },
  {
   "cell_type": "code",
   "execution_count": null,
   "metadata": {},
   "outputs": [],
   "source": [
    "x.T\n",
    "x"
   ]
  },
  {
   "cell_type": "markdown",
   "metadata": {},
   "source": [
    "В результате ничего не изменилось: вектор как был строкой, так строкой и остался. Почему? Дело в том, что массив x имеет только одну размерность, поэтому здесь нет понятия строк и столбцов. Соответственно, операция транспонирования ни к чему не приводит. Чтобы получить ожидаемый эффект, нужно добавить к массиву еще одну ось, например, так: "
   ]
  },
  {
   "cell_type": "code",
   "execution_count": null,
   "metadata": {},
   "outputs": [],
   "source": [
    "x.shape = 1, -1"
   ]
  },
  {
   "cell_type": "markdown",
   "metadata": {},
   "source": [
    "И теперь, при транспонировании получим вектор-столбец: "
   ]
  },
  {
   "cell_type": "code",
   "execution_count": null,
   "metadata": {},
   "outputs": [],
   "source": [
    "print(x.T)\n",
    "print(x)"
   ]
  },
  {
   "cell_type": "markdown",
   "metadata": {},
   "source": [
    "# Операции с индексами"
   ]
  },
  {
   "cell_type": "markdown",
   "metadata": {},
   "source": [
    "Оперативная память компьютера линейна, и поэтому даже многомерные массивы, на самом деле являются некоторыми линейными структурами, над которыми существуют система индексов, говорящих как именно читать этот линейный блок. Проведение операций над индексами в большистве случаев эффективно и поэтому операции смены размерности массива или транспонирования выполняются быстро"
   ]
  },
  {
   "cell_type": "code",
   "execution_count": 4,
   "metadata": {},
   "outputs": [
    {
     "name": "stdout",
     "output_type": "stream",
     "text": [
      "[[1 3]\n",
      " [2 4]]\n"
     ]
    }
   ],
   "source": [
    "import numpy as np\n",
    "\n",
    "a = np.asarray([[1,2], [3,4]])\n",
    "b = a.T # Транспонированый массив\n",
    "print(b)"
   ]
  },
  {
   "cell_type": "code",
   "execution_count": 5,
   "metadata": {},
   "outputs": [
    {
     "name": "stdout",
     "output_type": "stream",
     "text": [
      "[[10  3]\n",
      " [ 2  4]]\n"
     ]
    }
   ],
   "source": [
    "b[0,0] = 10\n",
    "print(b)"
   ]
  },
  {
   "cell_type": "code",
   "execution_count": 6,
   "metadata": {},
   "outputs": [
    {
     "name": "stdout",
     "output_type": "stream",
     "text": [
      "[[10  2]\n",
      " [ 3  4]]\n"
     ]
    }
   ],
   "source": [
    "print(a)"
   ]
  },
  {
   "cell_type": "code",
   "execution_count": 7,
   "metadata": {},
   "outputs": [
    {
     "data": {
      "text/plain": [
       "array([[11,  3],\n",
       "       [ 2,  4]])"
      ]
     },
     "execution_count": 7,
     "metadata": {},
     "output_type": "execute_result"
    }
   ],
   "source": [
    "b[0][0] = 11\n",
    "b"
   ]
  },
  {
   "cell_type": "markdown",
   "metadata": {},
   "source": [
    "Как мы видим при изменени переменной b изменилась переменная a. Это произошло потому, что обе эти переменные использубют один и тот же кусок памяти, но по разному."
   ]
  },
  {
   "cell_type": "markdown",
   "metadata": {},
   "source": [
    "# Добавление и удаление осей"
   ]
  },
  {
   "cell_type": "markdown",
   "metadata": {},
   "source": [
    "Часто при работе с массивами NumPy требуется добавлять новые оси измерений и удалять существующие. Есть множество способов выполнять эти операции, но мы рассмотрим два наиболее распространенных с помощью функций:\n",
    "\n",
    "    np.expand_dims(a, axis) – добавление новой оси;\n",
    "    np.squeeze(a[, axis]) – удаление оси (без удаления элементов). \n",
    "\n",
    "Давайте предположим, что у нас имеется некий многомерный массив: "
   ]
  },
  {
   "cell_type": "code",
   "execution_count": null,
   "metadata": {},
   "outputs": [],
   "source": [
    "x_test = np.arange(32).reshape(8, 2, 2) # массив 8x2x2"
   ]
  },
  {
   "cell_type": "markdown",
   "metadata": {},
   "source": [
    "И нам потребовалось добавить еще одно измерение (ось), причем, в самое начало, то есть, ось axis0. Сейчас на этой оси 8 элементов – матриц 2x2, но мы хотим сделать четырехмерный массив, сохранив остальные три оси и их данные без изменений. Как раз это достаточно просто сделать с помощью функции expand_dims, следующим образом: "
   ]
  },
  {
   "cell_type": "code",
   "execution_count": null,
   "metadata": {},
   "outputs": [],
   "source": [
    "x_test4 = np.expand_dims(x_test, axis=0)"
   ]
  },
  {
   "cell_type": "markdown",
   "metadata": {},
   "source": [
    "Обращаясь к свойству shape: "
   ]
  },
  {
   "cell_type": "markdown",
   "metadata": {},
   "source": [
    "x_test4.shape"
   ]
  },
  {
   "cell_type": "markdown",
   "metadata": {},
   "source": [
    "Видим, что массив стал четырехмерным и первая добавленная ось axis0 содержит один элемент – трехмерный массив 8x2x2. При необходимости, мы всегда можем добавить новый элемент на эту ось: "
   ]
  },
  {
   "cell_type": "code",
   "execution_count": null,
   "metadata": {},
   "outputs": [],
   "source": [
    "a = np.append(x_test4, x_test4, axis=0) # размерность (2, 8, 2, 2)\n",
    "a"
   ]
  },
  {
   "cell_type": "markdown",
   "metadata": {},
   "source": [
    "или удалить ненужные элементы: "
   ]
  },
  {
   "cell_type": "code",
   "execution_count": null,
   "metadata": {},
   "outputs": [],
   "source": [
    "b = np.delete(a, 0, axis=0) # размерность (1, 8, 2, 2)\n",
    "b"
   ]
  },
  {
   "cell_type": "markdown",
   "metadata": {},
   "source": [
    "Здесь второй параметр 0 – индекс удаляемого элемента на оси axis0.\n",
    "\n",
    "Если нам нужно добавить последнюю ось в массиве, то для этого можно записать такую команду: "
   ]
  },
  {
   "cell_type": "code",
   "execution_count": null,
   "metadata": {},
   "outputs": [],
   "source": [
    "b = np.expand_dims(x_test4, axis=-1) # размерность (1, 8, 2, 2, 1)"
   ]
  },
  {
   "cell_type": "markdown",
   "metadata": {},
   "source": [
    "Отрицательный индекс -1 – это следующая с конца ось. Если указать индекс -2, то добавится предпоследняя ось и так далее. Отрицательные индексы очень удобно использовать при работе с массивами произвольных размерностей.\n",
    "\n",
    "Следующая функция squeeze позволяет удалить все оси с одним элементом. Например, строчка: "
   ]
  },
  {
   "cell_type": "code",
   "execution_count": null,
   "metadata": {},
   "outputs": [],
   "source": [
    "c = np.squeeze(b) # размерность (8, 2, 2)\n",
    "c"
   ]
  },
  {
   "cell_type": "markdown",
   "metadata": {},
   "source": [
    "превращает массив размерностью (1, 8, 2, 2) в массив размерностью (8, 2, 2). При необходимости, дополнительно мы можем самостоятельно указать оси, которые следует удалять, например, так: "
   ]
  },
  {
   "cell_type": "code",
   "execution_count": null,
   "metadata": {},
   "outputs": [],
   "source": [
    "c = np.squeeze(b, axis=0) # удалит только ось axis0, не затронув другие"
   ]
  },
  {
   "cell_type": "markdown",
   "metadata": {},
   "source": [
    "Но, если указать ось с числом элементов больше 1, то возникнет ошибка: "
   ]
  },
  {
   "cell_type": "code",
   "execution_count": null,
   "metadata": {},
   "outputs": [],
   "source": [
    "c = np.squeeze(b, axis=1) # ошибка, на оси axis1 8 элементов"
   ]
  },
  {
   "cell_type": "markdown",
   "metadata": {},
   "source": [
    "В NumPy добавлять новые оси иногда удобнее с помощью специального объекта np.newaxis. Например, пусть у нас есть одномерный массив: "
   ]
  },
  {
   "cell_type": "code",
   "execution_count": null,
   "metadata": {},
   "outputs": [],
   "source": [
    "a = np.arange(1, 10)\n",
    "a"
   ]
  },
  {
   "cell_type": "markdown",
   "metadata": {},
   "source": [
    "У него одна ось – одно измерение. Добавим еще одну ось, допустим, в начало. С помощью объекта np.newaxis это можно сделать так: "
   ]
  },
  {
   "cell_type": "code",
   "execution_count": null,
   "metadata": {},
   "outputs": [],
   "source": [
    "b = a[np.newaxis, :] # добавление оси axis0\n",
    "print(b)\n",
    "b.shape # (1, 9)"
   ]
  },
  {
   "cell_type": "markdown",
   "metadata": {},
   "source": [
    "Или, можно прописать сразу две оси: "
   ]
  },
  {
   "cell_type": "code",
   "execution_count": null,
   "metadata": {},
   "outputs": [],
   "source": [
    "c = a[np.newaxis, :, np.newaxis]\n",
    "print(c)\n",
    "c.shape # (1, 9, 1)"
   ]
  },
  {
   "cell_type": "markdown",
   "metadata": {},
   "source": [
    "# Базовые математические операции над массивами"
   ]
  },
  {
   "cell_type": "markdown",
   "metadata": {},
   "source": [
    "Предположим, имеется обычный список и массив, созданный на его основе:"
   ]
  },
  {
   "cell_type": "code",
   "execution_count": null,
   "metadata": {},
   "outputs": [],
   "source": [
    "lst = [1, 2, 3]\n",
    "a = np.array([1, 2, 3])"
   ]
  },
  {
   "cell_type": "markdown",
   "metadata": {},
   "source": [
    "Сейчас вы увидите принципиальную разницу между двумя этими объектами. Умножим их на число 2: "
   ]
  },
  {
   "cell_type": "code",
   "execution_count": null,
   "metadata": {},
   "outputs": [],
   "source": [
    "lst*2\n",
    "a*2"
   ]
  },
  {
   "cell_type": "markdown",
   "metadata": {},
   "source": [
    "Видите, при умножении списка языка Python, он дублируется дважды, а при умножении на NumPy массив – каждый его элемент умножается математически на число 2. Если бы мы захотели то же самое реализовать непосредственно на Python, оперируя списками, то пришлось бы делать что-то вроде:"
   ]
  },
  {
   "cell_type": "code",
   "execution_count": null,
   "metadata": {},
   "outputs": [],
   "source": [
    "[x*2 for x in lst]"
   ]
  },
  {
   "cell_type": "markdown",
   "metadata": {},
   "source": [
    "Но выполнялась бы такая конструкция дольше, чем в случае с массивом NumPy. Именно благодаря удобству и скорости библиотека NumPy и приобрела свою популярность."
   ]
  },
  {
   "cell_type": "markdown",
   "metadata": {},
   "source": [
    "Пусть у нас задан тот же одномерный массив: "
   ]
  },
  {
   "cell_type": "code",
   "execution_count": 9,
   "metadata": {},
   "outputs": [],
   "source": [
    "a = np.array([1, 2, 3])"
   ]
  },
  {
   "cell_type": "markdown",
   "metadata": {},
   "source": [
    "Все указанные в таблице операции выполняются следующим образом: "
   ]
  },
  {
   "cell_type": "code",
   "execution_count": 10,
   "metadata": {},
   "outputs": [
    {
     "name": "stdout",
     "output_type": "stream",
     "text": [
      "[-1 -2 -3]\n",
      "[3 4 5]\n",
      "[3 4 5]\n",
      "[-2 -1  0]\n",
      "[ 5 10 15]\n",
      "[0.2 0.4 0.6]\n",
      "[0 1 1]\n",
      "[ 1  8 27]\n",
      "[1 0 1]\n"
     ]
    }
   ],
   "source": [
    "print(-a) # унарный минус\n",
    "print(a + 2) # сложение с числом\n",
    "print(2 + a)  # так тоже можно записывать\n",
    "print(a - 3) # вычитание с числом\n",
    "print(a * 5) # умножение на число\n",
    "print(a / 5)  # деление на число\n",
    "print(a // 2)  # целочисленное деление\n",
    "print(a ** 3)  # возведение в степень 3\n",
    "print(a % 2)  # вычисление по модулю 2"
   ]
  },
  {
   "cell_type": "markdown",
   "metadata": {},
   "source": [
    "Приоритеты этих операций такие же, что и при обычных математических вычислениях. А на выходе мы получаем новый массив с соответствующими значениями.\n",
    "\n",
    "Давайте теперь добавим еще один массив: "
   ]
  },
  {
   "cell_type": "code",
   "execution_count": 11,
   "metadata": {},
   "outputs": [],
   "source": [
    "b = np.array([3, 4, 5])"
   ]
  },
  {
   "cell_type": "markdown",
   "metadata": {},
   "source": [
    "и посмотрим на эти же операции, но с участием двух массивов:"
   ]
  },
  {
   "cell_type": "code",
   "execution_count": 12,
   "metadata": {},
   "outputs": [
    {
     "name": "stdout",
     "output_type": "stream",
     "text": [
      "[-2 -2 -2]\n",
      "[4 6 8]\n",
      "[ 3  8 15]\n",
      "[3.         2.         1.66666667]\n",
      "[3 2 1]\n",
      "[  3  16 125]\n",
      "[0 0 2]\n"
     ]
    }
   ],
   "source": [
    "print(a - b)\n",
    "print(b + a)\n",
    "print(a * b)\n",
    "print(b / a)\n",
    "print(b // a)\n",
    "print(b ** a)\n",
    "print(b % a)"
   ]
  },
  {
   "cell_type": "markdown",
   "metadata": {},
   "source": [
    "Везде мы видим поэлементные операции. Соответственно, чтобы они выполнялись, массивы должны быть согласованы по длине. Например, если взять массив: "
   ]
  },
  {
   "cell_type": "code",
   "execution_count": null,
   "metadata": {},
   "outputs": [],
   "source": [
    "b = np.array([3, 4, 5, 6])"
   ]
  },
  {
   "cell_type": "markdown",
   "metadata": {},
   "source": [
    "и выполнить операцию: "
   ]
  },
  {
   "cell_type": "code",
   "execution_count": null,
   "metadata": {},
   "outputs": [],
   "source": [
    "a + b  # ошибка: длины массивов не совпадают"
   ]
  },
  {
   "cell_type": "markdown",
   "metadata": {},
   "source": [
    "то возникнет ошибка из-за несовпадения длин массивов. Но вот такая операция с двумерным массивом b сработает: "
   ]
  },
  {
   "cell_type": "code",
   "execution_count": null,
   "metadata": {},
   "outputs": [],
   "source": [
    "b = np.arange(1, 7)\n",
    "b.resize(2, 3)\n",
    "a + b"
   ]
  },
  {
   "cell_type": "markdown",
   "metadata": {},
   "source": [
    "В этом случае массив a будет применен к каждой строке массива b. Такое поведение получило название транслирование массивов."
   ]
  },
  {
   "cell_type": "markdown",
   "metadata": {},
   "source": [
    "Все рассмотренные операции можно распространить и на многомерные массивы, главное, чтобы они были согласованы по размерам. Я приведу два небольших примера, так как думаю, общий принцип здесь понятен. Пусть у нас трехмерный и двумерный массивы: "
   ]
  },
  {
   "cell_type": "code",
   "execution_count": null,
   "metadata": {},
   "outputs": [],
   "source": [
    "a = np.arange(1, 19)\n",
    "a.resize(3, 3, 2)\n",
    "b = np.ones((3, 2))"
   ]
  },
  {
   "cell_type": "markdown",
   "metadata": {},
   "source": [
    "С ними можно выполнять такие операции:"
   ]
  },
  {
   "cell_type": "code",
   "execution_count": null,
   "metadata": {},
   "outputs": [],
   "source": [
    "print(a - b)\n",
    "print(a * 10)\n",
    "print(a // b)"
   ]
  },
  {
   "cell_type": "markdown",
   "metadata": {},
   "source": [
    "Если нам нужно произвести какие-либо математические операции с массивом и изменения сохранить в нем же, то удобно использовать сокращенные записи."
   ]
  },
  {
   "cell_type": "code",
   "execution_count": null,
   "metadata": {},
   "outputs": [],
   "source": [
    "a = np.array([1, 2, 6, 8])\n",
    "a += 5\n",
    "b = np.ones(4)\n",
    "b *= a"
   ]
  },
  {
   "cell_type": "markdown",
   "metadata": {},
   "source": [
    "# Элементы линейной алгебры"
   ]
  },
  {
   "cell_type": "markdown",
   "metadata": {},
   "source": [
    "**Упражнение 1**\n",
    "\n",
    "Создайте два вектора.\n",
    "\n",
    "Найдите в документации numpy функции **dot** и **inner** вычислите скалярное произведение векторов."
   ]
  },
  {
   "cell_type": "code",
   "execution_count": 14,
   "metadata": {},
   "outputs": [
    {
     "name": "stdout",
     "output_type": "stream",
     "text": [
      "100204\n"
     ]
    }
   ],
   "source": [
    "v1 = np.array([15, 60, 809, 4])\n",
    "v2 = np.array([5612, 50, 16, 20])\n",
    "\n",
    "print(np.inner(v1, v2))"
   ]
  },
  {
   "cell_type": "markdown",
   "metadata": {},
   "source": [
    "**Упражнение 2**\n",
    "\n",
    "Создайте две матрицы (двумерных массива).\n",
    "\n",
    "Найдите в документации numpy функции **dot** и **matmul** и с помощью этих функций вычислите произведение двух матриц.\n",
    "\n",
    "Создайте диагональную единичную матрицу и выполните умножение одной из предыдущих матриц на единичную матрицу."
   ]
  },
  {
   "cell_type": "code",
   "execution_count": 22,
   "metadata": {},
   "outputs": [
    {
     "name": "stdout",
     "output_type": "stream",
     "text": [
      "[[ 250  256  262  268  274]\n",
      " [ 850  872  894  916  938]\n",
      " [1450 1488 1526 1564 1602]\n",
      " [2050 2104 2158 2212 2266]\n",
      " [2650 2720 2790 2860 2930]]\n",
      "[[30. 31. 32. 33. 34.]\n",
      " [35. 36. 37. 38. 39.]\n",
      " [40. 41. 42. 43. 44.]\n",
      " [45. 46. 47. 48. 49.]]\n"
     ]
    }
   ],
   "source": [
    "m1 = np.arange(0, 20).reshape(5, 4)\n",
    "m2 = np.arange(30, 50).reshape(4, 5)\n",
    "e = np.eye(5)\n",
    "\n",
    "print(np.matmul(m1, m2))\n",
    "print(np.matmul(m2, e))"
   ]
  },
  {
   "cell_type": "markdown",
   "metadata": {},
   "source": [
    "Вычисление нормы вектора:"
   ]
  },
  {
   "cell_type": "code",
   "execution_count": 23,
   "metadata": {},
   "outputs": [
    {
     "data": {
      "text/plain": [
       "10.14889156509222"
      ]
     },
     "execution_count": 23,
     "metadata": {},
     "output_type": "execute_result"
    }
   ],
   "source": [
    "b = np.array([0, 2, 3, 4, 5, 7])\n",
    "d = np.linalg.norm(b)\n",
    "d"
   ]
  },
  {
   "cell_type": "markdown",
   "metadata": {},
   "source": [
    "**Упражнение 3**\n",
    "\n",
    "Вычислите норму матрицы с помощью функции **np.linalg.norm**."
   ]
  },
  {
   "cell_type": "code",
   "execution_count": 24,
   "metadata": {},
   "outputs": [
    {
     "name": "stdout",
     "output_type": "stream",
     "text": [
      "49.69909455915671\n"
     ]
    }
   ],
   "source": [
    "print(np.linalg.norm(m1))"
   ]
  },
  {
   "cell_type": "markdown",
   "metadata": {},
   "source": [
    "**Упражнение 4**\n",
    "\n",
    "Вычислите косинус угла между векторами: $\\normalsize cos\\alpha = \\frac{a*b}{\\|a\\|*\\|b\\|}$"
   ]
  },
  {
   "cell_type": "code",
   "execution_count": 26,
   "metadata": {},
   "outputs": [
    {
     "name": "stdout",
     "output_type": "stream",
     "text": [
      "0.022005257392466525\n"
     ]
    }
   ],
   "source": [
    "print(np.inner(v1, v2)/(np.linalg.norm(v1)*np.linalg.norm(v2)))"
   ]
  },
  {
   "cell_type": "markdown",
   "metadata": {},
   "source": [
    "____________________________________________________________________________________________________________________\n",
    "Вычисление определителя матрицы:"
   ]
  },
  {
   "cell_type": "code",
   "execution_count": 27,
   "metadata": {},
   "outputs": [
    {
     "name": "stdout",
     "output_type": "stream",
     "text": [
      "[[-4 -1  2]\n",
      " [10  4 -1]\n",
      " [ 8  3  1]]\n",
      "-14.000000000000009\n"
     ]
    }
   ],
   "source": [
    "A = np.matrix('-4 -1 2; 10 4 -1; 8 3 1') # еще один способ для создания матрицы\n",
    "print(A)\n",
    "d = np.linalg.det(A)\n",
    "print(d)"
   ]
  },
  {
   "cell_type": "markdown",
   "metadata": {},
   "source": [
    "**Упражнение 5**\n",
    "\n",
    "Транспонируйте матрицу, вычислите определитель. Отличается ли определитель транспонированной матрицы от определителя исходной матрицы?\n",
    "\n",
    "Замените одну из строк матрицы на строку из нулей, вычислите определитель матрицы.\n",
    "\n",
    "Создайте матрицу, у которой две строки переставлены местами по сравнению с исходной матрицей, вычислите определитель новой матрицы.\n",
    "\n",
    "Создайте матрицу с двумя одинаковыми строками, вычислите ее определитель.\n",
    "\n",
    "Умножьте одну из строк исходной матрицы на число, вычислите определитель.\n",
    "\n",
    "Прибавьте к элементам одной строки прибавить элементы другой строки, умноженные на одно и тоже число, вычтслите определитель."
   ]
  },
  {
   "cell_type": "code",
   "execution_count": 65,
   "metadata": {},
   "outputs": [
    {
     "name": "stdout",
     "output_type": "stream",
     "text": [
      "-102345.99999999999 -102345.99999999999\n",
      "0.0\n",
      "102345.99999999999\n",
      "0.0\n",
      "-0.10234599999999995\n",
      "-102345.99999999908\n"
     ]
    }
   ],
   "source": [
    "m = np.array([[1, 6, 91],[16, 49, 30],[29, 46, 933]])\n",
    "\n",
    "mt = m.copy().T\n",
    "print(np.linalg.det(mt), np.linalg.det(m))\n",
    "mt[0] = np.zeros(3)\n",
    "print(np.linalg.det(mt))\n",
    "\n",
    "ms = m.copy()\n",
    "ms[[0, 1]] = ms[[1, 0]]\n",
    "print(np.linalg.det(ms))\n",
    "\n",
    "ms[[0]] = ms[[1]]\n",
    "print(np.linalg.det(ms))\n",
    "\n",
    "print(np.linalg.det(m*0.01))\n",
    "m[[0]] += m[[1]]*10\n",
    "print(np.linalg.det(m))"
   ]
  },
  {
   "cell_type": "markdown",
   "metadata": {},
   "source": [
    "# Построение графиков в matplotlib"
   ]
  },
  {
   "cell_type": "markdown",
   "metadata": {},
   "source": [
    "Построение графика по точкам:"
   ]
  },
  {
   "cell_type": "code",
   "execution_count": 69,
   "metadata": {},
   "outputs": [
    {
     "data": {
      "image/png": "[encoded data removed]",
      "text/plain": [
       "<Figure size 640x480 with 1 Axes>"
      ]
     },
     "metadata": {},
     "output_type": "display_data"
    }
   ],
   "source": [
    "import matplotlib.pyplot as plt\n",
    "plt.plot([1, 2, 3, 4, 5], [1, 2, 3, 4, 5])\n",
    "plt.show()"
   ]
  },
  {
   "cell_type": "markdown",
   "metadata": {},
   "source": [
    "Для начала построим линейную зависимость, дадим нашему графику название, подпишем оси и отобразим сетку:"
   ]
  },
  {
   "cell_type": "code",
   "execution_count": 70,
   "metadata": {},
   "outputs": [
    {
     "data": {
      "text/plain": [
       "[<matplotlib.lines.Line2D at 0x219f9bb5ba0>]"
      ]
     },
     "execution_count": 70,
     "metadata": {},
     "output_type": "execute_result"
    },
    {
     "data": {
      "image/png": "[encoded data removed]",
      "text/plain": [
       "<Figure size 640x480 with 1 Axes>"
      ]
     },
     "metadata": {},
     "output_type": "display_data"
    }
   ],
   "source": [
    "import numpy as np\n",
    "# Независимая (x) и зависимая (y) переменные\n",
    "x = np.linspace(0, 10, 50)\n",
    "y = x\n",
    "\n",
    "# Построение графика\n",
    "plt.title(\"Линейная зависимость y = x\") # заголовок\n",
    "plt.xlabel(\"x\") # ось абсцисс\n",
    "plt.ylabel(\"y\") # ось ординат\n",
    "plt.grid()      # включение отображение сетки\n",
    "plt.plot(x, y)  # построение графика"
   ]
  },
  {
   "cell_type": "markdown",
   "metadata": {},
   "source": [
    "Изменим тип линии и ее цвет, для этого в функцию plot(), в качестве третьего параметра передадим строку, сформированную определенным образом, в нашем случае это “r–”, где “r” означает красный цвет, а “–” – тип линии – пунктирная линия."
   ]
  },
  {
   "cell_type": "code",
   "execution_count": 71,
   "metadata": {},
   "outputs": [
    {
     "data": {
      "text/plain": [
       "[<matplotlib.lines.Line2D at 0x219f9c2aef0>]"
      ]
     },
     "execution_count": 71,
     "metadata": {},
     "output_type": "execute_result"
    },
    {
     "data": {
      "image/png": "[encoded data removed]",
      "text/plain": [
       "<Figure size 640x480 with 1 Axes>"
      ]
     },
     "metadata": {},
     "output_type": "display_data"
    }
   ],
   "source": [
    "# Построение графика\n",
    "plt.title(\"Линейная зависимость y = x\") # заголовок\n",
    "plt.xlabel(\"x\") # ось абсцисс\n",
    "plt.ylabel(\"y\") # ось ординат\n",
    "plt.grid()      # включение отображение сетки\n",
    "plt.plot(x, y, \"r--\")  # построение графика"
   ]
  },
  {
   "cell_type": "markdown",
   "metadata": {},
   "source": [
    "**Несколько графиков на одном поле**\n",
    "\n",
    "Построим несколько графиков на одном поле, для этого добавим квадратичную зависимость:"
   ]
  },
  {
   "cell_type": "code",
   "execution_count": 72,
   "metadata": {},
   "outputs": [
    {
     "data": {
      "text/plain": [
       "[<matplotlib.lines.Line2D at 0x219f9a7c790>,\n",
       " <matplotlib.lines.Line2D at 0x219f9a7c7f0>]"
      ]
     },
     "execution_count": 72,
     "metadata": {},
     "output_type": "execute_result"
    },
    {
     "data": {
      "image/png": "[encoded data removed]",
      "text/plain": [
       "<Figure size 640x480 with 1 Axes>"
      ]
     },
     "metadata": {},
     "output_type": "display_data"
    }
   ],
   "source": [
    "# Линейная зависимость\n",
    "x = np.linspace(0, 10, 50)\n",
    "y1 = x\n",
    "# Квадратичная зависимость\n",
    "y2 = [i**2 for i in x]\n",
    "# Построение графика\n",
    "plt.title(\"Зависимости: y1 = x, y2 = x^2\") # заголовок\n",
    "plt.xlabel(\"x\")         # ось абсцисс\n",
    "plt.ylabel(\"y1, y2\")    # ось ординат\n",
    "plt.grid()              # включение отображение сетки\n",
    "plt.plot(x, y1, x, y2)  # построение графика"
   ]
  },
  {
   "cell_type": "markdown",
   "metadata": {},
   "source": [
    "В приведенном примере в функцию plot() последовательно передаются два массива для построения первого графика и два массива для построения второго, при этом, как вы можете заметить, для обоих графиков массив значений независимой переменной x один и то же."
   ]
  },
  {
   "cell_type": "markdown",
   "metadata": {},
   "source": [
    "**Несколько разделенных полей с графиками**\n",
    "\n",
    "Третья, довольно часто встречающаяся задача – это отобразить два или более различных поля, на которых будет отображено по одному или более графику.\n",
    "\n",
    "Построим уже известные нам две зависимость на разных полях."
   ]
  },
  {
   "cell_type": "code",
   "execution_count": 73,
   "metadata": {},
   "outputs": [
    {
     "data": {
      "image/png": "[encoded data removed]",
      "text/plain": [
       "<Figure size 900x900 with 2 Axes>"
      ]
     },
     "metadata": {},
     "output_type": "display_data"
    }
   ],
   "source": [
    "# Линейная зависимость\n",
    "x = np.linspace(0, 10, 50)\n",
    "y1 = x\n",
    "# Квадратичная зависимость\n",
    "y2 = [i**2 for i in x]\n",
    "# Построение графиков\n",
    "plt.figure(figsize=(9, 9))\n",
    "plt.subplot(2, 1, 1)\n",
    "plt.plot(x, y1)               # построение графика\n",
    "plt.title(\"Зависимости: y1 = x, y2 = x^2\") # заголовок\n",
    "plt.ylabel(\"y1\", fontsize=14) # ось ординат\n",
    "plt.grid(True)                # включение отображение сетки\n",
    "plt.subplot(2, 1, 2)\n",
    "plt.plot(x, y2)               # построение графика\n",
    "plt.xlabel(\"x\", fontsize=14)  # ось абсцисс\n",
    "plt.ylabel(\"y2\", fontsize=14) # ось ординат\n",
    "plt.grid(True)                # включение отображение сетки"
   ]
  },
  {
   "cell_type": "markdown",
   "metadata": {},
   "source": [
    "Здесь мы воспользовались новыми функциями: \n",
    "\n",
    "figure() – функция для задания глобальных параметров отображения графиков. В нее, в качестве аргумента, мы передаем кортеж, определяющий размер общего поля. \n",
    "\n",
    "subplot() – функция для задания местоположения поля с графиком. Существует несколько способов задания областей для вывода через функцию subplot() мы воспользовались следующим: первый аргумент – количество строк, второй – столбцов в формируемом поле, третий – индекс (номер поля, считаем сверху вниз, слева направо).\n",
    "\n",
    "Дополнительно мы использовали параметр fontsize для функций xlabel() и ylabel(), для задания размера шрифта."
   ]
  },
  {
   "cell_type": "markdown",
   "metadata": {},
   "source": [
    "**Точечная диаграмма (scatter plot)**"
   ]
  },
  {
   "cell_type": "code",
   "execution_count": 74,
   "metadata": {},
   "outputs": [
    {
     "name": "stdout",
     "output_type": "stream",
     "text": [
      "x [0.36431509 0.62803119 0.15333212 0.40769834 0.58846389 0.38331057\n",
      " 0.37790329 0.75674434 0.61722596 0.40232033 0.01447657 0.24266632\n",
      " 0.14373436 0.77343076 0.95662657 0.59790376 0.57835411 0.29855803\n",
      " 0.47625734 0.03213618 0.66408644 0.92651439 0.75233114 0.59413742\n",
      " 0.60377171 0.68341016 0.22191929 0.64382945 0.44371498 0.20012015\n",
      " 0.82897791 0.25586709 0.41502017 0.43989527 0.54021072 0.40506315\n",
      " 0.85671932 0.41718362 0.11002874 0.66139318 0.14786337 0.61270451\n",
      " 0.14884938 0.99939992 0.11721094 0.70386124 0.78543749 0.72848281\n",
      " 0.60810076 0.30916959]\n",
      "y [0.56111201 0.60685436 0.25034309 0.84135997 0.76528091 0.01081322\n",
      " 0.18197033 0.10880746 0.22759448 0.61970998 0.52260604 0.99969901\n",
      " 0.17998838 0.13845607 0.26026907 0.99489817 0.845273   0.23740555\n",
      " 0.4696584  0.96850826 0.3449454  0.06954317 0.97566773 0.38189462\n",
      " 0.83184139 0.02788636 0.50218945 0.95809576 0.68929157 0.65300025\n",
      " 0.76390678 0.80853444 0.11831582 0.02582714 0.04933572 0.02788678\n",
      " 0.01958028 0.29377978 0.29909843 0.97931106 0.42407946 0.82289589\n",
      " 0.48349774 0.31657351 0.0456572  0.76645304 0.04572333 0.20104659\n",
      " 0.65524156 0.89263721]\n"
     ]
    },
    {
     "data": {
      "image/png": "[encoded data removed]",
      "text/plain": [
       "<Figure size 640x480 with 1 Axes>"
      ]
     },
     "metadata": {},
     "output_type": "display_data"
    }
   ],
   "source": [
    "import numpy as np\n",
    "import matplotlib.pyplot as plt\n",
    "\n",
    "\n",
    "N = 50\n",
    "x = np.random.rand(N) # случайный вектор из 50 элементов\n",
    "print(\"x\", x)\n",
    "y = np.random.rand(N) # случайный вектор из 50 элементов\n",
    "print(\"y\", y)\n",
    "colors = np.random.rand(N) # случайный вектор из 50 элементов, чтобы задавать цвета каждой из точек\n",
    "area = (30 * np.random.rand(N))**2 # случайные площади каждой из точек\n",
    "\n",
    "plt.scatter(x, y, s=area, c=colors, alpha=0.5) # нанесение точек на диаграмму, x и y - координаты\n",
    "                                               # area - площади точек, colors - цвета точек\n",
    "                                               # alpha - значение прозрачности точек\n",
    "plt.show()"
   ]
  },
  {
   "cell_type": "markdown",
   "metadata": {},
   "source": [
    "**Пример с вычислением числа $\\pi$ с помощью метода Монте Карло и визуализация результатов**"
   ]
  },
  {
   "cell_type": "markdown",
   "metadata": {},
   "source": [
    "Переключим режим отображения графиков в notebook:"
   ]
  },
  {
   "cell_type": "code",
   "execution_count": 75,
   "metadata": {},
   "outputs": [],
   "source": [
    "%matplotlib notebook"
   ]
  },
  {
   "cell_type": "code",
   "execution_count": 76,
   "metadata": {},
   "outputs": [],
   "source": [
    "import matplotlib.pyplot as plt\n",
    "import numpy as np\n",
    "from matplotlib.axes import Axes\n",
    "from scipy.stats import norm\n",
    "\n",
    "class PiAnimation:\n",
    "    def __init__(self, ax: Axes, ax_pi: Axes, ax_gaus: Axes):\n",
    "        self.inner = 0\n",
    "        self.out = 0\n",
    "\n",
    "        self.xi, self.yi = [], []\n",
    "        self.xo, self.yo = [], []\n",
    "\n",
    "        ax.set_xlim(-1.0, 1.5)\n",
    "        ax.set_ylim(-1.0, 1.5)\n",
    "        ax.axis(\"off\")\n",
    "        ax.add_artist(plt.Circle((0.0, 0.0), 1, fill=False))\n",
    "        ax.add_artist(plt.Rectangle((-1, -1), 2, 2, fill=False))\n",
    "\n",
    "        self.line_i = ax.plot(self.xi, self.yi, \"ro\")[0]\n",
    "        self.line_o = ax.plot(self.xo, self.yo, \"bo\")[0]\n",
    "        self.text = ax.text(0.3, 1.1, \"\", fontdict={\"fontsize\": 32})\n",
    "        self.text_n = ax.text(-0.9, 1.1, \"\", fontdict={\"fontsize\": 32})\n",
    "\n",
    "        self.ax_pi = ax_pi\n",
    "        self.pi = []\n",
    "        self.pi_line = ax_pi.plot([], self.pi,\"-\")[0]\n",
    "        ax_pi.set_ylim(0, 2*np.pi)\n",
    "\n",
    "        self.ax_gaus = ax_gaus\n",
    "        self.gauss_point = np.linspace(0.5*np.pi, 1.5 * np.pi, 200)\n",
    "        self.gauss = ax_gaus.plot(self.gauss_point, np.zeros(200), \"\")[0]\n",
    "\n",
    "    def __call__(self, n):\n",
    "        x, y = 2*(np.random.random_sample(2) - 0.5)\n",
    "        if x ** 2 + y ** 2 <= 1:\n",
    "            self.inner += 1\n",
    "            self.xi.append(x)\n",
    "            self.yi.append(y)\n",
    "            self.line_i.set_data(self.xi, self.yi)\n",
    "        else:\n",
    "            self.out +=1\n",
    "            self.xo.append(x)\n",
    "            self.yo.append(y)\n",
    "            self.line_o.set_data(self.xo, self.yo)\n",
    "        N = self.inner + self.out\n",
    "        prob = self.inner/N\n",
    "        pi = 4*prob\n",
    "        self.pi.append(pi)\n",
    "        self.text.set_text(r\"$\\pi = {:.5}$\".format(pi))\n",
    "        self.text_n.set_text(\"N = {:5d}   \".format(N))\n",
    "\n",
    "        self.pi_line.set_data(range(N), self.pi)\n",
    "        self.ax_pi.relim()\n",
    "        self.ax_pi.autoscale()\n",
    "\n",
    "        mean, var = np.mean(self.pi), np.var(self.pi)\n",
    "\n",
    "        if N > 3:\n",
    "            self.gauss.set_data(self.gauss_point, norm.pdf(self.gauss_point, loc = mean, scale = var))\n",
    "            self.ax_gaus.relim()\n",
    "            self.ax_gaus.autoscale()\n",
    "        return self.line_i, self.line_o, self.text, self.text_n, self.pi_line, self.gauss"
   ]
  },
  {
   "cell_type": "code",
   "execution_count": 77,
   "metadata": {},
   "outputs": [
    {
     "data": {
      "application/javascript": [
       "/* Put everything inside the global mpl namespace */\n",
       "/* global mpl */\n",
       "window.mpl = {};\n",
       "\n",
       "mpl.get_websocket_type = function () {\n",
       "    if (typeof WebSocket !== 'undefined') {\n",
       "        return WebSocket;\n",
       "    } else if (typeof MozWebSocket !== 'undefined') {\n",
       "        return MozWebSocket;\n",
       "    } else {\n",
       "        alert(\n",
       "            'Your browser does not have WebSocket support. ' +\n",
       "                'Please try Chrome, Safari or Firefox ≥ 6. ' +\n",
       "                'Firefox 4 and 5 are also supported but you ' +\n",
       "                'have to enable WebSockets in about:config.'\n",
       "        );\n",
       "    }\n",
       "};\n",
       "\n",
       "mpl.figure = function (figure_id, websocket, ondownload, parent_element) {\n",
       "    this.id = figure_id;\n",
       "\n",
       "    this.ws = websocket;\n",
       "\n",
       "    this.supports_binary = this.ws.binaryType !== undefined;\n",
       "\n",
       "    if (!this.supports_binary) {\n",
       "        var warnings = document.getElementById('mpl-warnings');\n",
       "        if (warnings) {\n",
       "            warnings.style.display = 'block';\n",
       "            warnings.textContent =\n",
       "                'This browser does not support binary websocket messages. ' +\n",
       "                'Performance may be slow.';\n",
       "        }\n",
       "    }\n",
       "\n",
       "    this.imageObj = new Image();\n",
       "\n",
       "    this.context = undefined;\n",
       "    this.message = undefined;\n",
       "    this.canvas = undefined;\n",
       "    this.rubberband_canvas = undefined;\n",
       "    this.rubberband_context = undefined;\n",
       "    this.format_dropdown = undefined;\n",
       "\n",
       "    this.image_mode = 'full';\n",
       "\n",
       "    this.root = document.createElement('div');\n",
       "    this.root.setAttribute('style', 'display: inline-block');\n",
       "    this._root_extra_style(this.root);\n",
       "\n",
       "    parent_element.appendChild(this.root);\n",
       "\n",
       "    this._init_header(this);\n",
       "    this._init_canvas(this);\n",
       "    this._init_toolbar(this);\n",
       "\n",
       "    var fig = this;\n",
       "\n",
       "    this.waiting = false;\n",
       "\n",
       "    this.ws.onopen = function () {\n",
       "        fig.send_message('supports_binary', { value: fig.supports_binary });\n",
       "        fig.send_message('send_image_mode', {});\n",
       "        if (fig.ratio !== 1) {\n",
       "            fig.send_message('set_device_pixel_ratio', {\n",
       "                device_pixel_ratio: fig.ratio,\n",
       "            });\n",
       "        }\n",
       "        fig.send_message('refresh', {});\n",
       "    };\n",
       "\n",
       "    this.imageObj.onload = function () {\n",
       "        if (fig.image_mode === 'full') {\n",
       "            // Full images could contain transparency (where diff images\n",
       "            // almost always do), so we need to clear the canvas so that\n",
       "            // there is no ghosting.\n",
       "            fig.context.clearRect(0, 0, fig.canvas.width, fig.canvas.height);\n",
       "        }\n",
       "        fig.context.drawImage(fig.imageObj, 0, 0);\n",
       "    };\n",
       "\n",
       "    this.imageObj.onunload = function () {\n",
       "        fig.ws.close();\n",
       "    };\n",
       "\n",
       "    this.ws.onmessage = this._make_on_message_function(this);\n",
       "\n",
       "    this.ondownload = ondownload;\n",
       "};\n",
       "\n",
       "mpl.figure.prototype._init_header = function () {\n",
       "    var titlebar = document.createElement('div');\n",
       "    titlebar.classList =\n",
       "        'ui-dialog-titlebar ui-widget-header ui-corner-all ui-helper-clearfix';\n",
       "    var titletext = document.createElement('div');\n",
       "    titletext.classList = 'ui-dialog-title';\n",
       "    titletext.setAttribute(\n",
       "        'style',\n",
       "        'width: 100%; text-align: center; padding: 3px;'\n",
       "    );\n",
       "    titlebar.appendChild(titletext);\n",
       "    this.root.appendChild(titlebar);\n",
       "    this.header = titletext;\n",
       "};\n",
       "\n",
       "mpl.figure.prototype._canvas_extra_style = function (_canvas_div) {};\n",
       "\n",
       "mpl.figure.prototype._root_extra_style = function (_canvas_div) {};\n",
       "\n",
       "mpl.figure.prototype._init_canvas = function () {\n",
       "    var fig = this;\n",
       "\n",
       "    var canvas_div = (this.canvas_div = document.createElement('div'));\n",
       "    canvas_div.setAttribute(\n",
       "        'style',\n",
       "        'border: 1px solid #ddd;' +\n",
       "            'box-sizing: content-box;' +\n",
       "            'clear: both;' +\n",
       "            'min-height: 1px;' +\n",
       "            'min-width: 1px;' +\n",
       "            'outline: 0;' +\n",
       "            'overflow: hidden;' +\n",
       "            'position: relative;' +\n",
       "            'resize: both;'\n",
       "    );\n",
       "\n",
       "    function on_keyboard_event_closure(name) {\n",
       "        return function (event) {\n",
       "            return fig.key_event(event, name);\n",
       "        };\n",
       "    }\n",
       "\n",
       "    canvas_div.addEventListener(\n",
       "        'keydown',\n",
       "        on_keyboard_event_closure('key_press')\n",
       "    );\n",
       "    canvas_div.addEventListener(\n",
       "        'keyup',\n",
       "        on_keyboard_event_closure('key_release')\n",
       "    );\n",
       "\n",
       "    this._canvas_extra_style(canvas_div);\n",
       "    this.root.appendChild(canvas_div);\n",
       "\n",
       "    var canvas = (this.canvas = document.createElement('canvas'));\n",
       "    canvas.classList.add('mpl-canvas');\n",
       "    canvas.setAttribute('style', 'box-sizing: content-box;');\n",
       "\n",
       "    this.context = canvas.getContext('2d');\n",
       "\n",
       "    var backingStore =\n",
       "        this.context.backingStorePixelRatio ||\n",
       "        this.context.webkitBackingStorePixelRatio ||\n",
       "        this.context.mozBackingStorePixelRatio ||\n",
       "        this.context.msBackingStorePixelRatio ||\n",
       "        this.context.oBackingStorePixelRatio ||\n",
       "        this.context.backingStorePixelRatio ||\n",
       "        1;\n",
       "\n",
       "    this.ratio = (window.devicePixelRatio || 1) / backingStore;\n",
       "\n",
       "    var rubberband_canvas = (this.rubberband_canvas = document.createElement(\n",
       "        'canvas'\n",
       "    ));\n",
       "    rubberband_canvas.setAttribute(\n",
       "        'style',\n",
       "        'box-sizing: content-box; position: absolute; left: 0; top: 0; z-index: 1;'\n",
       "    );\n",
       "\n",
       "    // Apply a ponyfill if ResizeObserver is not implemented by browser.\n",
       "    if (this.ResizeObserver === undefined) {\n",
       "        if (window.ResizeObserver !== undefined) {\n",
       "            this.ResizeObserver = window.ResizeObserver;\n",
       "        } else {\n",
       "            var obs = _JSXTOOLS_RESIZE_OBSERVER({});\n",
       "            this.ResizeObserver = obs.ResizeObserver;\n",
       "        }\n",
       "    }\n",
       "\n",
       "    this.resizeObserverInstance = new this.ResizeObserver(function (entries) {\n",
       "        var nentries = entries.length;\n",
       "        for (var i = 0; i < nentries; i++) {\n",
       "            var entry = entries[i];\n",
       "            var width, height;\n",
       "            if (entry.contentBoxSize) {\n",
       "                if (entry.contentBoxSize instanceof Array) {\n",
       "                    // Chrome 84 implements new version of spec.\n",
       "                    width = entry.contentBoxSize[0].inlineSize;\n",
       "                    height = entry.contentBoxSize[0].blockSize;\n",
       "                } else {\n",
       "                    // Firefox implements old version of spec.\n",
       "                    width = entry.contentBoxSize.inlineSize;\n",
       "                    height = entry.contentBoxSize.blockSize;\n",
       "                }\n",
       "            } else {\n",
       "                // Chrome <84 implements even older version of spec.\n",
       "                width = entry.contentRect.width;\n",
       "                height = entry.contentRect.height;\n",
       "            }\n",
       "\n",
       "            // Keep the size of the canvas and rubber band canvas in sync with\n",
       "            // the canvas container.\n",
       "            if (entry.devicePixelContentBoxSize) {\n",
       "                // Chrome 84 implements new version of spec.\n",
       "                canvas.setAttribute(\n",
       "                    'width',\n",
       "                    entry.devicePixelContentBoxSize[0].inlineSize\n",
       "                );\n",
       "                canvas.setAttribute(\n",
       "                    'height',\n",
       "                    entry.devicePixelContentBoxSize[0].blockSize\n",
       "                );\n",
       "            } else {\n",
       "                canvas.setAttribute('width', width * fig.ratio);\n",
       "                canvas.setAttribute('height', height * fig.ratio);\n",
       "            }\n",
       "            canvas.setAttribute(\n",
       "                'style',\n",
       "                'width: ' + width + 'px; height: ' + height + 'px;'\n",
       "            );\n",
       "\n",
       "            rubberband_canvas.setAttribute('width', width);\n",
       "            rubberband_canvas.setAttribute('height', height);\n",
       "\n",
       "            // And update the size in Python. We ignore the initial 0/0 size\n",
       "            // that occurs as the element is placed into the DOM, which should\n",
       "            // otherwise not happen due to the minimum size styling.\n",
       "            if (fig.ws.readyState == 1 && width != 0 && height != 0) {\n",
       "                fig.request_resize(width, height);\n",
       "            }\n",
       "        }\n",
       "    });\n",
       "    this.resizeObserverInstance.observe(canvas_div);\n",
       "\n",
       "    function on_mouse_event_closure(name) {\n",
       "        return function (event) {\n",
       "            return fig.mouse_event(event, name);\n",
       "        };\n",
       "    }\n",
       "\n",
       "    rubberband_canvas.addEventListener(\n",
       "        'mousedown',\n",
       "        on_mouse_event_closure('button_press')\n",
       "    );\n",
       "    rubberband_canvas.addEventListener(\n",
       "        'mouseup',\n",
       "        on_mouse_event_closure('button_release')\n",
       "    );\n",
       "    rubberband_canvas.addEventListener(\n",
       "        'dblclick',\n",
       "        on_mouse_event_closure('dblclick')\n",
       "    );\n",
       "    // Throttle sequential mouse events to 1 every 20ms.\n",
       "    rubberband_canvas.addEventListener(\n",
       "        'mousemove',\n",
       "        on_mouse_event_closure('motion_notify')\n",
       "    );\n",
       "\n",
       "    rubberband_canvas.addEventListener(\n",
       "        'mouseenter',\n",
       "        on_mouse_event_closure('figure_enter')\n",
       "    );\n",
       "    rubberband_canvas.addEventListener(\n",
       "        'mouseleave',\n",
       "        on_mouse_event_closure('figure_leave')\n",
       "    );\n",
       "\n",
       "    canvas_div.addEventListener('wheel', function (event) {\n",
       "        if (event.deltaY < 0) {\n",
       "            event.step = 1;\n",
       "        } else {\n",
       "            event.step = -1;\n",
       "        }\n",
       "        on_mouse_event_closure('scroll')(event);\n",
       "    });\n",
       "\n",
       "    canvas_div.appendChild(canvas);\n",
       "    canvas_div.appendChild(rubberband_canvas);\n",
       "\n",
       "    this.rubberband_context = rubberband_canvas.getContext('2d');\n",
       "    this.rubberband_context.strokeStyle = '#000000';\n",
       "\n",
       "    this._resize_canvas = function (width, height, forward) {\n",
       "        if (forward) {\n",
       "            canvas_div.style.width = width + 'px';\n",
       "            canvas_div.style.height = height + 'px';\n",
       "        }\n",
       "    };\n",
       "\n",
       "    // Disable right mouse context menu.\n",
       "    this.rubberband_canvas.addEventListener('contextmenu', function (_e) {\n",
       "        event.preventDefault();\n",
       "        return false;\n",
       "    });\n",
       "\n",
       "    function set_focus() {\n",
       "        canvas.focus();\n",
       "        canvas_div.focus();\n",
       "    }\n",
       "\n",
       "    window.setTimeout(set_focus, 100);\n",
       "};\n",
       "\n",
       "mpl.figure.prototype._init_toolbar = function () {\n",
       "    var fig = this;\n",
       "\n",
       "    var toolbar = document.createElement('div');\n",
       "    toolbar.classList = 'mpl-toolbar';\n",
       "    this.root.appendChild(toolbar);\n",
       "\n",
       "    function on_click_closure(name) {\n",
       "        return function (_event) {\n",
       "            return fig.toolbar_button_onclick(name);\n",
       "        };\n",
       "    }\n",
       "\n",
       "    function on_mouseover_closure(tooltip) {\n",
       "        return function (event) {\n",
       "            if (!event.currentTarget.disabled) {\n",
       "                return fig.toolbar_button_onmouseover(tooltip);\n",
       "            }\n",
       "        };\n",
       "    }\n",
       "\n",
       "    fig.buttons = {};\n",
       "    var buttonGroup = document.createElement('div');\n",
       "    buttonGroup.classList = 'mpl-button-group';\n",
       "    for (var toolbar_ind in mpl.toolbar_items) {\n",
       "        var name = mpl.toolbar_items[toolbar_ind][0];\n",
       "        var tooltip = mpl.toolbar_items[toolbar_ind][1];\n",
       "        var image = mpl.toolbar_items[toolbar_ind][2];\n",
       "        var method_name = mpl.toolbar_items[toolbar_ind][3];\n",
       "\n",
       "        if (!name) {\n",
       "            /* Instead of a spacer, we start a new button group. */\n",
       "            if (buttonGroup.hasChildNodes()) {\n",
       "                toolbar.appendChild(buttonGroup);\n",
       "            }\n",
       "            buttonGroup = document.createElement('div');\n",
       "            buttonGroup.classList = 'mpl-button-group';\n",
       "            continue;\n",
       "        }\n",
       "\n",
       "        var button = (fig.buttons[name] = document.createElement('button'));\n",
       "        button.classList = 'mpl-widget';\n",
       "        button.setAttribute('role', 'button');\n",
       "        button.setAttribute('aria-disabled', 'false');\n",
       "        button.addEventListener('click', on_click_closure(method_name));\n",
       "        button.addEventListener('mouseover', on_mouseover_closure(tooltip));\n",
       "\n",
       "        var icon_img = document.createElement('img');\n",
       "        icon_img.src = '_images/' + image + '.png';\n",
       "        icon_img.srcset = '_images/' + image + '_large.png 2x';\n",
       "        icon_img.alt = tooltip;\n",
       "        button.appendChild(icon_img);\n",
       "\n",
       "        buttonGroup.appendChild(button);\n",
       "    }\n",
       "\n",
       "    if (buttonGroup.hasChildNodes()) {\n",
       "        toolbar.appendChild(buttonGroup);\n",
       "    }\n",
       "\n",
       "    var fmt_picker = document.createElement('select');\n",
       "    fmt_picker.classList = 'mpl-widget';\n",
       "    toolbar.appendChild(fmt_picker);\n",
       "    this.format_dropdown = fmt_picker;\n",
       "\n",
       "    for (var ind in mpl.extensions) {\n",
       "        var fmt = mpl.extensions[ind];\n",
       "        var option = document.createElement('option');\n",
       "        option.selected = fmt === mpl.default_extension;\n",
       "        option.innerHTML = fmt;\n",
       "        fmt_picker.appendChild(option);\n",
       "    }\n",
       "\n",
       "    var status_bar = document.createElement('span');\n",
       "    status_bar.classList = 'mpl-message';\n",
       "    toolbar.appendChild(status_bar);\n",
       "    this.message = status_bar;\n",
       "};\n",
       "\n",
       "mpl.figure.prototype.request_resize = function (x_pixels, y_pixels) {\n",
       "    // Request matplotlib to resize the figure. Matplotlib will then trigger a resize in the client,\n",
       "    // which will in turn request a refresh of the image.\n",
       "    this.send_message('resize', { width: x_pixels, height: y_pixels });\n",
       "};\n",
       "\n",
       "mpl.figure.prototype.send_message = function (type, properties) {\n",
       "    properties['type'] = type;\n",
       "    properties['figure_id'] = this.id;\n",
       "    this.ws.send(JSON.stringify(properties));\n",
       "};\n",
       "\n",
       "mpl.figure.prototype.send_draw_message = function () {\n",
       "    if (!this.waiting) {\n",
       "        this.waiting = true;\n",
       "        this.ws.send(JSON.stringify({ type: 'draw', figure_id: this.id }));\n",
       "    }\n",
       "};\n",
       "\n",
       "mpl.figure.prototype.handle_save = function (fig, _msg) {\n",
       "    var format_dropdown = fig.format_dropdown;\n",
       "    var format = format_dropdown.options[format_dropdown.selectedIndex].value;\n",
       "    fig.ondownload(fig, format);\n",
       "};\n",
       "\n",
       "mpl.figure.prototype.handle_resize = function (fig, msg) {\n",
       "    var size = msg['size'];\n",
       "    if (size[0] !== fig.canvas.width || size[1] !== fig.canvas.height) {\n",
       "        fig._resize_canvas(size[0], size[1], msg['forward']);\n",
       "        fig.send_message('refresh', {});\n",
       "    }\n",
       "};\n",
       "\n",
       "mpl.figure.prototype.handle_rubberband = function (fig, msg) {\n",
       "    var x0 = msg['x0'] / fig.ratio;\n",
       "    var y0 = (fig.canvas.height - msg['y0']) / fig.ratio;\n",
       "    var x1 = msg['x1'] / fig.ratio;\n",
       "    var y1 = (fig.canvas.height - msg['y1']) / fig.ratio;\n",
       "    x0 = Math.floor(x0) + 0.5;\n",
       "    y0 = Math.floor(y0) + 0.5;\n",
       "    x1 = Math.floor(x1) + 0.5;\n",
       "    y1 = Math.floor(y1) + 0.5;\n",
       "    var min_x = Math.min(x0, x1);\n",
       "    var min_y = Math.min(y0, y1);\n",
       "    var width = Math.abs(x1 - x0);\n",
       "    var height = Math.abs(y1 - y0);\n",
       "\n",
       "    fig.rubberband_context.clearRect(\n",
       "        0,\n",
       "        0,\n",
       "        fig.canvas.width / fig.ratio,\n",
       "        fig.canvas.height / fig.ratio\n",
       "    );\n",
       "\n",
       "    fig.rubberband_context.strokeRect(min_x, min_y, width, height);\n",
       "};\n",
       "\n",
       "mpl.figure.prototype.handle_figure_label = function (fig, msg) {\n",
       "    // Updates the figure title.\n",
       "    fig.header.textContent = msg['label'];\n",
       "};\n",
       "\n",
       "mpl.figure.prototype.handle_cursor = function (fig, msg) {\n",
       "    fig.rubberband_canvas.style.cursor = msg['cursor'];\n",
       "};\n",
       "\n",
       "mpl.figure.prototype.handle_message = function (fig, msg) {\n",
       "    fig.message.textContent = msg['message'];\n",
       "};\n",
       "\n",
       "mpl.figure.prototype.handle_draw = function (fig, _msg) {\n",
       "    // Request the server to send over a new figure.\n",
       "    fig.send_draw_message();\n",
       "};\n",
       "\n",
       "mpl.figure.prototype.handle_image_mode = function (fig, msg) {\n",
       "    fig.image_mode = msg['mode'];\n",
       "};\n",
       "\n",
       "mpl.figure.prototype.handle_history_buttons = function (fig, msg) {\n",
       "    for (var key in msg) {\n",
       "        if (!(key in fig.buttons)) {\n",
       "            continue;\n",
       "        }\n",
       "        fig.buttons[key].disabled = !msg[key];\n",
       "        fig.buttons[key].setAttribute('aria-disabled', !msg[key]);\n",
       "    }\n",
       "};\n",
       "\n",
       "mpl.figure.prototype.handle_navigate_mode = function (fig, msg) {\n",
       "    if (msg['mode'] === 'PAN') {\n",
       "        fig.buttons['Pan'].classList.add('active');\n",
       "        fig.buttons['Zoom'].classList.remove('active');\n",
       "    } else if (msg['mode'] === 'ZOOM') {\n",
       "        fig.buttons['Pan'].classList.remove('active');\n",
       "        fig.buttons['Zoom'].classList.add('active');\n",
       "    } else {\n",
       "        fig.buttons['Pan'].classList.remove('active');\n",
       "        fig.buttons['Zoom'].classList.remove('active');\n",
       "    }\n",
       "};\n",
       "\n",
       "mpl.figure.prototype.updated_canvas_event = function () {\n",
       "    // Called whenever the canvas gets updated.\n",
       "    this.send_message('ack', {});\n",
       "};\n",
       "\n",
       "// A function to construct a web socket function for onmessage handling.\n",
       "// Called in the figure constructor.\n",
       "mpl.figure.prototype._make_on_message_function = function (fig) {\n",
       "    return function socket_on_message(evt) {\n",
       "        if (evt.data instanceof Blob) {\n",
       "            var img = evt.data;\n",
       "            if (img.type !== 'image/png') {\n",
       "                /* FIXME: We get \"Resource interpreted as Image but\n",
       "                 * transferred with MIME type text/plain:\" errors on\n",
       "                 * Chrome.  But how to set the MIME type?  It doesn't seem\n",
       "                 * to be part of the websocket stream */\n",
       "                img.type = 'image/png';\n",
       "            }\n",
       "\n",
       "            /* Free the memory for the previous frames */\n",
       "            if (fig.imageObj.src) {\n",
       "                (window.URL || window.webkitURL).revokeObjectURL(\n",
       "                    fig.imageObj.src\n",
       "                );\n",
       "            }\n",
       "\n",
       "            fig.imageObj.src = (window.URL || window.webkitURL).createObjectURL(\n",
       "                img\n",
       "            );\n",
       "            fig.updated_canvas_event();\n",
       "            fig.waiting = false;\n",
       "            return;\n",
       "        } else if (\n",
       "            typeof evt.data === 'string' &&\n",
       "            evt.data.slice(0, 21) === 'data:image/png;base64'\n",
       "        ) {\n",
       "            fig.imageObj.src = evt.data;\n",
       "            fig.updated_canvas_event();\n",
       "            fig.waiting = false;\n",
       "            return;\n",
       "        }\n",
       "\n",
       "        var msg = JSON.parse(evt.data);\n",
       "        var msg_type = msg['type'];\n",
       "\n",
       "        // Call the  \"handle_{type}\" callback, which takes\n",
       "        // the figure and JSON message as its only arguments.\n",
       "        try {\n",
       "            var callback = fig['handle_' + msg_type];\n",
       "        } catch (e) {\n",
       "            console.log(\n",
       "                \"No handler for the '\" + msg_type + \"' message type: \",\n",
       "                msg\n",
       "            );\n",
       "            return;\n",
       "        }\n",
       "\n",
       "        if (callback) {\n",
       "            try {\n",
       "                // console.log(\"Handling '\" + msg_type + \"' message: \", msg);\n",
       "                callback(fig, msg);\n",
       "            } catch (e) {\n",
       "                console.log(\n",
       "                    \"Exception inside the 'handler_\" + msg_type + \"' callback:\",\n",
       "                    e,\n",
       "                    e.stack,\n",
       "                    msg\n",
       "                );\n",
       "            }\n",
       "        }\n",
       "    };\n",
       "};\n",
       "\n",
       "// from https://stackoverflow.com/questions/1114465/getting-mouse-location-in-canvas\n",
       "mpl.findpos = function (e) {\n",
       "    //this section is from http://www.quirksmode.org/js/events_properties.html\n",
       "    var targ;\n",
       "    if (!e) {\n",
       "        e = window.event;\n",
       "    }\n",
       "    if (e.target) {\n",
       "        targ = e.target;\n",
       "    } else if (e.srcElement) {\n",
       "        targ = e.srcElement;\n",
       "    }\n",
       "    if (targ.nodeType === 3) {\n",
       "        // defeat Safari bug\n",
       "        targ = targ.parentNode;\n",
       "    }\n",
       "\n",
       "    // pageX,Y are the mouse positions relative to the document\n",
       "    var boundingRect = targ.getBoundingClientRect();\n",
       "    var x = e.pageX - (boundingRect.left + document.body.scrollLeft);\n",
       "    var y = e.pageY - (boundingRect.top + document.body.scrollTop);\n",
       "\n",
       "    return { x: x, y: y };\n",
       "};\n",
       "\n",
       "/*\n",
       " * return a copy of an object with only non-object keys\n",
       " * we need this to avoid circular references\n",
       " * https://stackoverflow.com/a/24161582/3208463\n",
       " */\n",
       "function simpleKeys(original) {\n",
       "    return Object.keys(original).reduce(function (obj, key) {\n",
       "        if (typeof original[key] !== 'object') {\n",
       "            obj[key] = original[key];\n",
       "        }\n",
       "        return obj;\n",
       "    }, {});\n",
       "}\n",
       "\n",
       "mpl.figure.prototype.mouse_event = function (event, name) {\n",
       "    var canvas_pos = mpl.findpos(event);\n",
       "\n",
       "    if (name === 'button_press') {\n",
       "        this.canvas.focus();\n",
       "        this.canvas_div.focus();\n",
       "    }\n",
       "\n",
       "    var x = canvas_pos.x * this.ratio;\n",
       "    var y = canvas_pos.y * this.ratio;\n",
       "\n",
       "    this.send_message(name, {\n",
       "        x: x,\n",
       "        y: y,\n",
       "        button: event.button,\n",
       "        step: event.step,\n",
       "        guiEvent: simpleKeys(event),\n",
       "    });\n",
       "\n",
       "    /* This prevents the web browser from automatically changing to\n",
       "     * the text insertion cursor when the button is pressed.  We want\n",
       "     * to control all of the cursor setting manually through the\n",
       "     * 'cursor' event from matplotlib */\n",
       "    event.preventDefault();\n",
       "    return false;\n",
       "};\n",
       "\n",
       "mpl.figure.prototype._key_event_extra = function (_event, _name) {\n",
       "    // Handle any extra behaviour associated with a key event\n",
       "};\n",
       "\n",
       "mpl.figure.prototype.key_event = function (event, name) {\n",
       "    // Prevent repeat events\n",
       "    if (name === 'key_press') {\n",
       "        if (event.key === this._key) {\n",
       "            return;\n",
       "        } else {\n",
       "            this._key = event.key;\n",
       "        }\n",
       "    }\n",
       "    if (name === 'key_release') {\n",
       "        this._key = null;\n",
       "    }\n",
       "\n",
       "    var value = '';\n",
       "    if (event.ctrlKey && event.key !== 'Control') {\n",
       "        value += 'ctrl+';\n",
       "    }\n",
       "    else if (event.altKey && event.key !== 'Alt') {\n",
       "        value += 'alt+';\n",
       "    }\n",
       "    else if (event.shiftKey && event.key !== 'Shift') {\n",
       "        value += 'shift+';\n",
       "    }\n",
       "\n",
       "    value += 'k' + event.key;\n",
       "\n",
       "    this._key_event_extra(event, name);\n",
       "\n",
       "    this.send_message(name, { key: value, guiEvent: simpleKeys(event) });\n",
       "    return false;\n",
       "};\n",
       "\n",
       "mpl.figure.prototype.toolbar_button_onclick = function (name) {\n",
       "    if (name === 'download') {\n",
       "        this.handle_save(this, null);\n",
       "    } else {\n",
       "        this.send_message('toolbar_button', { name: name });\n",
       "    }\n",
       "};\n",
       "\n",
       "mpl.figure.prototype.toolbar_button_onmouseover = function (tooltip) {\n",
       "    this.message.textContent = tooltip;\n",
       "};\n",
       "\n",
       "///////////////// REMAINING CONTENT GENERATED BY embed_js.py /////////////////\n",
       "// prettier-ignore\n",
       "var _JSXTOOLS_RESIZE_OBSERVER=function(A){var t,i=new WeakMap,n=new WeakMap,a=new WeakMap,r=new WeakMap,o=new Set;function s(e){if(!(this instanceof s))throw new TypeError(\"Constructor requires 'new' operator\");i.set(this,e)}function h(){throw new TypeError(\"Function is not a constructor\")}function c(e,t,i,n){e=0 in arguments?Number(arguments[0]):0,t=1 in arguments?Number(arguments[1]):0,i=2 in arguments?Number(arguments[2]):0,n=3 in arguments?Number(arguments[3]):0,this.right=(this.x=this.left=e)+(this.width=i),this.bottom=(this.y=this.top=t)+(this.height=n),Object.freeze(this)}function d(){t=requestAnimationFrame(d);var s=new WeakMap,p=new Set;o.forEach((function(t){r.get(t).forEach((function(i){var r=t instanceof window.SVGElement,o=a.get(t),d=r?0:parseFloat(o.paddingTop),f=r?0:parseFloat(o.paddingRight),l=r?0:parseFloat(o.paddingBottom),u=r?0:parseFloat(o.paddingLeft),g=r?0:parseFloat(o.borderTopWidth),m=r?0:parseFloat(o.borderRightWidth),w=r?0:parseFloat(o.borderBottomWidth),b=u+f,F=d+l,v=(r?0:parseFloat(o.borderLeftWidth))+m,W=g+w,y=r?0:t.offsetHeight-W-t.clientHeight,E=r?0:t.offsetWidth-v-t.clientWidth,R=b+v,z=F+W,M=r?t.width:parseFloat(o.width)-R-E,O=r?t.height:parseFloat(o.height)-z-y;if(n.has(t)){var k=n.get(t);if(k[0]===M&&k[1]===O)return}n.set(t,[M,O]);var S=Object.create(h.prototype);S.target=t,S.contentRect=new c(u,d,M,O),s.has(i)||(s.set(i,[]),p.add(i)),s.get(i).push(S)}))})),p.forEach((function(e){i.get(e).call(e,s.get(e),e)}))}return s.prototype.observe=function(i){if(i instanceof window.Element){r.has(i)||(r.set(i,new Set),o.add(i),a.set(i,window.getComputedStyle(i)));var n=r.get(i);n.has(this)||n.add(this),cancelAnimationFrame(t),t=requestAnimationFrame(d)}},s.prototype.unobserve=function(i){if(i instanceof window.Element&&r.has(i)){var n=r.get(i);n.has(this)&&(n.delete(this),n.size||(r.delete(i),o.delete(i))),n.size||r.delete(i),o.size||cancelAnimationFrame(t)}},A.DOMRectReadOnly=c,A.ResizeObserver=s,A.ResizeObserverEntry=h,A}; // eslint-disable-line\n",
       "mpl.toolbar_items = [[\"Home\", \"Reset original view\", \"fa fa-home\", \"home\"], [\"Back\", \"Back to previous view\", \"fa fa-arrow-left\", \"back\"], [\"Forward\", \"Forward to next view\", \"fa fa-arrow-right\", \"forward\"], [\"\", \"\", \"\", \"\"], [\"Pan\", \"Left button pans, Right button zooms\\nx/y fixes axis, CTRL fixes aspect\", \"fa fa-arrows\", \"pan\"], [\"Zoom\", \"Zoom to rectangle\\nx/y fixes axis\", \"fa fa-square-o\", \"zoom\"], [\"\", \"\", \"\", \"\"], [\"Download\", \"Download plot\", \"fa fa-floppy-o\", \"download\"]];\n",
       "\n",
       "mpl.extensions = [\"eps\", \"jpeg\", \"pgf\", \"pdf\", \"png\", \"ps\", \"raw\", \"svg\", \"tif\", \"webp\"];\n",
       "\n",
       "mpl.default_extension = \"png\";/* global mpl */\n",
       "\n",
       "var comm_websocket_adapter = function (comm) {\n",
       "    // Create a \"websocket\"-like object which calls the given IPython comm\n",
       "    // object with the appropriate methods. Currently this is a non binary\n",
       "    // socket, so there is still some room for performance tuning.\n",
       "    var ws = {};\n",
       "\n",
       "    ws.binaryType = comm.kernel.ws.binaryType;\n",
       "    ws.readyState = comm.kernel.ws.readyState;\n",
       "    function updateReadyState(_event) {\n",
       "        if (comm.kernel.ws) {\n",
       "            ws.readyState = comm.kernel.ws.readyState;\n",
       "        } else {\n",
       "            ws.readyState = 3; // Closed state.\n",
       "        }\n",
       "    }\n",
       "    comm.kernel.ws.addEventListener('open', updateReadyState);\n",
       "    comm.kernel.ws.addEventListener('close', updateReadyState);\n",
       "    comm.kernel.ws.addEventListener('error', updateReadyState);\n",
       "\n",
       "    ws.close = function () {\n",
       "        comm.close();\n",
       "    };\n",
       "    ws.send = function (m) {\n",
       "        //console.log('sending', m);\n",
       "        comm.send(m);\n",
       "    };\n",
       "    // Register the callback with on_msg.\n",
       "    comm.on_msg(function (msg) {\n",
       "        //console.log('receiving', msg['content']['data'], msg);\n",
       "        var data = msg['content']['data'];\n",
       "        if (data['blob'] !== undefined) {\n",
       "            data = {\n",
       "                data: new Blob(msg['buffers'], { type: data['blob'] }),\n",
       "            };\n",
       "        }\n",
       "        // Pass the mpl event to the overridden (by mpl) onmessage function.\n",
       "        ws.onmessage(data);\n",
       "    });\n",
       "    return ws;\n",
       "};\n",
       "\n",
       "mpl.mpl_figure_comm = function (comm, msg) {\n",
       "    // This is the function which gets called when the mpl process\n",
       "    // starts-up an IPython Comm through the \"matplotlib\" channel.\n",
       "\n",
       "    var id = msg.content.data.id;\n",
       "    // Get hold of the div created by the display call when the Comm\n",
       "    // socket was opened in Python.\n",
       "    var element = document.getElementById(id);\n",
       "    var ws_proxy = comm_websocket_adapter(comm);\n",
       "\n",
       "    function ondownload(figure, _format) {\n",
       "        window.open(figure.canvas.toDataURL());\n",
       "    }\n",
       "\n",
       "    var fig = new mpl.figure(id, ws_proxy, ondownload, element);\n",
       "\n",
       "    // Call onopen now - mpl needs it, as it is assuming we've passed it a real\n",
       "    // web socket which is closed, not our websocket->open comm proxy.\n",
       "    ws_proxy.onopen();\n",
       "\n",
       "    fig.parent_element = element;\n",
       "    fig.cell_info = mpl.find_output_cell(\"<div id='\" + id + \"'></div>\");\n",
       "    if (!fig.cell_info) {\n",
       "        console.error('Failed to find cell for figure', id, fig);\n",
       "        return;\n",
       "    }\n",
       "    fig.cell_info[0].output_area.element.on(\n",
       "        'cleared',\n",
       "        { fig: fig },\n",
       "        fig._remove_fig_handler\n",
       "    );\n",
       "};\n",
       "\n",
       "mpl.figure.prototype.handle_close = function (fig, msg) {\n",
       "    var width = fig.canvas.width / fig.ratio;\n",
       "    fig.cell_info[0].output_area.element.off(\n",
       "        'cleared',\n",
       "        fig._remove_fig_handler\n",
       "    );\n",
       "    fig.resizeObserverInstance.unobserve(fig.canvas_div);\n",
       "\n",
       "    // Update the output cell to use the data from the current canvas.\n",
       "    fig.push_to_output();\n",
       "    var dataURL = fig.canvas.toDataURL();\n",
       "    // Re-enable the keyboard manager in IPython - without this line, in FF,\n",
       "    // the notebook keyboard shortcuts fail.\n",
       "    IPython.keyboard_manager.enable();\n",
       "    fig.parent_element.innerHTML =\n",
       "        '<img src=\"' + dataURL + '\" width=\"' + width + '\">';\n",
       "    fig.close_ws(fig, msg);\n",
       "};\n",
       "\n",
       "mpl.figure.prototype.close_ws = function (fig, msg) {\n",
       "    fig.send_message('closing', msg);\n",
       "    // fig.ws.close()\n",
       "};\n",
       "\n",
       "mpl.figure.prototype.push_to_output = function (_remove_interactive) {\n",
       "    // Turn the data on the canvas into data in the output cell.\n",
       "    var width = this.canvas.width / this.ratio;\n",
       "    var dataURL = this.canvas.toDataURL();\n",
       "    this.cell_info[1]['text/html'] =\n",
       "        '<img src=\"' + dataURL + '\" width=\"' + width + '\">';\n",
       "};\n",
       "\n",
       "mpl.figure.prototype.updated_canvas_event = function () {\n",
       "    // Tell IPython that the notebook contents must change.\n",
       "    IPython.notebook.set_dirty(true);\n",
       "    this.send_message('ack', {});\n",
       "    var fig = this;\n",
       "    // Wait a second, then push the new image to the DOM so\n",
       "    // that it is saved nicely (might be nice to debounce this).\n",
       "    setTimeout(function () {\n",
       "        fig.push_to_output();\n",
       "    }, 1000);\n",
       "};\n",
       "\n",
       "mpl.figure.prototype._init_toolbar = function () {\n",
       "    var fig = this;\n",
       "\n",
       "    var toolbar = document.createElement('div');\n",
       "    toolbar.classList = 'btn-toolbar';\n",
       "    this.root.appendChild(toolbar);\n",
       "\n",
       "    function on_click_closure(name) {\n",
       "        return function (_event) {\n",
       "            return fig.toolbar_button_onclick(name);\n",
       "        };\n",
       "    }\n",
       "\n",
       "    function on_mouseover_closure(tooltip) {\n",
       "        return function (event) {\n",
       "            if (!event.currentTarget.disabled) {\n",
       "                return fig.toolbar_button_onmouseover(tooltip);\n",
       "            }\n",
       "        };\n",
       "    }\n",
       "\n",
       "    fig.buttons = {};\n",
       "    var buttonGroup = document.createElement('div');\n",
       "    buttonGroup.classList = 'btn-group';\n",
       "    var button;\n",
       "    for (var toolbar_ind in mpl.toolbar_items) {\n",
       "        var name = mpl.toolbar_items[toolbar_ind][0];\n",
       "        var tooltip = mpl.toolbar_items[toolbar_ind][1];\n",
       "        var image = mpl.toolbar_items[toolbar_ind][2];\n",
       "        var method_name = mpl.toolbar_items[toolbar_ind][3];\n",
       "\n",
       "        if (!name) {\n",
       "            /* Instead of a spacer, we start a new button group. */\n",
       "            if (buttonGroup.hasChildNodes()) {\n",
       "                toolbar.appendChild(buttonGroup);\n",
       "            }\n",
       "            buttonGroup = document.createElement('div');\n",
       "            buttonGroup.classList = 'btn-group';\n",
       "            continue;\n",
       "        }\n",
       "\n",
       "        button = fig.buttons[name] = document.createElement('button');\n",
       "        button.classList = 'btn btn-default';\n",
       "        button.href = '#';\n",
       "        button.title = name;\n",
       "        button.innerHTML = '<i class=\"fa ' + image + ' fa-lg\"></i>';\n",
       "        button.addEventListener('click', on_click_closure(method_name));\n",
       "        button.addEventListener('mouseover', on_mouseover_closure(tooltip));\n",
       "        buttonGroup.appendChild(button);\n",
       "    }\n",
       "\n",
       "    if (buttonGroup.hasChildNodes()) {\n",
       "        toolbar.appendChild(buttonGroup);\n",
       "    }\n",
       "\n",
       "    // Add the status bar.\n",
       "    var status_bar = document.createElement('span');\n",
       "    status_bar.classList = 'mpl-message pull-right';\n",
       "    toolbar.appendChild(status_bar);\n",
       "    this.message = status_bar;\n",
       "\n",
       "    // Add the close button to the window.\n",
       "    var buttongrp = document.createElement('div');\n",
       "    buttongrp.classList = 'btn-group inline pull-right';\n",
       "    button = document.createElement('button');\n",
       "    button.classList = 'btn btn-mini btn-primary';\n",
       "    button.href = '#';\n",
       "    button.title = 'Stop Interaction';\n",
       "    button.innerHTML = '<i class=\"fa fa-power-off icon-remove icon-large\"></i>';\n",
       "    button.addEventListener('click', function (_evt) {\n",
       "        fig.handle_close(fig, {});\n",
       "    });\n",
       "    button.addEventListener(\n",
       "        'mouseover',\n",
       "        on_mouseover_closure('Stop Interaction')\n",
       "    );\n",
       "    buttongrp.appendChild(button);\n",
       "    var titlebar = this.root.querySelector('.ui-dialog-titlebar');\n",
       "    titlebar.insertBefore(buttongrp, titlebar.firstChild);\n",
       "};\n",
       "\n",
       "mpl.figure.prototype._remove_fig_handler = function (event) {\n",
       "    var fig = event.data.fig;\n",
       "    if (event.target !== this) {\n",
       "        // Ignore bubbled events from children.\n",
       "        return;\n",
       "    }\n",
       "    fig.close_ws(fig, {});\n",
       "};\n",
       "\n",
       "mpl.figure.prototype._root_extra_style = function (el) {\n",
       "    el.style.boxSizing = 'content-box'; // override notebook setting of border-box.\n",
       "};\n",
       "\n",
       "mpl.figure.prototype._canvas_extra_style = function (el) {\n",
       "    // this is important to make the div 'focusable\n",
       "    el.setAttribute('tabindex', 0);\n",
       "    // reach out to IPython and tell the keyboard manager to turn it's self\n",
       "    // off when our div gets focus\n",
       "\n",
       "    // location in version 3\n",
       "    if (IPython.notebook.keyboard_manager) {\n",
       "        IPython.notebook.keyboard_manager.register_events(el);\n",
       "    } else {\n",
       "        // location in version 2\n",
       "        IPython.keyboard_manager.register_events(el);\n",
       "    }\n",
       "};\n",
       "\n",
       "mpl.figure.prototype._key_event_extra = function (event, _name) {\n",
       "    // Check for shift+enter\n",
       "    if (event.shiftKey && event.which === 13) {\n",
       "        this.canvas_div.blur();\n",
       "        // select the cell after this one\n",
       "        var index = IPython.notebook.find_cell_index(this.cell_info[0]);\n",
       "        IPython.notebook.select(index + 1);\n",
       "    }\n",
       "};\n",
       "\n",
       "mpl.figure.prototype.handle_save = function (fig, _msg) {\n",
       "    fig.ondownload(fig, null);\n",
       "};\n",
       "\n",
       "mpl.find_output_cell = function (html_output) {\n",
       "    // Return the cell and output element which can be found *uniquely* in the notebook.\n",
       "    // Note - this is a bit hacky, but it is done because the \"notebook_saving.Notebook\"\n",
       "    // IPython event is triggered only after the cells have been serialised, which for\n",
       "    // our purposes (turning an active figure into a static one), is too late.\n",
       "    var cells = IPython.notebook.get_cells();\n",
       "    var ncells = cells.length;\n",
       "    for (var i = 0; i < ncells; i++) {\n",
       "        var cell = cells[i];\n",
       "        if (cell.cell_type === 'code') {\n",
       "            for (var j = 0; j < cell.output_area.outputs.length; j++) {\n",
       "                var data = cell.output_area.outputs[j];\n",
       "                if (data.data) {\n",
       "                    // IPython >= 3 moved mimebundle to data attribute of output\n",
       "                    data = data.data;\n",
       "                }\n",
       "                if (data['text/html'] === html_output) {\n",
       "                    return [cell, data, j];\n",
       "                }\n",
       "            }\n",
       "        }\n",
       "    }\n",
       "};\n",
       "\n",
       "// Register the function which deals with the matplotlib target/channel.\n",
       "// The kernel may be null if the page has been refreshed.\n",
       "if (IPython.notebook.kernel !== null) {\n",
       "    IPython.notebook.kernel.comm_manager.register_target(\n",
       "        'matplotlib',\n",
       "        mpl.mpl_figure_comm\n",
       "    );\n",
       "}\n"
      ],
      "text/plain": [
       "<IPython.core.display.Javascript object>"
      ]
     },
     "metadata": {},
     "output_type": "display_data"
    },
    {
     "data": {
      "text/html": [
       "<img src=\"data:image/png;base64,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\" width=\"1400\">"
      ],
      "text/plain": [
       "<IPython.core.display.HTML object>"
      ]
     },
     "metadata": {},
     "output_type": "display_data"
    }
   ],
   "source": [
    "from matplotlib.animation import FuncAnimation\n",
    "\n",
    "\n",
    "fig = plt.figure(figsize=(14,7))\n",
    "ax1 = plt.subplot(121)\n",
    "ax2 = plt.subplot(222)\n",
    "ax3 = plt.subplot(224)\n",
    "pi_ani = PiAnimation(ax1, ax2, ax3)\n",
    "anim = FuncAnimation(fig, pi_ani, frames=10_000, interval=50, blit=True)\n",
    "plt.show()"
   ]
  },
  {
   "cell_type": "code",
   "execution_count": null,
   "metadata": {},
   "outputs": [],
   "source": []
  }
 ],
 "metadata": {
  "kernelspec": {
   "display_name": "Python 3 (ipykernel)",
   "language": "python",
   "name": "python3"
  },
  "language_info": {
   "codemirror_mode": {
    "name": "ipython",
    "version": 3
   },
   "file_extension": ".py",
   "mimetype": "text/x-python",
   "name": "python",
   "nbconvert_exporter": "python",
   "pygments_lexer": "ipython3",
   "version": "3.10.6"
  }
 },
 "nbformat": 4,
 "nbformat_minor": 4
}
