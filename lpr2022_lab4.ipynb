{
 "cells": [
  {
   "cell_type": "markdown",
   "metadata": {},
   "source": [
    "# Библиотека numpy"
   ]
  },
  {
   "cell_type": "markdown",
   "metadata": {},
   "source": [
    "**NumPy** — это библиотека языка Python, добавляющая поддержку больших многомерных массивов и матриц, вместе с большой библиотекой высокоуровневых (и очень быстрых) математических функций для операций с этими массивами."
   ]
  },
  {
   "cell_type": "markdown",
   "metadata": {},
   "source": [
    "Основным объектом NumPy является однородный многомерный массив (в numpy называется numpy.ndarray). Это многомерный массив элементов (обычно чисел), одного типа.\n",
    "\n",
    "Наиболее важные атрибуты объектов ndarray:\n",
    "\n",
    "**ndarray.ndim** - число измерений (чаще их называют \"оси\") массива.\n",
    "\n",
    "**ndarray.shape** - размеры массива, его форма. Это кортеж натуральных чисел, показывающий длину массива по каждой оси. Для матрицы из n строк и m столбов, shape будет (n,m). Число элементов кортежа shape равно ndim.\n",
    "\n",
    "**ndarray.size** - количество элементов массива. Очевидно, равно произведению всех элементов атрибута shape.\n",
    "\n",
    "**ndarray.dtype** - объект, описывающий тип элементов массива. Можно определить dtype, используя стандартные типы данных Python. NumPy здесь предоставляет целый букет возможностей, как встроенных, например: bool_, character, int8, int16, int32, int64, float8, float16, float32, float64, complex64, object_, так и возможность определить собственные типы данных, в том числе и составные.\n",
    "\n",
    "**ndarray.itemsize** - размер каждого элемента массива в байтах."
   ]
  },
  {
   "cell_type": "markdown",
   "metadata": {},
   "source": [
    "# Создание массивов"
   ]
  },
  {
   "cell_type": "markdown",
   "metadata": {},
   "source": [
    "В NumPy существует много способов создать массив. Один из наиболее простых - создать массив из обычных списков или кортежей Python, используя функцию numpy.array() (запомните: array - функция, создающая объект типа ndarray):"
   ]
  },
  {
   "cell_type": "code",
   "execution_count": 1,
   "metadata": {},
   "outputs": [
    {
     "data": {
      "text/plain": [
       "array([1, 2, 3])"
      ]
     },
     "execution_count": 1,
     "metadata": {},
     "output_type": "execute_result"
    }
   ],
   "source": [
    "import numpy as np\n",
    "\n",
    "a = np.array([1, 2, 3])\n",
    "a"
   ]
  },
  {
   "cell_type": "code",
   "execution_count": null,
   "metadata": {},
   "outputs": [],
   "source": [
    "type(a)"
   ]
  },
  {
   "cell_type": "markdown",
   "metadata": {},
   "source": [
    "Функция array() трансформирует вложенные последовательности в многомерные массивы. Тип элементов массива зависит от типа элементов исходной последовательности (но можно и переопределить его в момент создания)."
   ]
  },
  {
   "cell_type": "code",
   "execution_count": null,
   "metadata": {},
   "outputs": [],
   "source": [
    "b = np.array([[1.5, 2, 3], [4, 5, 6]])\n",
    "b"
   ]
  },
  {
   "cell_type": "markdown",
   "metadata": {},
   "source": [
    "Можно также переопределить тип в момент создания:"
   ]
  },
  {
   "cell_type": "code",
   "execution_count": null,
   "metadata": {},
   "outputs": [],
   "source": [
    "b = np.array([[1.5, 2, 3], [4, 5, 6]], dtype=np.complex)\n",
    "b"
   ]
  },
  {
   "cell_type": "markdown",
   "metadata": {},
   "source": [
    "Функция array() не единственная функция для создания массивов. Обычно элементы массива вначале неизвестны, а массив, в котором они будут храниться, уже нужен. Поэтому имеется несколько функций для того, чтобы создавать массивы с каким-то исходным содержимым (по умолчанию тип создаваемого массива — float64).\n",
    "\n",
    "Функция zeros() создает массив из нулей, а функция ones() — массив из единиц. Обе функции принимают кортеж с размерами, и аргумент dtype:"
   ]
  },
  {
   "cell_type": "code",
   "execution_count": null,
   "metadata": {},
   "outputs": [],
   "source": [
    "a = np.zeros((3, 5))\n",
    "a"
   ]
  },
  {
   "cell_type": "code",
   "execution_count": null,
   "metadata": {},
   "outputs": [],
   "source": [
    "a = np.ones((2, 2, 2))\n",
    "a"
   ]
  },
  {
   "cell_type": "markdown",
   "metadata": {},
   "source": [
    "Функция eye() создаёт единичную матрицу (двумерный массив)"
   ]
  },
  {
   "cell_type": "code",
   "execution_count": null,
   "metadata": {},
   "outputs": [],
   "source": [
    "a = np.eye(5)\n",
    "a"
   ]
  },
  {
   "cell_type": "markdown",
   "metadata": {},
   "source": [
    "Функция empty() создает массив без его заполнения. Исходное содержимое случайно и зависит от состояния памяти на момент создания массива (то есть от того мусора, что в ней хранится):"
   ]
  },
  {
   "cell_type": "code",
   "execution_count": null,
   "metadata": {},
   "outputs": [],
   "source": [
    "a = np.empty((3, 3))\n",
    "a"
   ]
  },
  {
   "cell_type": "markdown",
   "metadata": {},
   "source": [
    "Для создания последовательностей чисел, в NumPy имеется функция arange(), аналогичная встроенной в Python range(), только вместо списков она возвращает массивы, и принимает не только целые значения:"
   ]
  },
  {
   "cell_type": "code",
   "execution_count": null,
   "metadata": {},
   "outputs": [],
   "source": [
    "a = np.arange(10, 30, 5)\n",
    "a"
   ]
  },
  {
   "cell_type": "code",
   "execution_count": null,
   "metadata": {},
   "outputs": [],
   "source": [
    "a = np.arange(0, 1, 0.1)\n",
    "a"
   ]
  },
  {
   "cell_type": "markdown",
   "metadata": {},
   "source": [
    "Вообще, при использовании arange() с аргументами типа float, сложно быть уверенным в том, сколько элементов будет получено (из-за ограничения точности чисел с плавающей запятой). Поэтому, в таких случаях обычно лучше использовать функцию linspace(), которая вместо шага в качестве одного из аргументов принимает число, равное количеству нужных элементов:"
   ]
  },
  {
   "cell_type": "code",
   "execution_count": null,
   "metadata": {},
   "outputs": [],
   "source": [
    "a = np.linspace(0, 2, 9)  # 9 чисел от 0 до 2 включительно\n",
    "a"
   ]
  },
  {
   "cell_type": "markdown",
   "metadata": {},
   "source": [
    "# Изменение формы массивов"
   ]
  },
  {
   "cell_type": "markdown",
   "metadata": {},
   "source": [
    "Предположим, у нас имеется массив, состоящий из десяти чисел: "
   ]
  },
  {
   "cell_type": "code",
   "execution_count": null,
   "metadata": {},
   "outputs": [],
   "source": [
    "a = np.arange(10)\n",
    "a"
   ]
  },
  {
   "cell_type": "markdown",
   "metadata": {},
   "source": [
    "Для изменения формы этого массива, достаточно указать свойству shape кортеж с новыми размерами, например, так: "
   ]
  },
  {
   "cell_type": "code",
   "execution_count": null,
   "metadata": {},
   "outputs": [],
   "source": [
    "a.shape = 2, 5\n",
    "a"
   ]
  },
  {
   "cell_type": "markdown",
   "metadata": {},
   "source": [
    "В результате изменится представление массива, на которое ссылается переменная a. Если же требуется создать новое представление массива, сохранив прежнее, то следует воспользоваться методом reshape(): "
   ]
  },
  {
   "cell_type": "markdown",
   "metadata": {},
   "source": [
    "b = a.reshape(10)\n",
    "b"
   ]
  },
  {
   "cell_type": "markdown",
   "metadata": {},
   "source": [
    "Cсылки b и a будут использовать одни и те же данные, то есть, изменение массива через b: "
   ]
  },
  {
   "cell_type": "code",
   "execution_count": null,
   "metadata": {},
   "outputs": [],
   "source": [
    "b[0] = -1 # приведет к изменению соответствующего элемента массива a: "
   ]
  },
  {
   "cell_type": "markdown",
   "metadata": {},
   "source": [
    "У свойства shape и метода reshape() размерность должна охватывать все элементы массива. Например, вот такая команда: "
   ]
  },
  {
   "cell_type": "code",
   "execution_count": null,
   "metadata": {},
   "outputs": [],
   "source": [
    "a.shape = 3, 3"
   ]
  },
  {
   "cell_type": "markdown",
   "metadata": {},
   "source": [
    "приведет к ошибке, т.к. размерность 3x3 = 9 элементов, а в массиве 10 элементов. Здесь всегда должно выполняться равенство:\n",
    "\n",
    "n1 x n2 x … x nN = число элементов массива "
   ]
  },
  {
   "cell_type": "markdown",
   "metadata": {},
   "source": [
    "Но допускается делать так: "
   ]
  },
  {
   "cell_type": "code",
   "execution_count": null,
   "metadata": {},
   "outputs": [],
   "source": [
    "a.shape = -1, 2\n",
    "a"
   ]
  },
  {
   "cell_type": "markdown",
   "metadata": {},
   "source": [
    "Отрицательное значение -1 означает автоматическое вычисление размерности по первой оси. По второй берется значение 2. В этом случае получим размерность 5x2.\n",
    "\n",
    "То же самое можно делать и в методе reshape(): "
   ]
  },
  {
   "cell_type": "code",
   "execution_count": null,
   "metadata": {},
   "outputs": [],
   "source": [
    "b.reshape(-1, 1)\n",
    "print(b)\n",
    "b.reshape(1, -1)\n",
    "print(b)"
   ]
  },
  {
   "cell_type": "markdown",
   "metadata": {},
   "source": [
    "Используя отрицательный индекс, можно делать и такие преобразования: "
   ]
  },
  {
   "cell_type": "code",
   "execution_count": null,
   "metadata": {},
   "outputs": [],
   "source": [
    "b.reshape(2, -1)\n",
    "print(b)\n",
    "b.reshape(-1, 2)\n",
    "print(b)"
   ]
  },
  {
   "cell_type": "markdown",
   "metadata": {},
   "source": [
    "Если нам требуется многомерный массив преобразовать в обычный одномерный, то можно воспользоваться методом ravel(), который возвращает новое представление, не меняя текущего: "
   ]
  },
  {
   "cell_type": "code",
   "execution_count": null,
   "metadata": {},
   "outputs": [],
   "source": [
    "c = b.ravel() # с ссылается на одномерное представление массива\n",
    "c"
   ]
  },
  {
   "cell_type": "markdown",
   "metadata": {},
   "source": [
    "Если же нам нужно текущий массив преобразовать в одномерный, то это можно сделать так: "
   ]
  },
  {
   "cell_type": "code",
   "execution_count": null,
   "metadata": {},
   "outputs": [],
   "source": [
    "b.shape = -1"
   ]
  },
  {
   "cell_type": "markdown",
   "metadata": {},
   "source": [
    "Помимо свойства shape можно использовать метод resize, который выполняет подобную операцию с текущим массивом. Например: "
   ]
  },
  {
   "cell_type": "code",
   "execution_count": null,
   "metadata": {},
   "outputs": [],
   "source": [
    "a.resize(2, 5) # массив 2x5"
   ]
  },
  {
   "cell_type": "markdown",
   "metadata": {},
   "source": [
    "Но, как мы уже говорили, вот такая строчка приведет к ошибке: "
   ]
  },
  {
   "cell_type": "code",
   "execution_count": null,
   "metadata": {},
   "outputs": [],
   "source": [
    "a.resize(3, 3)  # ошибка: 3x3 != 10"
   ]
  },
  {
   "cell_type": "markdown",
   "metadata": {},
   "source": [
    "# Транспонирование матриц и векторов"
   ]
  },
  {
   "cell_type": "markdown",
   "metadata": {},
   "source": [
    "Очень часто в математических операциях требуется выполнять транспонирование матриц и векторов, то есть, заменять строки на столбцы. Например, если имеется матрица (двумерный массив): "
   ]
  },
  {
   "cell_type": "code",
   "execution_count": null,
   "metadata": {},
   "outputs": [],
   "source": [
    "a = np.array([(1, 2, 3), (1, 4, 9), (1, 8, 27)])\n",
    "a"
   ]
  },
  {
   "cell_type": "markdown",
   "metadata": {},
   "source": [
    "то операция транспонирования может быть реализована так: "
   ]
  },
  {
   "cell_type": "code",
   "execution_count": null,
   "metadata": {},
   "outputs": [],
   "source": [
    "b = a.T\n",
    "b"
   ]
  },
  {
   "cell_type": "markdown",
   "metadata": {},
   "source": [
    "Обратите внимание, мы здесь создаем лишь новое представление тех же самых данных массива a. И изменение элементов в массиве b: "
   ]
  },
  {
   "cell_type": "code",
   "execution_count": null,
   "metadata": {},
   "outputs": [],
   "source": [
    "b[0, 1] = 10"
   ]
  },
  {
   "cell_type": "markdown",
   "metadata": {},
   "source": [
    "приведет к соответствующему изменению значения элемента и массива a. Это следует помнить, используя операцию транспонирования.\n",
    "\n",
    "Транспонирование векторов работает несколько иначе. Предположим, имеется одномерный массив: "
   ]
  },
  {
   "cell_type": "code",
   "execution_count": null,
   "metadata": {},
   "outputs": [],
   "source": [
    "x = np.arange(1, 10)\n",
    "x"
   ]
  },
  {
   "cell_type": "markdown",
   "metadata": {},
   "source": [
    "и мы выполняем операцию транспонирования: "
   ]
  },
  {
   "cell_type": "code",
   "execution_count": null,
   "metadata": {},
   "outputs": [],
   "source": [
    "x.T\n",
    "x"
   ]
  },
  {
   "cell_type": "markdown",
   "metadata": {},
   "source": [
    "В результате ничего не изменилось: вектор как был строкой, так строкой и остался. Почему? Дело в том, что массив x имеет только одну размерность, поэтому здесь нет понятия строк и столбцов. Соответственно, операция транспонирования ни к чему не приводит. Чтобы получить ожидаемый эффект, нужно добавить к массиву еще одну ось, например, так: "
   ]
  },
  {
   "cell_type": "code",
   "execution_count": null,
   "metadata": {},
   "outputs": [],
   "source": [
    "x.shape = 1, -1"
   ]
  },
  {
   "cell_type": "markdown",
   "metadata": {},
   "source": [
    "И теперь, при транспонировании получим вектор-столбец: "
   ]
  },
  {
   "cell_type": "code",
   "execution_count": null,
   "metadata": {},
   "outputs": [],
   "source": [
    "print(x.T)\n",
    "print(x)"
   ]
  },
  {
   "cell_type": "markdown",
   "metadata": {},
   "source": [
    "# Операции с индексами"
   ]
  },
  {
   "cell_type": "markdown",
   "metadata": {},
   "source": [
    "Оперативная память компьютера линейна, и поэтому даже многомерные массивы, на самом деле являются некоторыми линейными структурами, над которыми существуют система индексов, говорящих как именно читать этот линейный блок. Проведение операций над индексами в большистве случаев эффективно и поэтому операции смены размерности массива или транспонирования выполняются быстро"
   ]
  },
  {
   "cell_type": "code",
   "execution_count": 4,
   "metadata": {},
   "outputs": [
    {
     "name": "stdout",
     "output_type": "stream",
     "text": [
      "[[1 3]\n",
      " [2 4]]\n"
     ]
    }
   ],
   "source": [
    "import numpy as np\n",
    "\n",
    "a = np.asarray([[1,2], [3,4]])\n",
    "b = a.T # Транспонированый массив\n",
    "print(b)"
   ]
  },
  {
   "cell_type": "code",
   "execution_count": 5,
   "metadata": {},
   "outputs": [
    {
     "name": "stdout",
     "output_type": "stream",
     "text": [
      "[[10  3]\n",
      " [ 2  4]]\n"
     ]
    }
   ],
   "source": [
    "b[0,0] = 10\n",
    "print(b)"
   ]
  },
  {
   "cell_type": "code",
   "execution_count": 6,
   "metadata": {},
   "outputs": [
    {
     "name": "stdout",
     "output_type": "stream",
     "text": [
      "[[10  2]\n",
      " [ 3  4]]\n"
     ]
    }
   ],
   "source": [
    "print(a)"
   ]
  },
  {
   "cell_type": "code",
   "execution_count": 7,
   "metadata": {},
   "outputs": [
    {
     "data": {
      "text/plain": [
       "array([[11,  3],\n",
       "       [ 2,  4]])"
      ]
     },
     "execution_count": 7,
     "metadata": {},
     "output_type": "execute_result"
    }
   ],
   "source": [
    "b[0][0] = 11\n",
    "b"
   ]
  },
  {
   "cell_type": "markdown",
   "metadata": {},
   "source": [
    "Как мы видим при изменени переменной b изменилась переменная a. Это произошло потому, что обе эти переменные использубют один и тот же кусок памяти, но по разному."
   ]
  },
  {
   "cell_type": "markdown",
   "metadata": {},
   "source": [
    "# Добавление и удаление осей"
   ]
  },
  {
   "cell_type": "markdown",
   "metadata": {},
   "source": [
    "Часто при работе с массивами NumPy требуется добавлять новые оси измерений и удалять существующие. Есть множество способов выполнять эти операции, но мы рассмотрим два наиболее распространенных с помощью функций:\n",
    "\n",
    "    np.expand_dims(a, axis) – добавление новой оси;\n",
    "    np.squeeze(a[, axis]) – удаление оси (без удаления элементов). \n",
    "\n",
    "Давайте предположим, что у нас имеется некий многомерный массив: "
   ]
  },
  {
   "cell_type": "code",
   "execution_count": null,
   "metadata": {},
   "outputs": [],
   "source": [
    "x_test = np.arange(32).reshape(8, 2, 2) # массив 8x2x2"
   ]
  },
  {
   "cell_type": "markdown",
   "metadata": {},
   "source": [
    "И нам потребовалось добавить еще одно измерение (ось), причем, в самое начало, то есть, ось axis0. Сейчас на этой оси 8 элементов – матриц 2x2, но мы хотим сделать четырехмерный массив, сохранив остальные три оси и их данные без изменений. Как раз это достаточно просто сделать с помощью функции expand_dims, следующим образом: "
   ]
  },
  {
   "cell_type": "code",
   "execution_count": null,
   "metadata": {},
   "outputs": [],
   "source": [
    "x_test4 = np.expand_dims(x_test, axis=0)"
   ]
  },
  {
   "cell_type": "markdown",
   "metadata": {},
   "source": [
    "Обращаясь к свойству shape: "
   ]
  },
  {
   "cell_type": "markdown",
   "metadata": {},
   "source": [
    "x_test4.shape"
   ]
  },
  {
   "cell_type": "markdown",
   "metadata": {},
   "source": [
    "Видим, что массив стал четырехмерным и первая добавленная ось axis0 содержит один элемент – трехмерный массив 8x2x2. При необходимости, мы всегда можем добавить новый элемент на эту ось: "
   ]
  },
  {
   "cell_type": "code",
   "execution_count": null,
   "metadata": {},
   "outputs": [],
   "source": [
    "a = np.append(x_test4, x_test4, axis=0) # размерность (2, 8, 2, 2)\n",
    "a"
   ]
  },
  {
   "cell_type": "markdown",
   "metadata": {},
   "source": [
    "или удалить ненужные элементы: "
   ]
  },
  {
   "cell_type": "code",
   "execution_count": null,
   "metadata": {},
   "outputs": [],
   "source": [
    "b = np.delete(a, 0, axis=0) # размерность (1, 8, 2, 2)\n",
    "b"
   ]
  },
  {
   "cell_type": "markdown",
   "metadata": {},
   "source": [
    "Здесь второй параметр 0 – индекс удаляемого элемента на оси axis0.\n",
    "\n",
    "Если нам нужно добавить последнюю ось в массиве, то для этого можно записать такую команду: "
   ]
  },
  {
   "cell_type": "code",
   "execution_count": null,
   "metadata": {},
   "outputs": [],
   "source": [
    "b = np.expand_dims(x_test4, axis=-1) # размерность (1, 8, 2, 2, 1)"
   ]
  },
  {
   "cell_type": "markdown",
   "metadata": {},
   "source": [
    "Отрицательный индекс -1 – это следующая с конца ось. Если указать индекс -2, то добавится предпоследняя ось и так далее. Отрицательные индексы очень удобно использовать при работе с массивами произвольных размерностей.\n",
    "\n",
    "Следующая функция squeeze позволяет удалить все оси с одним элементом. Например, строчка: "
   ]
  },
  {
   "cell_type": "code",
   "execution_count": null,
   "metadata": {},
   "outputs": [],
   "source": [
    "c = np.squeeze(b) # размерность (8, 2, 2)\n",
    "c"
   ]
  },
  {
   "cell_type": "markdown",
   "metadata": {},
   "source": [
    "превращает массив размерностью (1, 8, 2, 2) в массив размерностью (8, 2, 2). При необходимости, дополнительно мы можем самостоятельно указать оси, которые следует удалять, например, так: "
   ]
  },
  {
   "cell_type": "code",
   "execution_count": null,
   "metadata": {},
   "outputs": [],
   "source": [
    "c = np.squeeze(b, axis=0) # удалит только ось axis0, не затронув другие"
   ]
  },
  {
   "cell_type": "markdown",
   "metadata": {},
   "source": [
    "Но, если указать ось с числом элементов больше 1, то возникнет ошибка: "
   ]
  },
  {
   "cell_type": "code",
   "execution_count": null,
   "metadata": {},
   "outputs": [],
   "source": [
    "c = np.squeeze(b, axis=1) # ошибка, на оси axis1 8 элементов"
   ]
  },
  {
   "cell_type": "markdown",
   "metadata": {},
   "source": [
    "В NumPy добавлять новые оси иногда удобнее с помощью специального объекта np.newaxis. Например, пусть у нас есть одномерный массив: "
   ]
  },
  {
   "cell_type": "code",
   "execution_count": null,
   "metadata": {},
   "outputs": [],
   "source": [
    "a = np.arange(1, 10)\n",
    "a"
   ]
  },
  {
   "cell_type": "markdown",
   "metadata": {},
   "source": [
    "У него одна ось – одно измерение. Добавим еще одну ось, допустим, в начало. С помощью объекта np.newaxis это можно сделать так: "
   ]
  },
  {
   "cell_type": "code",
   "execution_count": null,
   "metadata": {},
   "outputs": [],
   "source": [
    "b = a[np.newaxis, :] # добавление оси axis0\n",
    "print(b)\n",
    "b.shape # (1, 9)"
   ]
  },
  {
   "cell_type": "markdown",
   "metadata": {},
   "source": [
    "Или, можно прописать сразу две оси: "
   ]
  },
  {
   "cell_type": "code",
   "execution_count": null,
   "metadata": {},
   "outputs": [],
   "source": [
    "c = a[np.newaxis, :, np.newaxis]\n",
    "print(c)\n",
    "c.shape # (1, 9, 1)"
   ]
  },
  {
   "cell_type": "markdown",
   "metadata": {},
   "source": [
    "# Базовые математические операции над массивами"
   ]
  },
  {
   "cell_type": "markdown",
   "metadata": {},
   "source": [
    "Предположим, имеется обычный список и массив, созданный на его основе:"
   ]
  },
  {
   "cell_type": "code",
   "execution_count": null,
   "metadata": {},
   "outputs": [],
   "source": [
    "lst = [1, 2, 3]\n",
    "a = np.array([1, 2, 3])"
   ]
  },
  {
   "cell_type": "markdown",
   "metadata": {},
   "source": [
    "Сейчас вы увидите принципиальную разницу между двумя этими объектами. Умножим их на число 2: "
   ]
  },
  {
   "cell_type": "code",
   "execution_count": null,
   "metadata": {},
   "outputs": [],
   "source": [
    "lst*2\n",
    "a*2"
   ]
  },
  {
   "cell_type": "markdown",
   "metadata": {},
   "source": [
    "Видите, при умножении списка языка Python, он дублируется дважды, а при умножении на NumPy массив – каждый его элемент умножается математически на число 2. Если бы мы захотели то же самое реализовать непосредственно на Python, оперируя списками, то пришлось бы делать что-то вроде:"
   ]
  },
  {
   "cell_type": "code",
   "execution_count": null,
   "metadata": {},
   "outputs": [],
   "source": [
    "[x*2 for x in lst]"
   ]
  },
  {
   "cell_type": "markdown",
   "metadata": {},
   "source": [
    "Но выполнялась бы такая конструкция дольше, чем в случае с массивом NumPy. Именно благодаря удобству и скорости библиотека NumPy и приобрела свою популярность."
   ]
  },
  {
   "cell_type": "markdown",
   "metadata": {},
   "source": [
    "Пусть у нас задан тот же одномерный массив: "
   ]
  },
  {
   "cell_type": "code",
   "execution_count": 9,
   "metadata": {},
   "outputs": [],
   "source": [
    "a = np.array([1, 2, 3])"
   ]
  },
  {
   "cell_type": "markdown",
   "metadata": {},
   "source": [
    "Все указанные в таблице операции выполняются следующим образом: "
   ]
  },
  {
   "cell_type": "code",
   "execution_count": 10,
   "metadata": {},
   "outputs": [
    {
     "name": "stdout",
     "output_type": "stream",
     "text": [
      "[-1 -2 -3]\n",
      "[3 4 5]\n",
      "[3 4 5]\n",
      "[-2 -1  0]\n",
      "[ 5 10 15]\n",
      "[0.2 0.4 0.6]\n",
      "[0 1 1]\n",
      "[ 1  8 27]\n",
      "[1 0 1]\n"
     ]
    }
   ],
   "source": [
    "print(-a) # унарный минус\n",
    "print(a + 2) # сложение с числом\n",
    "print(2 + a)  # так тоже можно записывать\n",
    "print(a - 3) # вычитание с числом\n",
    "print(a * 5) # умножение на число\n",
    "print(a / 5)  # деление на число\n",
    "print(a // 2)  # целочисленное деление\n",
    "print(a ** 3)  # возведение в степень 3\n",
    "print(a % 2)  # вычисление по модулю 2"
   ]
  },
  {
   "cell_type": "markdown",
   "metadata": {},
   "source": [
    "Приоритеты этих операций такие же, что и при обычных математических вычислениях. А на выходе мы получаем новый массив с соответствующими значениями.\n",
    "\n",
    "Давайте теперь добавим еще один массив: "
   ]
  },
  {
   "cell_type": "code",
   "execution_count": 11,
   "metadata": {},
   "outputs": [],
   "source": [
    "b = np.array([3, 4, 5])"
   ]
  },
  {
   "cell_type": "markdown",
   "metadata": {},
   "source": [
    "и посмотрим на эти же операции, но с участием двух массивов:"
   ]
  },
  {
   "cell_type": "code",
   "execution_count": 12,
   "metadata": {},
   "outputs": [
    {
     "name": "stdout",
     "output_type": "stream",
     "text": [
      "[-2 -2 -2]\n",
      "[4 6 8]\n",
      "[ 3  8 15]\n",
      "[3.         2.         1.66666667]\n",
      "[3 2 1]\n",
      "[  3  16 125]\n",
      "[0 0 2]\n"
     ]
    }
   ],
   "source": [
    "print(a - b)\n",
    "print(b + a)\n",
    "print(a * b)\n",
    "print(b / a)\n",
    "print(b // a)\n",
    "print(b ** a)\n",
    "print(b % a)"
   ]
  },
  {
   "cell_type": "markdown",
   "metadata": {},
   "source": [
    "Везде мы видим поэлементные операции. Соответственно, чтобы они выполнялись, массивы должны быть согласованы по длине. Например, если взять массив: "
   ]
  },
  {
   "cell_type": "code",
   "execution_count": null,
   "metadata": {},
   "outputs": [],
   "source": [
    "b = np.array([3, 4, 5, 6])"
   ]
  },
  {
   "cell_type": "markdown",
   "metadata": {},
   "source": [
    "и выполнить операцию: "
   ]
  },
  {
   "cell_type": "code",
   "execution_count": null,
   "metadata": {},
   "outputs": [],
   "source": [
    "a + b  # ошибка: длины массивов не совпадают"
   ]
  },
  {
   "cell_type": "markdown",
   "metadata": {},
   "source": [
    "то возникнет ошибка из-за несовпадения длин массивов. Но вот такая операция с двумерным массивом b сработает: "
   ]
  },
  {
   "cell_type": "code",
   "execution_count": null,
   "metadata": {},
   "outputs": [],
   "source": [
    "b = np.arange(1, 7)\n",
    "b.resize(2, 3)\n",
    "a + b"
   ]
  },
  {
   "cell_type": "markdown",
   "metadata": {},
   "source": [
    "В этом случае массив a будет применен к каждой строке массива b. Такое поведение получило название транслирование массивов."
   ]
  },
  {
   "cell_type": "markdown",
   "metadata": {},
   "source": [
    "Все рассмотренные операции можно распространить и на многомерные массивы, главное, чтобы они были согласованы по размерам. Я приведу два небольших примера, так как думаю, общий принцип здесь понятен. Пусть у нас трехмерный и двумерный массивы: "
   ]
  },
  {
   "cell_type": "code",
   "execution_count": null,
   "metadata": {},
   "outputs": [],
   "source": [
    "a = np.arange(1, 19)\n",
    "a.resize(3, 3, 2)\n",
    "b = np.ones((3, 2))"
   ]
  },
  {
   "cell_type": "markdown",
   "metadata": {},
   "source": [
    "С ними можно выполнять такие операции:"
   ]
  },
  {
   "cell_type": "code",
   "execution_count": null,
   "metadata": {},
   "outputs": [],
   "source": [
    "print(a - b)\n",
    "print(a * 10)\n",
    "print(a // b)"
   ]
  },
  {
   "cell_type": "markdown",
   "metadata": {},
   "source": [
    "Если нам нужно произвести какие-либо математические операции с массивом и изменения сохранить в нем же, то удобно использовать сокращенные записи."
   ]
  },
  {
   "cell_type": "code",
   "execution_count": null,
   "metadata": {},
   "outputs": [],
   "source": [
    "a = np.array([1, 2, 6, 8])\n",
    "a += 5\n",
    "b = np.ones(4)\n",
    "b *= a"
   ]
  },
  {
   "cell_type": "markdown",
   "metadata": {},
   "source": [
    "# Элементы линейной алгебры"
   ]
  },
  {
   "cell_type": "markdown",
   "metadata": {},
   "source": [
    "**Упражнение 1**\n",
    "\n",
    "Создайте два вектора.\n",
    "\n",
    "Найдите в документации numpy функции **dot** и **inner** вычислите скалярное произведение векторов."
   ]
  },
  {
   "cell_type": "code",
   "execution_count": 14,
   "metadata": {},
   "outputs": [
    {
     "name": "stdout",
     "output_type": "stream",
     "text": [
      "100204\n"
     ]
    }
   ],
   "source": [
    "v1 = np.array([15, 60, 809, 4])\n",
    "v2 = np.array([5612, 50, 16, 20])\n",
    "\n",
    "print(np.inner(v1, v2))"
   ]
  },
  {
   "cell_type": "markdown",
   "metadata": {},
   "source": [
    "**Упражнение 2**\n",
    "\n",
    "Создайте две матрицы (двумерных массива).\n",
    "\n",
    "Найдите в документации numpy функции **dot** и **matmul** и с помощью этих функций вычислите произведение двух матриц.\n",
    "\n",
    "Создайте диагональную единичную матрицу и выполните умножение одной из предыдущих матриц на единичную матрицу."
   ]
  },
  {
   "cell_type": "code",
   "execution_count": 22,
   "metadata": {},
   "outputs": [
    {
     "name": "stdout",
     "output_type": "stream",
     "text": [
      "[[ 250  256  262  268  274]\n",
      " [ 850  872  894  916  938]\n",
      " [1450 1488 1526 1564 1602]\n",
      " [2050 2104 2158 2212 2266]\n",
      " [2650 2720 2790 2860 2930]]\n",
      "[[30. 31. 32. 33. 34.]\n",
      " [35. 36. 37. 38. 39.]\n",
      " [40. 41. 42. 43. 44.]\n",
      " [45. 46. 47. 48. 49.]]\n"
     ]
    }
   ],
   "source": [
    "m1 = np.arange(0, 20).reshape(5, 4)\n",
    "m2 = np.arange(30, 50).reshape(4, 5)\n",
    "e = np.eye(5)\n",
    "\n",
    "print(np.matmul(m1, m2))\n",
    "print(np.matmul(m2, e))"
   ]
  },
  {
   "cell_type": "markdown",
   "metadata": {},
   "source": [
    "Вычисление нормы вектора:"
   ]
  },
  {
   "cell_type": "code",
   "execution_count": 23,
   "metadata": {},
   "outputs": [
    {
     "data": {
      "text/plain": [
       "10.14889156509222"
      ]
     },
     "execution_count": 23,
     "metadata": {},
     "output_type": "execute_result"
    }
   ],
   "source": [
    "b = np.array([0, 2, 3, 4, 5, 7])\n",
    "d = np.linalg.norm(b)\n",
    "d"
   ]
  },
  {
   "cell_type": "markdown",
   "metadata": {},
   "source": [
    "**Упражнение 3**\n",
    "\n",
    "Вычислите норму матрицы с помощью функции **np.linalg.norm**."
   ]
  },
  {
   "cell_type": "code",
   "execution_count": 24,
   "metadata": {},
   "outputs": [
    {
     "name": "stdout",
     "output_type": "stream",
     "text": [
      "49.69909455915671\n"
     ]
    }
   ],
   "source": [
    "print(np.linalg.norm(m1))"
   ]
  },
  {
   "cell_type": "markdown",
   "metadata": {},
   "source": [
    "**Упражнение 4**\n",
    "\n",
    "Вычислите косинус угла между векторами: $\\normalsize cos\\alpha = \\frac{a*b}{\\|a\\|*\\|b\\|}$"
   ]
  },
  {
   "cell_type": "code",
   "execution_count": 26,
   "metadata": {},
   "outputs": [
    {
     "name": "stdout",
     "output_type": "stream",
     "text": [
      "0.022005257392466525\n"
     ]
    }
   ],
   "source": [
    "print(np.inner(v1, v2)/(np.linalg.norm(v1)*np.linalg.norm(v2)))"
   ]
  },
  {
   "cell_type": "markdown",
   "metadata": {},
   "source": [
    "____________________________________________________________________________________________________________________\n",
    "Вычисление определителя матрицы:"
   ]
  },
  {
   "cell_type": "code",
   "execution_count": 27,
   "metadata": {},
   "outputs": [
    {
     "name": "stdout",
     "output_type": "stream",
     "text": [
      "[[-4 -1  2]\n",
      " [10  4 -1]\n",
      " [ 8  3  1]]\n",
      "-14.000000000000009\n"
     ]
    }
   ],
   "source": [
    "A = np.matrix('-4 -1 2; 10 4 -1; 8 3 1') # еще один способ для создания матрицы\n",
    "print(A)\n",
    "d = np.linalg.det(A)\n",
    "print(d)"
   ]
  },
  {
   "cell_type": "markdown",
   "metadata": {},
   "source": [
    "**Упражнение 5**\n",
    "\n",
    "Транспонируйте матрицу, вычислите определитель. Отличается ли определитель транспонированной матрицы от определителя исходной матрицы?\n",
    "\n",
    "Замените одну из строк матрицы на строку из нулей, вычислите определитель матрицы.\n",
    "\n",
    "Создайте матрицу, у которой две строки переставлены местами по сравнению с исходной матрицей, вычислите определитель новой матрицы.\n",
    "\n",
    "Создайте матрицу с двумя одинаковыми строками, вычислите ее определитель.\n",
    "\n",
    "Умножьте одну из строк исходной матрицы на число, вычислите определитель.\n",
    "\n",
    "Прибавьте к элементам одной строки прибавить элементы другой строки, умноженные на одно и тоже число, вычтслите определитель."
   ]
  },
  {
   "cell_type": "code",
   "execution_count": 65,
   "metadata": {},
   "outputs": [
    {
     "name": "stdout",
     "output_type": "stream",
     "text": [
      "-102345.99999999999 -102345.99999999999\n",
      "0.0\n",
      "102345.99999999999\n",
      "0.0\n",
      "-0.10234599999999995\n",
      "-102345.99999999908\n"
     ]
    }
   ],
   "source": [
    "m = np.array([[1, 6, 91],[16, 49, 30],[29, 46, 933]])\n",
    "\n",
    "mt = m.copy().T\n",
    "print(np.linalg.det(mt), np.linalg.det(m))\n",
    "mt[0] = np.zeros(3)\n",
    "print(np.linalg.det(mt))\n",
    "\n",
    "ms = m.copy()\n",
    "ms[[0, 1]] = ms[[1, 0]]\n",
    "print(np.linalg.det(ms))\n",
    "\n",
    "ms[[0]] = ms[[1]]\n",
    "print(np.linalg.det(ms))\n",
    "\n",
    "print(np.linalg.det(m*0.01))\n",
    "m[[0]] += m[[1]]*10\n",
    "print(np.linalg.det(m))"
   ]
  },
  {
   "cell_type": "markdown",
   "metadata": {},
   "source": [
    "# Построение графиков в matplotlib"
   ]
  },
  {
   "cell_type": "markdown",
   "metadata": {},
   "source": [
    "Построение графика по точкам:"
   ]
  },
  {
   "cell_type": "code",
   "execution_count": 69,
   "metadata": {},
   "outputs": [
    {
     "data": {
      "image/png": "[encoded data removed]",
      "text/plain": [
       "<Figure size 640x480 with 1 Axes>"
      ]
     },
     "metadata": {},
     "output_type": "display_data"
    }
   ],
   "source": [
    "import matplotlib.pyplot as plt\n",
    "plt.plot([1, 2, 3, 4, 5], [1, 2, 3, 4, 5])\n",
    "plt.show()"
   ]
  },
  {
   "cell_type": "markdown",
   "metadata": {},
   "source": [
    "Для начала построим линейную зависимость, дадим нашему графику название, подпишем оси и отобразим сетку:"
   ]
  },
  {
   "cell_type": "code",
   "execution_count": 70,
   "metadata": {},
   "outputs": [
    {
     "data": {
      "text/plain": [
       "[<matplotlib.lines.Line2D at 0x219f9bb5ba0>]"
      ]
     },
     "execution_count": 70,
     "metadata": {},
     "output_type": "execute_result"
    },
    {
     "data": {
      "image/png": "[encoded data removed]",
      "text/plain": [
       "<Figure size 640x480 with 1 Axes>"
      ]
     },
     "metadata": {},
     "output_type": "display_data"
    }
   ],
   "source": [
    "import numpy as np\n",
    "# Независимая (x) и зависимая (y) переменные\n",
    "x = np.linspace(0, 10, 50)\n",
    "y = x\n",
    "\n",
    "# Построение графика\n",
    "plt.title(\"Линейная зависимость y = x\") # заголовок\n",
    "plt.xlabel(\"x\") # ось абсцисс\n",
    "plt.ylabel(\"y\") # ось ординат\n",
    "plt.grid()      # включение отображение сетки\n",
    "plt.plot(x, y)  # построение графика"
   ]
  },
  {
   "cell_type": "markdown",
   "metadata": {},
   "source": [
    "Изменим тип линии и ее цвет, для этого в функцию plot(), в качестве третьего параметра передадим строку, сформированную определенным образом, в нашем случае это “r–”, где “r” означает красный цвет, а “–” – тип линии – пунктирная линия."
   ]
  },
  {
   "cell_type": "code",
   "execution_count": 71,
   "metadata": {},
   "outputs": [
    {
     "data": {
      "text/plain": [
       "[<matplotlib.lines.Line2D at 0x219f9c2aef0>]"
      ]
     },
     "execution_count": 71,
     "metadata": {},
     "output_type": "execute_result"
    },
    {
     "data": {
      "image/png": "[encoded data removed]",
      "text/plain": [
       "<Figure size 640x480 with 1 Axes>"
      ]
     },
     "metadata": {},
     "output_type": "display_data"
    }
   ],
   "source": [
    "# Построение графика\n",
    "plt.title(\"Линейная зависимость y = x\") # заголовок\n",
    "plt.xlabel(\"x\") # ось абсцисс\n",
    "plt.ylabel(\"y\") # ось ординат\n",
    "plt.grid()      # включение отображение сетки\n",
    "plt.plot(x, y, \"r--\")  # построение графика"
   ]
  },
  {
   "cell_type": "markdown",
   "metadata": {},
   "source": [
    "**Несколько графиков на одном поле**\n",
    "\n",
    "Построим несколько графиков на одном поле, для этого добавим квадратичную зависимость:"
   ]
  },
  {
   "cell_type": "code",
   "execution_count": 72,
   "metadata": {},
   "outputs": [
    {
     "data": {
      "text/plain": [
       "[<matplotlib.lines.Line2D at 0x219f9a7c790>,\n",
       " <matplotlib.lines.Line2D at 0x219f9a7c7f0>]"
      ]
     },
     "execution_count": 72,
     "metadata": {},
     "output_type": "execute_result"
    },
    {
     "data": {
      "image/png": "[encoded data removed]",
      "text/plain": [
       "<Figure size 640x480 with 1 Axes>"
      ]
     },
     "metadata": {},
     "output_type": "display_data"
    }
   ],
   "source": [
    "# Линейная зависимость\n",
    "x = np.linspace(0, 10, 50)\n",
    "y1 = x\n",
    "# Квадратичная зависимость\n",
    "y2 = [i**2 for i in x]\n",
    "# Построение графика\n",
    "plt.title(\"Зависимости: y1 = x, y2 = x^2\") # заголовок\n",
    "plt.xlabel(\"x\")         # ось абсцисс\n",
    "plt.ylabel(\"y1, y2\")    # ось ординат\n",
    "plt.grid()              # включение отображение сетки\n",
    "plt.plot(x, y1, x, y2)  # построение графика"
   ]
  },
  {
   "cell_type": "markdown",
   "metadata": {},
   "source": [
    "В приведенном примере в функцию plot() последовательно передаются два массива для построения первого графика и два массива для построения второго, при этом, как вы можете заметить, для обоих графиков массив значений независимой переменной x один и то же."
   ]
  },
  {
   "cell_type": "markdown",
   "metadata": {},
   "source": [
    "**Несколько разделенных полей с графиками**\n",
    "\n",
    "Третья, довольно часто встречающаяся задача – это отобразить два или более различных поля, на которых будет отображено по одному или более графику.\n",
    "\n",
    "Построим уже известные нам две зависимость на разных полях."
   ]
  },
  {
   "cell_type": "code",
   "execution_count": 73,
   "metadata": {},
   "outputs": [
    {
     "data": {
      "image/png": "[encoded data removed]",
      "text/plain": [
       "<Figure size 900x900 with 2 Axes>"
      ]
     },
     "metadata": {},
     "output_type": "display_data"
    }
   ],
   "source": [
    "# Линейная зависимость\n",
    "x = np.linspace(0, 10, 50)\n",
    "y1 = x\n",
    "# Квадратичная зависимость\n",
    "y2 = [i**2 for i in x]\n",
    "# Построение графиков\n",
    "plt.figure(figsize=(9, 9))\n",
    "plt.subplot(2, 1, 1)\n",
    "plt.plot(x, y1)               # построение графика\n",
    "plt.title(\"Зависимости: y1 = x, y2 = x^2\") # заголовок\n",
    "plt.ylabel(\"y1\", fontsize=14) # ось ординат\n",
    "plt.grid(True)                # включение отображение сетки\n",
    "plt.subplot(2, 1, 2)\n",
    "plt.plot(x, y2)               # построение графика\n",
    "plt.xlabel(\"x\", fontsize=14)  # ось абсцисс\n",
    "plt.ylabel(\"y2\", fontsize=14) # ось ординат\n",
    "plt.grid(True)                # включение отображение сетки"
   ]
  },
  {
   "cell_type": "markdown",
   "metadata": {},
   "source": [
    "Здесь мы воспользовались новыми функциями: \n",
    "\n",
    "figure() – функция для задания глобальных параметров отображения графиков. В нее, в качестве аргумента, мы передаем кортеж, определяющий размер общего поля. \n",
    "\n",
    "subplot() – функция для задания местоположения поля с графиком. Существует несколько способов задания областей для вывода через функцию subplot() мы воспользовались следующим: первый аргумент – количество строк, второй – столбцов в формируемом поле, третий – индекс (номер поля, считаем сверху вниз, слева направо).\n",
    "\n",
    "Дополнительно мы использовали параметр fontsize для функций xlabel() и ylabel(), для задания размера шрифта."
   ]
  },
  {
   "cell_type": "markdown",
   "metadata": {},
   "source": [
    "**Точечная диаграмма (scatter plot)**"
   ]
  },
  {
   "cell_type": "code",
   "execution_count": 74,
   "metadata": {},
   "outputs": [
    {
     "name": "stdout",
     "output_type": "stream",
     "text": [
      "x [0.36431509 0.62803119 0.15333212 0.40769834 0.58846389 0.38331057\n",
      " 0.37790329 0.75674434 0.61722596 0.40232033 0.01447657 0.24266632\n",
      " 0.14373436 0.77343076 0.95662657 0.59790376 0.57835411 0.29855803\n",
      " 0.47625734 0.03213618 0.66408644 0.92651439 0.75233114 0.59413742\n",
      " 0.60377171 0.68341016 0.22191929 0.64382945 0.44371498 0.20012015\n",
      " 0.82897791 0.25586709 0.41502017 0.43989527 0.54021072 0.40506315\n",
      " 0.85671932 0.41718362 0.11002874 0.66139318 0.14786337 0.61270451\n",
      " 0.14884938 0.99939992 0.11721094 0.70386124 0.78543749 0.72848281\n",
      " 0.60810076 0.30916959]\n",
      "y [0.56111201 0.60685436 0.25034309 0.84135997 0.76528091 0.01081322\n",
      " 0.18197033 0.10880746 0.22759448 0.61970998 0.52260604 0.99969901\n",
      " 0.17998838 0.13845607 0.26026907 0.99489817 0.845273   0.23740555\n",
      " 0.4696584  0.96850826 0.3449454  0.06954317 0.97566773 0.38189462\n",
      " 0.83184139 0.02788636 0.50218945 0.95809576 0.68929157 0.65300025\n",
      " 0.76390678 0.80853444 0.11831582 0.02582714 0.04933572 0.02788678\n",
      " 0.01958028 0.29377978 0.29909843 0.97931106 0.42407946 0.82289589\n",
      " 0.48349774 0.31657351 0.0456572  0.76645304 0.04572333 0.20104659\n",
      " 0.65524156 0.89263721]\n"
     ]
    },
    {
     "data": {
      "image/png": "[encoded data removed]",
      "text/plain": [
       "<Figure size 640x480 with 1 Axes>"
      ]
     },
     "metadata": {},
     "output_type": "display_data"
    }
   ],
   "source": [
    "import numpy as np\n",
    "import matplotlib.pyplot as plt\n",
    "\n",
    "\n",
    "N = 50\n",
    "x = np.random.rand(N) # случайный вектор из 50 элементов\n",
    "print(\"x\", x)\n",
    "y = np.random.rand(N) # случайный вектор из 50 элементов\n",
    "print(\"y\", y)\n",
    "colors = np.random.rand(N) # случайный вектор из 50 элементов, чтобы задавать цвета каждой из точек\n",
    "area = (30 * np.random.rand(N))**2 # случайные площади каждой из точек\n",
    "\n",
    "plt.scatter(x, y, s=area, c=colors, alpha=0.5) # нанесение точек на диаграмму, x и y - координаты\n",
    "                                               # area - площади точек, colors - цвета точек\n",
    "                                               # alpha - значение прозрачности точек\n",
    "plt.show()"
   ]
  },
  {
   "cell_type": "markdown",
   "metadata": {},
   "source": [
    "**Пример с вычислением числа $\\pi$ с помощью метода Монте Карло и визуализация результатов**"
   ]
  },
  {
   "cell_type": "markdown",
   "metadata": {},
   "source": [
    "Переключим режим отображения графиков в notebook:"
   ]
  },
  {
   "cell_type": "code",
   "execution_count": 75,
   "metadata": {},
   "outputs": [],
   "source": [
    "%matplotlib notebook"
   ]
  },
  {
   "cell_type": "code",
   "execution_count": 76,
   "metadata": {},
   "outputs": [],
   "source": [
    "import matplotlib.pyplot as plt\n",
    "import numpy as np\n",
    "from matplotlib.axes import Axes\n",
    "from scipy.stats import norm\n",
    "\n",
    "class PiAnimation:\n",
    "    def __init__(self, ax: Axes, ax_pi: Axes, ax_gaus: Axes):\n",
    "        self.inner = 0\n",
    "        self.out = 0\n",
    "\n",
    "        self.xi, self.yi = [], []\n",
    "        self.xo, self.yo = [], []\n",
    "\n",
    "        ax.set_xlim(-1.0, 1.5)\n",
    "        ax.set_ylim(-1.0, 1.5)\n",
    "        ax.axis(\"off\")\n",
    "        ax.add_artist(plt.Circle((0.0, 0.0), 1, fill=False))\n",
    "        ax.add_artist(plt.Rectangle((-1, -1), 2, 2, fill=False))\n",
    "\n",
    "        self.line_i = ax.plot(self.xi, self.yi, \"ro\")[0]\n",
    "        self.line_o = ax.plot(self.xo, self.yo, \"bo\")[0]\n",
    "        self.text = ax.text(0.3, 1.1, \"\", fontdict={\"fontsize\": 32})\n",
    "        self.text_n = ax.text(-0.9, 1.1, \"\", fontdict={\"fontsize\": 32})\n",
    "\n",
    "        self.ax_pi = ax_pi\n",
    "        self.pi = []\n",
    "        self.pi_line = ax_pi.plot([], self.pi,\"-\")[0]\n",
    "        ax_pi.set_ylim(0, 2*np.pi)\n",
    "\n",
    "        self.ax_gaus = ax_gaus\n",
    "        self.gauss_point = np.linspace(0.5*np.pi, 1.5 * np.pi, 200)\n",
    "        self.gauss = ax_gaus.plot(self.gauss_point, np.zeros(200), \"\")[0]\n",
    "\n",
    "    def __call__(self, n):\n",
    "        x, y = 2*(np.random.random_sample(2) - 0.5)\n",
    "        if x ** 2 + y ** 2 <= 1:\n",
    "            self.inner += 1\n",
    "            self.xi.append(x)\n",
    "            self.yi.append(y)\n",
    "            self.line_i.set_data(self.xi, self.yi)\n",
    "        else:\n",
    "            self.out +=1\n",
    "            self.xo.append(x)\n",
    "            self.yo.append(y)\n",
    "            self.line_o.set_data(self.xo, self.yo)\n",
    "        N = self.inner + self.out\n",
    "        prob = self.inner/N\n",
    "        pi = 4*prob\n",
    "        self.pi.append(pi)\n",
    "        self.text.set_text(r\"$\\pi = {:.5}$\".format(pi))\n",
    "        self.text_n.set_text(\"N = {:5d}   \".format(N))\n",
    "\n",
    "        self.pi_line.set_data(range(N), self.pi)\n",
    "        self.ax_pi.relim()\n",
    "        self.ax_pi.autoscale()\n",
    "\n",
    "        mean, var = np.mean(self.pi), np.var(self.pi)\n",
    "\n",
    "        if N > 3:\n",
    "            self.gauss.set_data(self.gauss_point, norm.pdf(self.gauss_point, loc = mean, scale = var))\n",
    "            self.ax_gaus.relim()\n",
    "            self.ax_gaus.autoscale()\n",
    "        return self.line_i, self.line_o, self.text, self.text_n, self.pi_line, self.gauss"
   ]
  },
  {
   "cell_type": "code",
   "execution_count": 77,
   "metadata": {},
   "outputs": [
    {
     "data": {
      "application/javascript": [
       "/* Put everything inside the global mpl namespace */\n",
       "/* global mpl */\n",
       "window.mpl = {};\n",
       "\n",
       "mpl.get_websocket_type = function () {\n",
       "    if (typeof WebSocket !== 'undefined') {\n",
       "        return WebSocket;\n",
       "    } else if (typeof MozWebSocket !== 'undefined') {\n",
       "        return MozWebSocket;\n",
       "    } else {\n",
       "        alert(\n",
       "            'Your browser does not have WebSocket support. ' +\n",
       "                'Please try Chrome, Safari or Firefox ≥ 6. ' +\n",
       "                'Firefox 4 and 5 are also supported but you ' +\n",
       "                'have to enable WebSockets in about:config.'\n",
       "        );\n",
       "    }\n",
       "};\n",
       "\n",
       "mpl.figure = function (figure_id, websocket, ondownload, parent_element) {\n",
       "    this.id = figure_id;\n",
       "\n",
       "    this.ws = websocket;\n",
       "\n",
       "    this.supports_binary = this.ws.binaryType !== undefined;\n",
       "\n",
       "    if (!this.supports_binary) {\n",
       "        var warnings = document.getElementById('mpl-warnings');\n",
       "        if (warnings) {\n",
       "            warnings.style.display = 'block';\n",
       "            warnings.textContent =\n",
       "                'This browser does not support binary websocket messages. ' +\n",
       "                'Performance may be slow.';\n",
       "        }\n",
       "    }\n",
       "\n",
       "    this.imageObj = new Image();\n",
       "\n",
       "    this.context = undefined;\n",
       "    this.message = undefined;\n",
       "    this.canvas = undefined;\n",
       "    this.rubberband_canvas = undefined;\n",
       "    this.rubberband_context = undefined;\n",
       "    this.format_dropdown = undefined;\n",
       "\n",
       "    this.image_mode = 'full';\n",
       "\n",
       "    this.root = document.createElement('div');\n",
       "    this.root.setAttribute('style', 'display: inline-block');\n",
       "    this._root_extra_style(this.root);\n",
       "\n",
       "    parent_element.appendChild(this.root);\n",
       "\n",
       "    this._init_header(this);\n",
       "    this._init_canvas(this);\n",
       "    this._init_toolbar(this);\n",
       "\n",
       "    var fig = this;\n",
       "\n",
       "    this.waiting = false;\n",
       "\n",
       "    this.ws.onopen = function () {\n",
       "        fig.send_message('supports_binary', { value: fig.supports_binary });\n",
       "        fig.send_message('send_image_mode', {});\n",
       "        if (fig.ratio !== 1) {\n",
       "            fig.send_message('set_device_pixel_ratio', {\n",
       "                device_pixel_ratio: fig.ratio,\n",
       "            });\n",
       "        }\n",
       "        fig.send_message('refresh', {});\n",
       "    };\n",
       "\n",
       "    this.imageObj.onload = function () {\n",
       "        if (fig.image_mode === 'full') {\n",
       "            // Full images could contain transparency (where diff images\n",
       "            // almost always do), so we need to clear the canvas so that\n",
       "            // there is no ghosting.\n",
       "            fig.context.clearRect(0, 0, fig.canvas.width, fig.canvas.height);\n",
       "        }\n",
       "        fig.context.drawImage(fig.imageObj, 0, 0);\n",
       "    };\n",
       "\n",
       "    this.imageObj.onunload = function () {\n",
       "        fig.ws.close();\n",
       "    };\n",
       "\n",
       "    this.ws.onmessage = this._make_on_message_function(this);\n",
       "\n",
       "    this.ondownload = ondownload;\n",
       "};\n",
       "\n",
       "mpl.figure.prototype._init_header = function () {\n",
       "    var titlebar = document.createElement('div');\n",
       "    titlebar.classList =\n",
       "        'ui-dialog-titlebar ui-widget-header ui-corner-all ui-helper-clearfix';\n",
       "    var titletext = document.createElement('div');\n",
       "    titletext.classList = 'ui-dialog-title';\n",
       "    titletext.setAttribute(\n",
       "        'style',\n",
       "        'width: 100%; text-align: center; padding: 3px;'\n",
       "    );\n",
       "    titlebar.appendChild(titletext);\n",
       "    this.root.appendChild(titlebar);\n",
       "    this.header = titletext;\n",
       "};\n",
       "\n",
       "mpl.figure.prototype._canvas_extra_style = function (_canvas_div) {};\n",
       "\n",
       "mpl.figure.prototype._root_extra_style = function (_canvas_div) {};\n",
       "\n",
       "mpl.figure.prototype._init_canvas = function () {\n",
       "    var fig = this;\n",
       "\n",
       "    var canvas_div = (this.canvas_div = document.createElement('div'));\n",
       "    canvas_div.setAttribute(\n",
       "        'style',\n",
       "        'border: 1px solid #ddd;' +\n",
       "            'box-sizing: content-box;' +\n",
       "            'clear: both;' +\n",
       "            'min-height: 1px;' +\n",
       "            'min-width: 1px;' +\n",
       "            'outline: 0;' +\n",
       "            'overflow: hidden;' +\n",
       "            'position: relative;' +\n",
       "            'resize: both;'\n",
       "    );\n",
       "\n",
       "    function on_keyboard_event_closure(name) {\n",
       "        return function (event) {\n",
       "            return fig.key_event(event, name);\n",
       "        };\n",
       "    }\n",
       "\n",
       "    canvas_div.addEventListener(\n",
       "        'keydown',\n",
       "        on_keyboard_event_closure('key_press')\n",
       "    );\n",
       "    canvas_div.addEventListener(\n",
       "        'keyup',\n",
       "        on_keyboard_event_closure('key_release')\n",
       "    );\n",
       "\n",
       "    this._canvas_extra_style(canvas_div);\n",
       "    this.root.appendChild(canvas_div);\n",
       "\n",
       "    var canvas = (this.canvas = document.createElement('canvas'));\n",
       "    canvas.classList.add('mpl-canvas');\n",
       "    canvas.setAttribute('style', 'box-sizing: content-box;');\n",
       "\n",
       "    this.context = canvas.getContext('2d');\n",
       "\n",
       "    var backingStore =\n",
       "        this.context.backingStorePixelRatio ||\n",
       "        this.context.webkitBackingStorePixelRatio ||\n",
       "        this.context.mozBackingStorePixelRatio ||\n",
       "        this.context.msBackingStorePixelRatio ||\n",
       "        this.context.oBackingStorePixelRatio ||\n",
       "        this.context.backingStorePixelRatio ||\n",
       "        1;\n",
       "\n",
       "    this.ratio = (window.devicePixelRatio || 1) / backingStore;\n",
       "\n",
       "    var rubberband_canvas = (this.rubberband_canvas = document.createElement(\n",
       "        'canvas'\n",
       "    ));\n",
       "    rubberband_canvas.setAttribute(\n",
       "        'style',\n",
       "        'box-sizing: content-box; position: absolute; left: 0; top: 0; z-index: 1;'\n",
       "    );\n",
       "\n",
       "    // Apply a ponyfill if ResizeObserver is not implemented by browser.\n",
       "    if (this.ResizeObserver === undefined) {\n",
       "        if (window.ResizeObserver !== undefined) {\n",
       "            this.ResizeObserver = window.ResizeObserver;\n",
       "        } else {\n",
       "            var obs = _JSXTOOLS_RESIZE_OBSERVER({});\n",
       "            this.ResizeObserver = obs.ResizeObserver;\n",
       "        }\n",
       "    }\n",
       "\n",
       "    this.resizeObserverInstance = new this.ResizeObserver(function (entries) {\n",
       "        var nentries = entries.length;\n",
       "        for (var i = 0; i < nentries; i++) {\n",
       "            var entry = entries[i];\n",
       "            var width, height;\n",
       "            if (entry.contentBoxSize) {\n",
       "                if (entry.contentBoxSize instanceof Array) {\n",
       "                    // Chrome 84 implements new version of spec.\n",
       "                    width = entry.contentBoxSize[0].inlineSize;\n",
       "                    height = entry.contentBoxSize[0].blockSize;\n",
       "                } else {\n",
       "                    // Firefox implements old version of spec.\n",
       "                    width = entry.contentBoxSize.inlineSize;\n",
       "                    height = entry.contentBoxSize.blockSize;\n",
       "                }\n",
       "            } else {\n",
       "                // Chrome <84 implements even older version of spec.\n",
       "                width = entry.contentRect.width;\n",
       "                height = entry.contentRect.height;\n",
       "            }\n",
       "\n",
       "            // Keep the size of the canvas and rubber band canvas in sync with\n",
       "            // the canvas container.\n",
       "            if (entry.devicePixelContentBoxSize) {\n",
       "                // Chrome 84 implements new version of spec.\n",
       "                canvas.setAttribute(\n",
       "                    'width',\n",
       "                    entry.devicePixelContentBoxSize[0].inlineSize\n",
       "                );\n",
       "                canvas.setAttribute(\n",
       "                    'height',\n",
       "                    entry.devicePixelContentBoxSize[0].blockSize\n",
       "                );\n",
       "            } else {\n",
       "                canvas.setAttribute('width', width * fig.ratio);\n",
       "                canvas.setAttribute('height', height * fig.ratio);\n",
       "            }\n",
       "            canvas.setAttribute(\n",
       "                'style',\n",
       "                'width: ' + width + 'px; height: ' + height + 'px;'\n",
       "            );\n",
       "\n",
       "            rubberband_canvas.setAttribute('width', width);\n",
       "            rubberband_canvas.setAttribute('height', height);\n",
       "\n",
       "            // And update the size in Python. We ignore the initial 0/0 size\n",
       "            // that occurs as the element is placed into the DOM, which should\n",
       "            // otherwise not happen due to the minimum size styling.\n",
       "            if (fig.ws.readyState == 1 && width != 0 && height != 0) {\n",
       "                fig.request_resize(width, height);\n",
       "            }\n",
       "        }\n",
       "    });\n",
       "    this.resizeObserverInstance.observe(canvas_div);\n",
       "\n",
       "    function on_mouse_event_closure(name) {\n",
       "        return function (event) {\n",
       "            return fig.mouse_event(event, name);\n",
       "        };\n",
       "    }\n",
       "\n",
       "    rubberband_canvas.addEventListener(\n",
       "        'mousedown',\n",
       "        on_mouse_event_closure('button_press')\n",
       "    );\n",
       "    rubberband_canvas.addEventListener(\n",
       "        'mouseup',\n",
       "        on_mouse_event_closure('button_release')\n",
       "    );\n",
       "    rubberband_canvas.addEventListener(\n",
       "        'dblclick',\n",
       "        on_mouse_event_closure('dblclick')\n",
       "    );\n",
       "    // Throttle sequential mouse events to 1 every 20ms.\n",
       "    rubberband_canvas.addEventListener(\n",
       "        'mousemove',\n",
       "        on_mouse_event_closure('motion_notify')\n",
       "    );\n",
       "\n",
       "    rubberband_canvas.addEventListener(\n",
       "        'mouseenter',\n",
       "        on_mouse_event_closure('figure_enter')\n",
       "    );\n",
       "    rubberband_canvas.addEventListener(\n",
       "        'mouseleave',\n",
       "        on_mouse_event_closure('figure_leave')\n",
       "    );\n",
       "\n",
       "    canvas_div.addEventListener('wheel', function (event) {\n",
       "        if (event.deltaY < 0) {\n",
       "            event.step = 1;\n",
       "        } else {\n",
       "            event.step = -1;\n",
       "        }\n",
       "        on_mouse_event_closure('scroll')(event);\n",
       "    });\n",
       "\n",
       "    canvas_div.appendChild(canvas);\n",
       "    canvas_div.appendChild(rubberband_canvas);\n",
       "\n",
       "    this.rubberband_context = rubberband_canvas.getContext('2d');\n",
       "    this.rubberband_context.strokeStyle = '#000000';\n",
       "\n",
       "    this._resize_canvas = function (width, height, forward) {\n",
       "        if (forward) {\n",
       "            canvas_div.style.width = width + 'px';\n",
       "            canvas_div.style.height = height + 'px';\n",
       "        }\n",
       "    };\n",
       "\n",
       "    // Disable right mouse context menu.\n",
       "    this.rubberband_canvas.addEventListener('contextmenu', function (_e) {\n",
       "        event.preventDefault();\n",
       "        return false;\n",
       "    });\n",
       "\n",
       "    function set_focus() {\n",
       "        canvas.focus();\n",
       "        canvas_div.focus();\n",
       "    }\n",
       "\n",
       "    window.setTimeout(set_focus, 100);\n",
       "};\n",
       "\n",
       "mpl.figure.prototype._init_toolbar = function () {\n",
       "    var fig = this;\n",
       "\n",
       "    var toolbar = document.createElement('div');\n",
       "    toolbar.classList = 'mpl-toolbar';\n",
       "    this.root.appendChild(toolbar);\n",
       "\n",
       "    function on_click_closure(name) {\n",
       "        return function (_event) {\n",
       "            return fig.toolbar_button_onclick(name);\n",
       "        };\n",
       "    }\n",
       "\n",
       "    function on_mouseover_closure(tooltip) {\n",
       "        return function (event) {\n",
       "            if (!event.currentTarget.disabled) {\n",
       "                return fig.toolbar_button_onmouseover(tooltip);\n",
       "            }\n",
       "        };\n",
       "    }\n",
       "\n",
       "    fig.buttons = {};\n",
       "    var buttonGroup = document.createElement('div');\n",
       "    buttonGroup.classList = 'mpl-button-group';\n",
       "    for (var toolbar_ind in mpl.toolbar_items) {\n",
       "        var name = mpl.toolbar_items[toolbar_ind][0];\n",
       "        var tooltip = mpl.toolbar_items[toolbar_ind][1];\n",
       "        var image = mpl.toolbar_items[toolbar_ind][2];\n",
       "        var method_name = mpl.toolbar_items[toolbar_ind][3];\n",
       "\n",
       "        if (!name) {\n",
       "            /* Instead of a spacer, we start a new button group. */\n",
       "            if (buttonGroup.hasChildNodes()) {\n",
       "                toolbar.appendChild(buttonGroup);\n",
       "            }\n",
       "            buttonGroup = document.createElement('div');\n",
       "            buttonGroup.classList = 'mpl-button-group';\n",
       "            continue;\n",
       "        }\n",
       "\n",
       "        var button = (fig.buttons[name] = document.createElement('button'));\n",
       "        button.classList = 'mpl-widget';\n",
       "        button.setAttribute('role', 'button');\n",
       "        button.setAttribute('aria-disabled', 'false');\n",
       "        button.addEventListener('click', on_click_closure(method_name));\n",
       "        button.addEventListener('mouseover', on_mouseover_closure(tooltip));\n",
       "\n",
       "        var icon_img = document.createElement('img');\n",
       "        icon_img.src = '_images/' + image + '.png';\n",
       "        icon_img.srcset = '_images/' + image + '_large.png 2x';\n",
       "        icon_img.alt = tooltip;\n",
       "        button.appendChild(icon_img);\n",
       "\n",
       "        buttonGroup.appendChild(button);\n",
       "    }\n",
       "\n",
       "    if (buttonGroup.hasChildNodes()) {\n",
       "        toolbar.appendChild(buttonGroup);\n",
       "    }\n",
       "\n",
       "    var fmt_picker = document.createElement('select');\n",
       "    fmt_picker.classList = 'mpl-widget';\n",
       "    toolbar.appendChild(fmt_picker);\n",
       "    this.format_dropdown = fmt_picker;\n",
       "\n",
       "    for (var ind in mpl.extensions) {\n",
       "        var fmt = mpl.extensions[ind];\n",
       "        var option = document.createElement('option');\n",
       "        option.selected = fmt === mpl.default_extension;\n",
       "        option.innerHTML = fmt;\n",
       "        fmt_picker.appendChild(option);\n",
       "    }\n",
       "\n",
       "    var status_bar = document.createElement('span');\n",
       "    status_bar.classList = 'mpl-message';\n",
       "    toolbar.appendChild(status_bar);\n",
       "    this.message = status_bar;\n",
       "};\n",
       "\n",
       "mpl.figure.prototype.request_resize = function (x_pixels, y_pixels) {\n",
       "    // Request matplotlib to resize the figure. Matplotlib will then trigger a resize in the client,\n",
       "    // which will in turn request a refresh of the image.\n",
       "    this.send_message('resize', { width: x_pixels, height: y_pixels });\n",
       "};\n",
       "\n",
       "mpl.figure.prototype.send_message = function (type, properties) {\n",
       "    properties['type'] = type;\n",
       "    properties['figure_id'] = this.id;\n",
       "    this.ws.send(JSON.stringify(properties));\n",
       "};\n",
       "\n",
       "mpl.figure.prototype.send_draw_message = function () {\n",
       "    if (!this.waiting) {\n",
       "        this.waiting = true;\n",
       "        this.ws.send(JSON.stringify({ type: 'draw', figure_id: this.id }));\n",
       "    }\n",
       "};\n",
       "\n",
       "mpl.figure.prototype.handle_save = function (fig, _msg) {\n",
       "    var format_dropdown = fig.format_dropdown;\n",
       "    var format = format_dropdown.options[format_dropdown.selectedIndex].value;\n",
       "    fig.ondownload(fig, format);\n",
       "};\n",
       "\n",
       "mpl.figure.prototype.handle_resize = function (fig, msg) {\n",
       "    var size = msg['size'];\n",
       "    if (size[0] !== fig.canvas.width || size[1] !== fig.canvas.height) {\n",
       "        fig._resize_canvas(size[0], size[1], msg['forward']);\n",
       "        fig.send_message('refresh', {});\n",
       "    }\n",
       "};\n",
       "\n",
       "mpl.figure.prototype.handle_rubberband = function (fig, msg) {\n",
       "    var x0 = msg['x0'] / fig.ratio;\n",
       "    var y0 = (fig.canvas.height - msg['y0']) / fig.ratio;\n",
       "    var x1 = msg['x1'] / fig.ratio;\n",
       "    var y1 = (fig.canvas.height - msg['y1']) / fig.ratio;\n",
       "    x0 = Math.floor(x0) + 0.5;\n",
       "    y0 = Math.floor(y0) + 0.5;\n",
       "    x1 = Math.floor(x1) + 0.5;\n",
       "    y1 = Math.floor(y1) + 0.5;\n",
       "    var min_x = Math.min(x0, x1);\n",
       "    var min_y = Math.min(y0, y1);\n",
       "    var width = Math.abs(x1 - x0);\n",
       "    var height = Math.abs(y1 - y0);\n",
       "\n",
       "    fig.rubberband_context.clearRect(\n",
       "        0,\n",
       "        0,\n",
       "        fig.canvas.width / fig.ratio,\n",
       "        fig.canvas.height / fig.ratio\n",
       "    );\n",
       "\n",
       "    fig.rubberband_context.strokeRect(min_x, min_y, width, height);\n",
       "};\n",
       "\n",
       "mpl.figure.prototype.handle_figure_label = function (fig, msg) {\n",
       "    // Updates the figure title.\n",
       "    fig.header.textContent = msg['label'];\n",
       "};\n",
       "\n",
       "mpl.figure.prototype.handle_cursor = function (fig, msg) {\n",
       "    fig.rubberband_canvas.style.cursor = msg['cursor'];\n",
       "};\n",
       "\n",
       "mpl.figure.prototype.handle_message = function (fig, msg) {\n",
       "    fig.message.textContent = msg['message'];\n",
       "};\n",
       "\n",
       "mpl.figure.prototype.handle_draw = function (fig, _msg) {\n",
       "    // Request the server to send over a new figure.\n",
       "    fig.send_draw_message();\n",
       "};\n",
       "\n",
       "mpl.figure.prototype.handle_image_mode = function (fig, msg) {\n",
       "    fig.image_mode = msg['mode'];\n",
       "};\n",
       "\n",
       "mpl.figure.prototype.handle_history_buttons = function (fig, msg) {\n",
       "    for (var key in msg) {\n",
       "        if (!(key in fig.buttons)) {\n",
       "            continue;\n",
       "        }\n",
       "        fig.buttons[key].disabled = !msg[key];\n",
       "        fig.buttons[key].setAttribute('aria-disabled', !msg[key]);\n",
       "    }\n",
       "};\n",
       "\n",
       "mpl.figure.prototype.handle_navigate_mode = function (fig, msg) {\n",
       "    if (msg['mode'] === 'PAN') {\n",
       "        fig.buttons['Pan'].classList.add('active');\n",
       "        fig.buttons['Zoom'].classList.remove('active');\n",
       "    } else if (msg['mode'] === 'ZOOM') {\n",
       "        fig.buttons['Pan'].classList.remove('active');\n",
       "        fig.buttons['Zoom'].classList.add('active');\n",
       "    } else {\n",
       "        fig.buttons['Pan'].classList.remove('active');\n",
       "        fig.buttons['Zoom'].classList.remove('active');\n",
       "    }\n",
       "};\n",
       "\n",
       "mpl.figure.prototype.updated_canvas_event = function () {\n",
       "    // Called whenever the canvas gets updated.\n",
       "    this.send_message('ack', {});\n",
       "};\n",
       "\n",
       "// A function to construct a web socket function for onmessage handling.\n",
       "// Called in the figure constructor.\n",
       "mpl.figure.prototype._make_on_message_function = function (fig) {\n",
       "    return function socket_on_message(evt) {\n",
       "        if (evt.data instanceof Blob) {\n",
       "            var img = evt.data;\n",
       "            if (img.type !== 'image/png') {\n",
       "                /* FIXME: We get \"Resource interpreted as Image but\n",
       "                 * transferred with MIME type text/plain:\" errors on\n",
       "                 * Chrome.  But how to set the MIME type?  It doesn't seem\n",
       "                 * to be part of the websocket stream */\n",
       "                img.type = 'image/png';\n",
       "            }\n",
       "\n",
       "            /* Free the memory for the previous frames */\n",
       "            if (fig.imageObj.src) {\n",
       "                (window.URL || window.webkitURL).revokeObjectURL(\n",
       "                    fig.imageObj.src\n",
       "                );\n",
       "            }\n",
       "\n",
       "            fig.imageObj.src = (window.URL || window.webkitURL).createObjectURL(\n",
       "                img\n",
       "            );\n",
       "            fig.updated_canvas_event();\n",
       "            fig.waiting = false;\n",
       "            return;\n",
       "        } else if (\n",
       "            typeof evt.data === 'string' &&\n",
       "            evt.data.slice(0, 21) === 'data:image/png;base64'\n",
       "        ) {\n",
       "            fig.imageObj.src = evt.data;\n",
       "            fig.updated_canvas_event();\n",
       "            fig.waiting = false;\n",
       "            return;\n",
       "        }\n",
       "\n",
       "        var msg = JSON.parse(evt.data);\n",
       "        var msg_type = msg['type'];\n",
       "\n",
       "        // Call the  \"handle_{type}\" callback, which takes\n",
       "        // the figure and JSON message as its only arguments.\n",
       "        try {\n",
       "            var callback = fig['handle_' + msg_type];\n",
       "        } catch (e) {\n",
       "            console.log(\n",
       "                \"No handler for the '\" + msg_type + \"' message type: \",\n",
       "                msg\n",
       "            );\n",
       "            return;\n",
       "        }\n",
       "\n",
       "        if (callback) {\n",
       "            try {\n",
       "                // console.log(\"Handling '\" + msg_type + \"' message: \", msg);\n",
       "                callback(fig, msg);\n",
       "            } catch (e) {\n",
       "                console.log(\n",
       "                    \"Exception inside the 'handler_\" + msg_type + \"' callback:\",\n",
       "                    e,\n",
       "                    e.stack,\n",
       "                    msg\n",
       "                );\n",
       "            }\n",
       "        }\n",
       "    };\n",
       "};\n",
       "\n",
       "// from https://stackoverflow.com/questions/1114465/getting-mouse-location-in-canvas\n",
       "mpl.findpos = function (e) {\n",
       "    //this section is from http://www.quirksmode.org/js/events_properties.html\n",
       "    var targ;\n",
       "    if (!e) {\n",
       "        e = window.event;\n",
       "    }\n",
       "    if (e.target) {\n",
       "        targ = e.target;\n",
       "    } else if (e.srcElement) {\n",
       "        targ = e.srcElement;\n",
       "    }\n",
       "    if (targ.nodeType === 3) {\n",
       "        // defeat Safari bug\n",
       "        targ = targ.parentNode;\n",
       "    }\n",
       "\n",
       "    // pageX,Y are the mouse positions relative to the document\n",
       "    var boundingRect = targ.getBoundingClientRect();\n",
       "    var x = e.pageX - (boundingRect.left + document.body.scrollLeft);\n",
       "    var y = e.pageY - (boundingRect.top + document.body.scrollTop);\n",
       "\n",
       "    return { x: x, y: y };\n",
       "};\n",
       "\n",
       "/*\n",
       " * return a copy of an object with only non-object keys\n",
       " * we need this to avoid circular references\n",
       " * https://stackoverflow.com/a/24161582/3208463\n",
       " */\n",
       "function simpleKeys(original) {\n",
       "    return Object.keys(original).reduce(function (obj, key) {\n",
       "        if (typeof original[key] !== 'object') {\n",
       "            obj[key] = original[key];\n",
       "        }\n",
       "        return obj;\n",
       "    }, {});\n",
       "}\n",
       "\n",
       "mpl.figure.prototype.mouse_event = function (event, name) {\n",
       "    var canvas_pos = mpl.findpos(event);\n",
       "\n",
       "    if (name === 'button_press') {\n",
       "        this.canvas.focus();\n",
       "        this.canvas_div.focus();\n",
       "    }\n",
       "\n",
       "    var x = canvas_pos.x * this.ratio;\n",
       "    var y = canvas_pos.y * this.ratio;\n",
       "\n",
       "    this.send_message(name, {\n",
       "        x: x,\n",
       "        y: y,\n",
       "        button: event.button,\n",
       "        step: event.step,\n",
       "        guiEvent: simpleKeys(event),\n",
       "    });\n",
       "\n",
       "    /* This prevents the web browser from automatically changing to\n",
       "     * the text insertion cursor when the button is pressed.  We want\n",
       "     * to control all of the cursor setting manually through the\n",
       "     * 'cursor' event from matplotlib */\n",
       "    event.preventDefault();\n",
       "    return false;\n",
       "};\n",
       "\n",
       "mpl.figure.prototype._key_event_extra = function (_event, _name) {\n",
       "    // Handle any extra behaviour associated with a key event\n",
       "};\n",
       "\n",
       "mpl.figure.prototype.key_event = function (event, name) {\n",
       "    // Prevent repeat events\n",
       "    if (name === 'key_press') {\n",
       "        if (event.key === this._key) {\n",
       "            return;\n",
       "        } else {\n",
       "            this._key = event.key;\n",
       "        }\n",
       "    }\n",
       "    if (name === 'key_release') {\n",
       "        this._key = null;\n",
       "    }\n",
       "\n",
       "    var value = '';\n",
       "    if (event.ctrlKey && event.key !== 'Control') {\n",
       "        value += 'ctrl+';\n",
       "    }\n",
       "    else if (event.altKey && event.key !== 'Alt') {\n",
       "        value += 'alt+';\n",
       "    }\n",
       "    else if (event.shiftKey && event.key !== 'Shift') {\n",
       "        value += 'shift+';\n",
       "    }\n",
       "\n",
       "    value += 'k' + event.key;\n",
       "\n",
       "    this._key_event_extra(event, name);\n",
       "\n",
       "    this.send_message(name, { key: value, guiEvent: simpleKeys(event) });\n",
       "    return false;\n",
       "};\n",
       "\n",
       "mpl.figure.prototype.toolbar_button_onclick = function (name) {\n",
       "    if (name === 'download') {\n",
       "        this.handle_save(this, null);\n",
       "    } else {\n",
       "        this.send_message('toolbar_button', { name: name });\n",
       "    }\n",
       "};\n",
       "\n",
       "mpl.figure.prototype.toolbar_button_onmouseover = function (tooltip) {\n",
       "    this.message.textContent = tooltip;\n",
       "};\n",
       "\n",
       "///////////////// REMAINING CONTENT GENERATED BY embed_js.py /////////////////\n",
       "// prettier-ignore\n",
       "var _JSXTOOLS_RESIZE_OBSERVER=function(A){var t,i=new WeakMap,n=new WeakMap,a=new WeakMap,r=new WeakMap,o=new Set;function s(e){if(!(this instanceof s))throw new TypeError(\"Constructor requires 'new' operator\");i.set(this,e)}function h(){throw new TypeError(\"Function is not a constructor\")}function c(e,t,i,n){e=0 in arguments?Number(arguments[0]):0,t=1 in arguments?Number(arguments[1]):0,i=2 in arguments?Number(arguments[2]):0,n=3 in arguments?Number(arguments[3]):0,this.right=(this.x=this.left=e)+(this.width=i),this.bottom=(this.y=this.top=t)+(this.height=n),Object.freeze(this)}function d(){t=requestAnimationFrame(d);var s=new WeakMap,p=new Set;o.forEach((function(t){r.get(t).forEach((function(i){var r=t instanceof window.SVGElement,o=a.get(t),d=r?0:parseFloat(o.paddingTop),f=r?0:parseFloat(o.paddingRight),l=r?0:parseFloat(o.paddingBottom),u=r?0:parseFloat(o.paddingLeft),g=r?0:parseFloat(o.borderTopWidth),m=r?0:parseFloat(o.borderRightWidth),w=r?0:parseFloat(o.borderBottomWidth),b=u+f,F=d+l,v=(r?0:parseFloat(o.borderLeftWidth))+m,W=g+w,y=r?0:t.offsetHeight-W-t.clientHeight,E=r?0:t.offsetWidth-v-t.clientWidth,R=b+v,z=F+W,M=r?t.width:parseFloat(o.width)-R-E,O=r?t.height:parseFloat(o.height)-z-y;if(n.has(t)){var k=n.get(t);if(k[0]===M&&k[1]===O)return}n.set(t,[M,O]);var S=Object.create(h.prototype);S.target=t,S.contentRect=new c(u,d,M,O),s.has(i)||(s.set(i,[]),p.add(i)),s.get(i).push(S)}))})),p.forEach((function(e){i.get(e).call(e,s.get(e),e)}))}return s.prototype.observe=function(i){if(i instanceof window.Element){r.has(i)||(r.set(i,new Set),o.add(i),a.set(i,window.getComputedStyle(i)));var n=r.get(i);n.has(this)||n.add(this),cancelAnimationFrame(t),t=requestAnimationFrame(d)}},s.prototype.unobserve=function(i){if(i instanceof window.Element&&r.has(i)){var n=r.get(i);n.has(this)&&(n.delete(this),n.size||(r.delete(i),o.delete(i))),n.size||r.delete(i),o.size||cancelAnimationFrame(t)}},A.DOMRectReadOnly=c,A.ResizeObserver=s,A.ResizeObserverEntry=h,A}; // eslint-disable-line\n",
       "mpl.toolbar_items = [[\"Home\", \"Reset original view\", \"fa fa-home\", \"home\"], [\"Back\", \"Back to previous view\", \"fa fa-arrow-left\", \"back\"], [\"Forward\", \"Forward to next view\", \"fa fa-arrow-right\", \"forward\"], [\"\", \"\", \"\", \"\"], [\"Pan\", \"Left button pans, Right button zooms\\nx/y fixes axis, CTRL fixes aspect\", \"fa fa-arrows\", \"pan\"], [\"Zoom\", \"Zoom to rectangle\\nx/y fixes axis\", \"fa fa-square-o\", \"zoom\"], [\"\", \"\", \"\", \"\"], [\"Download\", \"Download plot\", \"fa fa-floppy-o\", \"download\"]];\n",
       "\n",
       "mpl.extensions = [\"eps\", \"jpeg\", \"pgf\", \"pdf\", \"png\", \"ps\", \"raw\", \"svg\", \"tif\", \"webp\"];\n",
       "\n",
       "mpl.default_extension = \"png\";/* global mpl */\n",
       "\n",
       "var comm_websocket_adapter = function (comm) {\n",
       "    // Create a \"websocket\"-like object which calls the given IPython comm\n",
       "    // object with the appropriate methods. Currently this is a non binary\n",
       "    // socket, so there is still some room for performance tuning.\n",
       "    var ws = {};\n",
       "\n",
       "    ws.binaryType = comm.kernel.ws.binaryType;\n",
       "    ws.readyState = comm.kernel.ws.readyState;\n",
       "    function updateReadyState(_event) {\n",
       "        if (comm.kernel.ws) {\n",
       "            ws.readyState = comm.kernel.ws.readyState;\n",
       "        } else {\n",
       "            ws.readyState = 3; // Closed state.\n",
       "        }\n",
       "    }\n",
       "    comm.kernel.ws.addEventListener('open', updateReadyState);\n",
       "    comm.kernel.ws.addEventListener('close', updateReadyState);\n",
       "    comm.kernel.ws.addEventListener('error', updateReadyState);\n",
       "\n",
       "    ws.close = function () {\n",
       "        comm.close();\n",
       "    };\n",
       "    ws.send = function (m) {\n",
       "        //console.log('sending', m);\n",
       "        comm.send(m);\n",
       "    };\n",
       "    // Register the callback with on_msg.\n",
       "    comm.on_msg(function (msg) {\n",
       "        //console.log('receiving', msg['content']['data'], msg);\n",
       "        var data = msg['content']['data'];\n",
       "        if (data['blob'] !== undefined) {\n",
       "            data = {\n",
       "                data: new Blob(msg['buffers'], { type: data['blob'] }),\n",
       "            };\n",
       "        }\n",
       "        // Pass the mpl event to the overridden (by mpl) onmessage function.\n",
       "        ws.onmessage(data);\n",
       "    });\n",
       "    return ws;\n",
       "};\n",
       "\n",
       "mpl.mpl_figure_comm = function (comm, msg) {\n",
       "    // This is the function which gets called when the mpl process\n",
       "    // starts-up an IPython Comm through the \"matplotlib\" channel.\n",
       "\n",
       "    var id = msg.content.data.id;\n",
       "    // Get hold of the div created by the display call when the Comm\n",
       "    // socket was opened in Python.\n",
       "    var element = document.getElementById(id);\n",
       "    var ws_proxy = comm_websocket_adapter(comm);\n",
       "\n",
       "    function ondownload(figure, _format) {\n",
       "        window.open(figure.canvas.toDataURL());\n",
       "    }\n",
       "\n",
       "    var fig = new mpl.figure(id, ws_proxy, ondownload, element);\n",
       "\n",
       "    // Call onopen now - mpl needs it, as it is assuming we've passed it a real\n",
       "    // web socket which is closed, not our websocket->open comm proxy.\n",
       "    ws_proxy.onopen();\n",
       "\n",
       "    fig.parent_element = element;\n",
       "    fig.cell_info = mpl.find_output_cell(\"<div id='\" + id + \"'></div>\");\n",
       "    if (!fig.cell_info) {\n",
       "        console.error('Failed to find cell for figure', id, fig);\n",
       "        return;\n",
       "    }\n",
       "    fig.cell_info[0].output_area.element.on(\n",
       "        'cleared',\n",
       "        { fig: fig },\n",
       "        fig._remove_fig_handler\n",
       "    );\n",
       "};\n",
       "\n",
       "mpl.figure.prototype.handle_close = function (fig, msg) {\n",
       "    var width = fig.canvas.width / fig.ratio;\n",
       "    fig.cell_info[0].output_area.element.off(\n",
       "        'cleared',\n",
       "        fig._remove_fig_handler\n",
       "    );\n",
       "    fig.resizeObserverInstance.unobserve(fig.canvas_div);\n",
       "\n",
       "    // Update the output cell to use the data from the current canvas.\n",
       "    fig.push_to_output();\n",
       "    var dataURL = fig.canvas.toDataURL();\n",
       "    // Re-enable the keyboard manager in IPython - without this line, in FF,\n",
       "    // the notebook keyboard shortcuts fail.\n",
       "    IPython.keyboard_manager.enable();\n",
       "    fig.parent_element.innerHTML =\n",
       "        '<img src=\"' + dataURL + '\" width=\"' + width + '\">';\n",
       "    fig.close_ws(fig, msg);\n",
       "};\n",
       "\n",
       "mpl.figure.prototype.close_ws = function (fig, msg) {\n",
       "    fig.send_message('closing', msg);\n",
       "    // fig.ws.close()\n",
       "};\n",
       "\n",
       "mpl.figure.prototype.push_to_output = function (_remove_interactive) {\n",
       "    // Turn the data on the canvas into data in the output cell.\n",
       "    var width = this.canvas.width / this.ratio;\n",
       "    var dataURL = this.canvas.toDataURL();\n",
       "    this.cell_info[1]['text/html'] =\n",
       "        '<img src=\"' + dataURL + '\" width=\"' + width + '\">';\n",
       "};\n",
       "\n",
       "mpl.figure.prototype.updated_canvas_event = function () {\n",
       "    // Tell IPython that the notebook contents must change.\n",
       "    IPython.notebook.set_dirty(true);\n",
       "    this.send_message('ack', {});\n",
       "    var fig = this;\n",
       "    // Wait a second, then push the new image to the DOM so\n",
       "    // that it is saved nicely (might be nice to debounce this).\n",
       "    setTimeout(function () {\n",
       "        fig.push_to_output();\n",
       "    }, 1000);\n",
       "};\n",
       "\n",
       "mpl.figure.prototype._init_toolbar = function () {\n",
       "    var fig = this;\n",
       "\n",
       "    var toolbar = document.createElement('div');\n",
       "    toolbar.classList = 'btn-toolbar';\n",
       "    this.root.appendChild(toolbar);\n",
       "\n",
       "    function on_click_closure(name) {\n",
       "        return function (_event) {\n",
       "            return fig.toolbar_button_onclick(name);\n",
       "        };\n",
       "    }\n",
       "\n",
       "    function on_mouseover_closure(tooltip) {\n",
       "        return function (event) {\n",
       "            if (!event.currentTarget.disabled) {\n",
       "                return fig.toolbar_button_onmouseover(tooltip);\n",
       "            }\n",
       "        };\n",
       "    }\n",
       "\n",
       "    fig.buttons = {};\n",
       "    var buttonGroup = document.createElement('div');\n",
       "    buttonGroup.classList = 'btn-group';\n",
       "    var button;\n",
       "    for (var toolbar_ind in mpl.toolbar_items) {\n",
       "        var name = mpl.toolbar_items[toolbar_ind][0];\n",
       "        var tooltip = mpl.toolbar_items[toolbar_ind][1];\n",
       "        var image = mpl.toolbar_items[toolbar_ind][2];\n",
       "        var method_name = mpl.toolbar_items[toolbar_ind][3];\n",
       "\n",
       "        if (!name) {\n",
       "            /* Instead of a spacer, we start a new button group. */\n",
       "            if (buttonGroup.hasChildNodes()) {\n",
       "                toolbar.appendChild(buttonGroup);\n",
       "            }\n",
       "            buttonGroup = document.createElement('div');\n",
       "            buttonGroup.classList = 'btn-group';\n",
       "            continue;\n",
       "        }\n",
       "\n",
       "        button = fig.buttons[name] = document.createElement('button');\n",
       "        button.classList = 'btn btn-default';\n",
       "        button.href = '#';\n",
       "        button.title = name;\n",
       "        button.innerHTML = '<i class=\"fa ' + image + ' fa-lg\"></i>';\n",
       "        button.addEventListener('click', on_click_closure(method_name));\n",
       "        button.addEventListener('mouseover', on_mouseover_closure(tooltip));\n",
       "        buttonGroup.appendChild(button);\n",
       "    }\n",
       "\n",
       "    if (buttonGroup.hasChildNodes()) {\n",
       "        toolbar.appendChild(buttonGroup);\n",
       "    }\n",
       "\n",
       "    // Add the status bar.\n",
       "    var status_bar = document.createElement('span');\n",
       "    status_bar.classList = 'mpl-message pull-right';\n",
       "    toolbar.appendChild(status_bar);\n",
       "    this.message = status_bar;\n",
       "\n",
       "    // Add the close button to the window.\n",
       "    var buttongrp = document.createElement('div');\n",
       "    buttongrp.classList = 'btn-group inline pull-right';\n",
       "    button = document.createElement('button');\n",
       "    button.classList = 'btn btn-mini btn-primary';\n",
       "    button.href = '#';\n",
       "    button.title = 'Stop Interaction';\n",
       "    button.innerHTML = '<i class=\"fa fa-power-off icon-remove icon-large\"></i>';\n",
       "    button.addEventListener('click', function (_evt) {\n",
       "        fig.handle_close(fig, {});\n",
       "    });\n",
       "    button.addEventListener(\n",
       "        'mouseover',\n",
       "        on_mouseover_closure('Stop Interaction')\n",
       "    );\n",
       "    buttongrp.appendChild(button);\n",
       "    var titlebar = this.root.querySelector('.ui-dialog-titlebar');\n",
       "    titlebar.insertBefore(buttongrp, titlebar.firstChild);\n",
       "};\n",
       "\n",
       "mpl.figure.prototype._remove_fig_handler = function (event) {\n",
       "    var fig = event.data.fig;\n",
       "    if (event.target !== this) {\n",
       "        // Ignore bubbled events from children.\n",
       "        return;\n",
       "    }\n",
       "    fig.close_ws(fig, {});\n",
       "};\n",
       "\n",
       "mpl.figure.prototype._root_extra_style = function (el) {\n",
       "    el.style.boxSizing = 'content-box'; // override notebook setting of border-box.\n",
       "};\n",
       "\n",
       "mpl.figure.prototype._canvas_extra_style = function (el) {\n",
       "    // this is important to make the div 'focusable\n",
       "    el.setAttribute('tabindex', 0);\n",
       "    // reach out to IPython and tell the keyboard manager to turn it's self\n",
       "    // off when our div gets focus\n",
       "\n",
       "    // location in version 3\n",
       "    if (IPython.notebook.keyboard_manager) {\n",
       "        IPython.notebook.keyboard_manager.register_events(el);\n",
       "    } else {\n",
       "        // location in version 2\n",
       "        IPython.keyboard_manager.register_events(el);\n",
       "    }\n",
       "};\n",
       "\n",
       "mpl.figure.prototype._key_event_extra = function (event, _name) {\n",
       "    // Check for shift+enter\n",
       "    if (event.shiftKey && event.which === 13) {\n",
       "        this.canvas_div.blur();\n",
       "        // select the cell after this one\n",
       "        var index = IPython.notebook.find_cell_index(this.cell_info[0]);\n",
       "        IPython.notebook.select(index + 1);\n",
       "    }\n",
       "};\n",
       "\n",
       "mpl.figure.prototype.handle_save = function (fig, _msg) {\n",
       "    fig.ondownload(fig, null);\n",
       "};\n",
       "\n",
       "mpl.find_output_cell = function (html_output) {\n",
       "    // Return the cell and output element which can be found *uniquely* in the notebook.\n",
       "    // Note - this is a bit hacky, but it is done because the \"notebook_saving.Notebook\"\n",
       "    // IPython event is triggered only after the cells have been serialised, which for\n",
       "    // our purposes (turning an active figure into a static one), is too late.\n",
       "    var cells = IPython.notebook.get_cells();\n",
       "    var ncells = cells.length;\n",
       "    for (var i = 0; i < ncells; i++) {\n",
       "        var cell = cells[i];\n",
       "        if (cell.cell_type === 'code') {\n",
       "            for (var j = 0; j < cell.output_area.outputs.length; j++) {\n",
       "                var data = cell.output_area.outputs[j];\n",
       "                if (data.data) {\n",
       "                    // IPython >= 3 moved mimebundle to data attribute of output\n",
       "                    data = data.data;\n",
       "                }\n",
       "                if (data['text/html'] === html_output) {\n",
       "                    return [cell, data, j];\n",
       "                }\n",
       "            }\n",
       "        }\n",
       "    }\n",
       "};\n",
       "\n",
       "// Register the function which deals with the matplotlib target/channel.\n",
       "// The kernel may be null if the page has been refreshed.\n",
       "if (IPython.notebook.kernel !== null) {\n",
       "    IPython.notebook.kernel.comm_manager.register_target(\n",
       "        'matplotlib',\n",
       "        mpl.mpl_figure_comm\n",
       "    );\n",
       "}\n"
      ],
      "text/plain": [
       "<IPython.core.display.Javascript object>"
      ]
     },
     "metadata": {},
     "output_type": "display_data"
    },
    {
     "data": {
      "text/html": [
       "<img src=\"data:image/png;base64,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\" width=\"1400\">"
      ],
      "text/plain": [
       "<IPython.core.display.HTML object>"
      ]
     },
     "metadata": {},
     "output_type": "display_data"
    }
   ],
   "source": [
    "from matplotlib.animation import FuncAnimation\n",
    "\n",
    "\n",
    "fig = plt.figure(figsize=(14,7))\n",
    "ax1 = plt.subplot(121)\n",
    "ax2 = plt.subplot(222)\n",
    "ax3 = plt.subplot(224)\n",
    "pi_ani = PiAnimation(ax1, ax2, ax3)\n",
    "anim = FuncAnimation(fig, pi_ani, frames=10_000, interval=50, blit=True)\n",
    "plt.show()"
   ]
  },
  {
   "cell_type": "code",
   "execution_count": null,
   "metadata": {},
   "outputs": [],
   "source": []
  }
 ],
 "metadata": {
  "kernelspec": {
   "display_name": "Python 3 (ipykernel)",
   "language": "python",
   "name": "python3"
  },
  "language_info": {
   "codemirror_mode": {
    "name": "ipython",
    "version": 3
   },
   "file_extension": ".py",
   "mimetype": "text/x-python",
   "name": "python",
   "nbconvert_exporter": "python",
   "pygments_lexer": "ipython3",
   "version": "3.10.6"
  }
 },
 "nbformat": 4,
 "nbformat_minor": 4
}
